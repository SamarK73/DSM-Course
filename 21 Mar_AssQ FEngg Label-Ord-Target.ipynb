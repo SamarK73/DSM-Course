{
 "cells": [
  {
   "cell_type": "markdown",
   "id": "b761c89a",
   "metadata": {},
   "source": [
    "# Q1. What is the difference between Ordinal Encoding and Label Encoding? Provide an example of when you might choose one over the other."
   ]
  },
  {
   "cell_type": "markdown",
   "id": "61873333",
   "metadata": {},
   "source": [
    "## Label encoding\n",
    "Label encoding involves assigning a unique numerical label to each category in the variable.\n",
    "Labels are usually assigned in alphabetical order or based on the frequencies of the category.\n",
    "\n",
    "Example: If we have categorical variable color with 3 possible values (red, blue, green). we can represent using label encoding:\n",
    "\n",
    "1. Red --> 1\n",
    "2. Blue --> 2\n",
    "3. Green --> 3\n",
    "\n",
    "## Ordinal Encoding\n",
    "It is used to encode categorical data that have an intrinsic order or ranking. In this technique each category is assigned a numerical value based on its position in the order.\n",
    "Example: If we have categorical variable \"Education Level\" with 4 possible values('High School', 'College', 'Graduate', 'Post Graduate'). we can represent using ordinal encoding.\n",
    "1. High School --> 1\n",
    "2. College --> 2\n",
    "3. Graduate --> 3\n",
    "4. Post Graduate --> 4"
   ]
  },
  {
   "cell_type": "markdown",
   "id": "8315d71d",
   "metadata": {},
   "source": [
    "# Q2. Explain how Target Guided Ordinal Encoding works and provide an example of when you might use it ina machine learning project."
   ]
  },
  {
   "cell_type": "markdown",
   "id": "5bd806ec",
   "metadata": {},
   "source": [
    "Target Guided Ordinal Encoding is a type of encoding in which each unique value in a categorical feature is assigned an value based on the mean or median of the target variable for that category.\n"
   ]
  },
  {
   "cell_type": "code",
   "execution_count": 1,
   "id": "ae1bb27b",
   "metadata": {},
   "outputs": [],
   "source": [
    "import pandas as pd\n",
    "\n",
    "# creating dataframe\n",
    "df = pd.DataFrame({\n",
    "    'city' : ['New York', 'London', 'New York', 'Paris','London'],\n",
    "    'price': [100,200,300,250,400]\n",
    "})"
   ]
  },
  {
   "cell_type": "code",
   "execution_count": 2,
   "id": "1534602c",
   "metadata": {},
   "outputs": [
    {
     "data": {
      "text/html": [
       "<div>\n",
       "<style scoped>\n",
       "    .dataframe tbody tr th:only-of-type {\n",
       "        vertical-align: middle;\n",
       "    }\n",
       "\n",
       "    .dataframe tbody tr th {\n",
       "        vertical-align: top;\n",
       "    }\n",
       "\n",
       "    .dataframe thead th {\n",
       "        text-align: right;\n",
       "    }\n",
       "</style>\n",
       "<table border=\"1\" class=\"dataframe\">\n",
       "  <thead>\n",
       "    <tr style=\"text-align: right;\">\n",
       "      <th></th>\n",
       "      <th>city</th>\n",
       "      <th>price</th>\n",
       "    </tr>\n",
       "  </thead>\n",
       "  <tbody>\n",
       "    <tr>\n",
       "      <th>0</th>\n",
       "      <td>New York</td>\n",
       "      <td>100</td>\n",
       "    </tr>\n",
       "    <tr>\n",
       "      <th>1</th>\n",
       "      <td>London</td>\n",
       "      <td>200</td>\n",
       "    </tr>\n",
       "    <tr>\n",
       "      <th>2</th>\n",
       "      <td>New York</td>\n",
       "      <td>300</td>\n",
       "    </tr>\n",
       "    <tr>\n",
       "      <th>3</th>\n",
       "      <td>Paris</td>\n",
       "      <td>250</td>\n",
       "    </tr>\n",
       "    <tr>\n",
       "      <th>4</th>\n",
       "      <td>London</td>\n",
       "      <td>400</td>\n",
       "    </tr>\n",
       "  </tbody>\n",
       "</table>\n",
       "</div>"
      ],
      "text/plain": [
       "       city  price\n",
       "0  New York    100\n",
       "1    London    200\n",
       "2  New York    300\n",
       "3     Paris    250\n",
       "4    London    400"
      ]
     },
     "execution_count": 2,
     "metadata": {},
     "output_type": "execute_result"
    }
   ],
   "source": [
    "df"
   ]
  },
  {
   "cell_type": "code",
   "execution_count": 4,
   "id": "e6cf1e3f",
   "metadata": {},
   "outputs": [],
   "source": [
    "# mean by city\n",
    "mean_price = df.groupby('city')['price'].mean().to_dict()"
   ]
  },
  {
   "cell_type": "code",
   "execution_count": 5,
   "id": "8a3d2e67",
   "metadata": {},
   "outputs": [
    {
     "data": {
      "text/plain": [
       "{'London': 300, 'New York': 200, 'Paris': 250}"
      ]
     },
     "execution_count": 5,
     "metadata": {},
     "output_type": "execute_result"
    }
   ],
   "source": [
    "mean_price"
   ]
  },
  {
   "cell_type": "code",
   "execution_count": 6,
   "id": "3edeb13b",
   "metadata": {},
   "outputs": [],
   "source": [
    "df['city_encoded']= df['city'].map(mean_price)"
   ]
  },
  {
   "cell_type": "code",
   "execution_count": 7,
   "id": "4f91bfc5",
   "metadata": {},
   "outputs": [
    {
     "data": {
      "text/html": [
       "<div>\n",
       "<style scoped>\n",
       "    .dataframe tbody tr th:only-of-type {\n",
       "        vertical-align: middle;\n",
       "    }\n",
       "\n",
       "    .dataframe tbody tr th {\n",
       "        vertical-align: top;\n",
       "    }\n",
       "\n",
       "    .dataframe thead th {\n",
       "        text-align: right;\n",
       "    }\n",
       "</style>\n",
       "<table border=\"1\" class=\"dataframe\">\n",
       "  <thead>\n",
       "    <tr style=\"text-align: right;\">\n",
       "      <th></th>\n",
       "      <th>city</th>\n",
       "      <th>price</th>\n",
       "      <th>city_encoded</th>\n",
       "    </tr>\n",
       "  </thead>\n",
       "  <tbody>\n",
       "    <tr>\n",
       "      <th>0</th>\n",
       "      <td>New York</td>\n",
       "      <td>100</td>\n",
       "      <td>200</td>\n",
       "    </tr>\n",
       "    <tr>\n",
       "      <th>1</th>\n",
       "      <td>London</td>\n",
       "      <td>200</td>\n",
       "      <td>300</td>\n",
       "    </tr>\n",
       "    <tr>\n",
       "      <th>2</th>\n",
       "      <td>New York</td>\n",
       "      <td>300</td>\n",
       "      <td>200</td>\n",
       "    </tr>\n",
       "    <tr>\n",
       "      <th>3</th>\n",
       "      <td>Paris</td>\n",
       "      <td>250</td>\n",
       "      <td>250</td>\n",
       "    </tr>\n",
       "    <tr>\n",
       "      <th>4</th>\n",
       "      <td>London</td>\n",
       "      <td>400</td>\n",
       "      <td>300</td>\n",
       "    </tr>\n",
       "  </tbody>\n",
       "</table>\n",
       "</div>"
      ],
      "text/plain": [
       "       city  price  city_encoded\n",
       "0  New York    100           200\n",
       "1    London    200           300\n",
       "2  New York    300           200\n",
       "3     Paris    250           250\n",
       "4    London    400           300"
      ]
     },
     "execution_count": 7,
     "metadata": {},
     "output_type": "execute_result"
    }
   ],
   "source": [
    "df"
   ]
  },
  {
   "cell_type": "code",
   "execution_count": 8,
   "id": "44c79f54",
   "metadata": {},
   "outputs": [
    {
     "data": {
      "text/html": [
       "<div>\n",
       "<style scoped>\n",
       "    .dataframe tbody tr th:only-of-type {\n",
       "        vertical-align: middle;\n",
       "    }\n",
       "\n",
       "    .dataframe tbody tr th {\n",
       "        vertical-align: top;\n",
       "    }\n",
       "\n",
       "    .dataframe thead th {\n",
       "        text-align: right;\n",
       "    }\n",
       "</style>\n",
       "<table border=\"1\" class=\"dataframe\">\n",
       "  <thead>\n",
       "    <tr style=\"text-align: right;\">\n",
       "      <th></th>\n",
       "      <th>price</th>\n",
       "      <th>city_encoded</th>\n",
       "    </tr>\n",
       "  </thead>\n",
       "  <tbody>\n",
       "    <tr>\n",
       "      <th>0</th>\n",
       "      <td>100</td>\n",
       "      <td>200</td>\n",
       "    </tr>\n",
       "    <tr>\n",
       "      <th>1</th>\n",
       "      <td>200</td>\n",
       "      <td>300</td>\n",
       "    </tr>\n",
       "    <tr>\n",
       "      <th>2</th>\n",
       "      <td>300</td>\n",
       "      <td>200</td>\n",
       "    </tr>\n",
       "    <tr>\n",
       "      <th>3</th>\n",
       "      <td>250</td>\n",
       "      <td>250</td>\n",
       "    </tr>\n",
       "    <tr>\n",
       "      <th>4</th>\n",
       "      <td>400</td>\n",
       "      <td>300</td>\n",
       "    </tr>\n",
       "  </tbody>\n",
       "</table>\n",
       "</div>"
      ],
      "text/plain": [
       "   price  city_encoded\n",
       "0    100           200\n",
       "1    200           300\n",
       "2    300           200\n",
       "3    250           250\n",
       "4    400           300"
      ]
     },
     "execution_count": 8,
     "metadata": {},
     "output_type": "execute_result"
    }
   ],
   "source": [
    "df[['price','city_encoded']]"
   ]
  },
  {
   "cell_type": "markdown",
   "id": "de121069",
   "metadata": {},
   "source": [
    "# Q3. Define covariance and explain why it is important in statistical analysis. How is covariance calculated?"
   ]
  },
  {
   "cell_type": "markdown",
   "id": "841e4381",
   "metadata": {},
   "source": [
    "Covariance is a statistical tool used to determine the relationship between the movements of two random variables. Covariance is important in statistical analysis because it helps to understand the relationship between two variables and can be used to identify patterns and trends in the data.\n",
    "The positive covariance states that two assets are moving together give positive returns while negative covariance means returns move in the opposite direction.\n",
    "\n",
    "Covariance for population\n",
    "\n",
    "Cov(x,y) = Σ ((xi – x_bar) * (yi -y_bar)) / N\n",
    "\n",
    "Covariance for sample\n",
    "\n",
    "Cov(x,y) = Σ ((xi – x_bar) * (yi -y_bar)) / (N-1)\n",
    "\n",
    "xi = Data variable of x\n",
    "yi = Data variable of y\n",
    "x_bar = Mean of x\n",
    "y_bar = Mean of y\n",
    "N= Number of data variables."
   ]
  },
  {
   "cell_type": "markdown",
   "id": "970cdfe7",
   "metadata": {},
   "source": [
    "# Q4. For a dataset with the following categorical variables: Color (red, green, blue), Size (small, medium, large), and Material (wood, metal, plastic), perform label encoding using Python's scikit-learn library. Show your code and explain the output."
   ]
  },
  {
   "cell_type": "code",
   "execution_count": 15,
   "id": "f41e6f02",
   "metadata": {},
   "outputs": [
    {
     "data": {
      "text/html": [
       "<div>\n",
       "<style scoped>\n",
       "    .dataframe tbody tr th:only-of-type {\n",
       "        vertical-align: middle;\n",
       "    }\n",
       "\n",
       "    .dataframe tbody tr th {\n",
       "        vertical-align: top;\n",
       "    }\n",
       "\n",
       "    .dataframe thead th {\n",
       "        text-align: right;\n",
       "    }\n",
       "</style>\n",
       "<table border=\"1\" class=\"dataframe\">\n",
       "  <thead>\n",
       "    <tr style=\"text-align: right;\">\n",
       "      <th></th>\n",
       "      <th>Color</th>\n",
       "      <th>Size</th>\n",
       "      <th>Material</th>\n",
       "    </tr>\n",
       "  </thead>\n",
       "  <tbody>\n",
       "    <tr>\n",
       "      <th>0</th>\n",
       "      <td>2</td>\n",
       "      <td>2</td>\n",
       "      <td>2</td>\n",
       "    </tr>\n",
       "    <tr>\n",
       "      <th>1</th>\n",
       "      <td>1</td>\n",
       "      <td>0</td>\n",
       "      <td>1</td>\n",
       "    </tr>\n",
       "    <tr>\n",
       "      <th>2</th>\n",
       "      <td>2</td>\n",
       "      <td>1</td>\n",
       "      <td>0</td>\n",
       "    </tr>\n",
       "    <tr>\n",
       "      <th>3</th>\n",
       "      <td>0</td>\n",
       "      <td>2</td>\n",
       "      <td>2</td>\n",
       "    </tr>\n",
       "    <tr>\n",
       "      <th>4</th>\n",
       "      <td>1</td>\n",
       "      <td>1</td>\n",
       "      <td>0</td>\n",
       "    </tr>\n",
       "  </tbody>\n",
       "</table>\n",
       "</div>"
      ],
      "text/plain": [
       "   Color  Size  Material\n",
       "0      2     2         2\n",
       "1      1     0         1\n",
       "2      2     1         0\n",
       "3      0     2         2\n",
       "4      1     1         0"
      ]
     },
     "execution_count": 15,
     "metadata": {},
     "output_type": "execute_result"
    }
   ],
   "source": [
    "import pandas as pd\n",
    "from sklearn.preprocessing import LabelEncoder\n",
    "\n",
    "data_dict = {'Color' : ['red','green','red','blue','green'],\n",
    "             'Size'  : ['small','large','medium','small','medium'],\n",
    "             'Material' : ['wood', 'plastic','metal','wood','metal']\n",
    "            }\n",
    "\n",
    "# Data Columns\n",
    "data_col = ['Color', 'Size','Material']\n",
    "# dataframe \n",
    "df = pd.DataFrame(data_dict)\n",
    "\n",
    "    \n",
    "\n",
    "le = LabelEncoder()\n",
    "\n",
    "df[data_col] = df[data_col].apply(le.fit_transform)\n",
    "\n",
    "df.head()\n"
   ]
  },
  {
   "cell_type": "markdown",
   "id": "7c75a3f0",
   "metadata": {},
   "source": [
    "# Q5. Calculate the covariance matrix for the following variables in a dataset: Age, Income, and Education level. Interpret the results."
   ]
  },
  {
   "cell_type": "code",
   "execution_count": 71,
   "id": "363a77f5",
   "metadata": {},
   "outputs": [
    {
     "data": {
      "text/html": [
       "<div>\n",
       "<style scoped>\n",
       "    .dataframe tbody tr th:only-of-type {\n",
       "        vertical-align: middle;\n",
       "    }\n",
       "\n",
       "    .dataframe tbody tr th {\n",
       "        vertical-align: top;\n",
       "    }\n",
       "\n",
       "    .dataframe thead th {\n",
       "        text-align: right;\n",
       "    }\n",
       "</style>\n",
       "<table border=\"1\" class=\"dataframe\">\n",
       "  <thead>\n",
       "    <tr style=\"text-align: right;\">\n",
       "      <th></th>\n",
       "      <th>Age</th>\n",
       "      <th>Income</th>\n",
       "      <th>Education Level</th>\n",
       "    </tr>\n",
       "  </thead>\n",
       "  <tbody>\n",
       "    <tr>\n",
       "      <th>0</th>\n",
       "      <td>41</td>\n",
       "      <td>41859.499268</td>\n",
       "      <td>Bachelor</td>\n",
       "    </tr>\n",
       "    <tr>\n",
       "      <th>1</th>\n",
       "      <td>45</td>\n",
       "      <td>45414.734329</td>\n",
       "      <td>Bachelor</td>\n",
       "    </tr>\n",
       "    <tr>\n",
       "      <th>2</th>\n",
       "      <td>54</td>\n",
       "      <td>54197.446904</td>\n",
       "      <td>Masters</td>\n",
       "    </tr>\n",
       "    <tr>\n",
       "      <th>3</th>\n",
       "      <td>31</td>\n",
       "      <td>30854.233199</td>\n",
       "      <td>High School</td>\n",
       "    </tr>\n",
       "    <tr>\n",
       "      <th>4</th>\n",
       "      <td>28</td>\n",
       "      <td>29646.930671</td>\n",
       "      <td>PhD</td>\n",
       "    </tr>\n",
       "  </tbody>\n",
       "</table>\n",
       "</div>"
      ],
      "text/plain": [
       "   Age        Income Education Level\n",
       "0   41  41859.499268        Bachelor\n",
       "1   45  45414.734329        Bachelor\n",
       "2   54  54197.446904         Masters\n",
       "3   31  30854.233199     High School\n",
       "4   28  29646.930671             PhD"
      ]
     },
     "execution_count": 71,
     "metadata": {},
     "output_type": "execute_result"
    }
   ],
   "source": [
    "import numpy as np\n",
    "import pandas as pd\n",
    "\n",
    "np.random.seed(780)\n",
    "\n",
    "# Generating Data\n",
    "n=1000\n",
    "age = np.random.randint(20,60,size=n)\n",
    "income = 1000*age+ np.random.normal(loc=0, scale=1000, size=n)\n",
    "Edu_level = np.random.choice(['High School','Bachelor','Masters','PhD'],size=n)\n",
    "\n",
    "df = pd.DataFrame({\n",
    "    'Age':age,\n",
    "    'Income':income,\n",
    "    'Education Level':Edu_level\n",
    "})\n",
    "df.head()\n"
   ]
  },
  {
   "cell_type": "code",
   "execution_count": 72,
   "id": "5b764df5",
   "metadata": {},
   "outputs": [
    {
     "data": {
      "text/html": [
       "<div>\n",
       "<style scoped>\n",
       "    .dataframe tbody tr th:only-of-type {\n",
       "        vertical-align: middle;\n",
       "    }\n",
       "\n",
       "    .dataframe tbody tr th {\n",
       "        vertical-align: top;\n",
       "    }\n",
       "\n",
       "    .dataframe thead th {\n",
       "        text-align: right;\n",
       "    }\n",
       "</style>\n",
       "<table border=\"1\" class=\"dataframe\">\n",
       "  <thead>\n",
       "    <tr style=\"text-align: right;\">\n",
       "      <th></th>\n",
       "      <th>Age</th>\n",
       "      <th>Income</th>\n",
       "      <th>Education Level</th>\n",
       "    </tr>\n",
       "  </thead>\n",
       "  <tbody>\n",
       "    <tr>\n",
       "      <th>0</th>\n",
       "      <td>41</td>\n",
       "      <td>41859.499268</td>\n",
       "      <td>1.0</td>\n",
       "    </tr>\n",
       "    <tr>\n",
       "      <th>1</th>\n",
       "      <td>45</td>\n",
       "      <td>45414.734329</td>\n",
       "      <td>1.0</td>\n",
       "    </tr>\n",
       "    <tr>\n",
       "      <th>2</th>\n",
       "      <td>54</td>\n",
       "      <td>54197.446904</td>\n",
       "      <td>2.0</td>\n",
       "    </tr>\n",
       "    <tr>\n",
       "      <th>3</th>\n",
       "      <td>31</td>\n",
       "      <td>30854.233199</td>\n",
       "      <td>0.0</td>\n",
       "    </tr>\n",
       "    <tr>\n",
       "      <th>4</th>\n",
       "      <td>28</td>\n",
       "      <td>29646.930671</td>\n",
       "      <td>3.0</td>\n",
       "    </tr>\n",
       "  </tbody>\n",
       "</table>\n",
       "</div>"
      ],
      "text/plain": [
       "   Age        Income  Education Level\n",
       "0   41  41859.499268              1.0\n",
       "1   45  45414.734329              1.0\n",
       "2   54  54197.446904              2.0\n",
       "3   31  30854.233199              0.0\n",
       "4   28  29646.930671              3.0"
      ]
     },
     "execution_count": 72,
     "metadata": {},
     "output_type": "execute_result"
    }
   ],
   "source": [
    "# Ordinal encoding on Education Level\n",
    "from sklearn.preprocessing import OrdinalEncoder\n",
    "\n",
    "oe = OrdinalEncoder(categories=[['High School','Bachelor','Masters','PhD']])\n",
    "edu_encoded = oe.fit_transform(df[['Education Level']])\n",
    "df['Education Level'] = np.ravel(edu_encoded)\n",
    "\n",
    "df.head()\n",
    "\n"
   ]
  },
  {
   "cell_type": "code",
   "execution_count": 73,
   "id": "a66b06f4",
   "metadata": {},
   "outputs": [
    {
     "data": {
      "text/html": [
       "<div>\n",
       "<style scoped>\n",
       "    .dataframe tbody tr th:only-of-type {\n",
       "        vertical-align: middle;\n",
       "    }\n",
       "\n",
       "    .dataframe tbody tr th {\n",
       "        vertical-align: top;\n",
       "    }\n",
       "\n",
       "    .dataframe thead th {\n",
       "        text-align: right;\n",
       "    }\n",
       "</style>\n",
       "<table border=\"1\" class=\"dataframe\">\n",
       "  <thead>\n",
       "    <tr style=\"text-align: right;\">\n",
       "      <th></th>\n",
       "      <th>Age</th>\n",
       "      <th>Income</th>\n",
       "      <th>Education Level</th>\n",
       "    </tr>\n",
       "  </thead>\n",
       "  <tbody>\n",
       "    <tr>\n",
       "      <th>Age</th>\n",
       "      <td>132.513264</td>\n",
       "      <td>1.321082e+05</td>\n",
       "      <td>0.368882</td>\n",
       "    </tr>\n",
       "    <tr>\n",
       "      <th>Income</th>\n",
       "      <td>132108.214928</td>\n",
       "      <td>1.326720e+08</td>\n",
       "      <td>367.974257</td>\n",
       "    </tr>\n",
       "    <tr>\n",
       "      <th>Education Level</th>\n",
       "      <td>0.368882</td>\n",
       "      <td>3.679743e+02</td>\n",
       "      <td>1.225144</td>\n",
       "    </tr>\n",
       "  </tbody>\n",
       "</table>\n",
       "</div>"
      ],
      "text/plain": [
       "                           Age        Income  Education Level\n",
       "Age                 132.513264  1.321082e+05         0.368882\n",
       "Income           132108.214928  1.326720e+08       367.974257\n",
       "Education Level       0.368882  3.679743e+02         1.225144"
      ]
     },
     "execution_count": 73,
     "metadata": {},
     "output_type": "execute_result"
    }
   ],
   "source": [
    "# covariance\n",
    "\n",
    "df.cov()"
   ]
  },
  {
   "cell_type": "markdown",
   "id": "7fc669aa",
   "metadata": {},
   "source": [
    "# Q6. You are working on a machine learning project with a dataset containing several categorical variables, including \"Gender\" (Male/Female), \"Education Level\" (High School/Bachelor's/Master's/PhD), and \"Employment Status\" (Unemployed/Part-Time/Full-Time). Which encoding method would you use for each variable, and why?\n"
   ]
  },
  {
   "cell_type": "markdown",
   "id": "25be579e",
   "metadata": {},
   "source": [
    "For Gender, we would use binary encoding as there are only two categories. For Education Level, we can use ordinal encoding as there is an inherent order to the categories (i.e., higher levels of education imply more education than lower levels). For Employment Status, we can use one-hot encoding as there is no order or hierarchy to the categories."
   ]
  },
  {
   "cell_type": "markdown",
   "id": "1873f439",
   "metadata": {},
   "source": [
    "# Q7. You are analyzing a dataset with two continuous variables, \"Temperature\" and \"Humidity\", and two categorical variables, \"Weather Condition\" (Sunny/Cloudy/Rainy) and \"Wind Direction\" (North/South/ East/West). Calculate the covariance between each pair of variables and interpret the results."
   ]
  },
  {
   "cell_type": "code",
   "execution_count": 74,
   "id": "5d3bae67",
   "metadata": {},
   "outputs": [
    {
     "data": {
      "text/html": [
       "<div>\n",
       "<style scoped>\n",
       "    .dataframe tbody tr th:only-of-type {\n",
       "        vertical-align: middle;\n",
       "    }\n",
       "\n",
       "    .dataframe tbody tr th {\n",
       "        vertical-align: top;\n",
       "    }\n",
       "\n",
       "    .dataframe thead th {\n",
       "        text-align: right;\n",
       "    }\n",
       "</style>\n",
       "<table border=\"1\" class=\"dataframe\">\n",
       "  <thead>\n",
       "    <tr style=\"text-align: right;\">\n",
       "      <th></th>\n",
       "      <th>Temperature</th>\n",
       "      <th>Humidity</th>\n",
       "      <th>Weather Condition</th>\n",
       "      <th>Wind Direction</th>\n",
       "    </tr>\n",
       "  </thead>\n",
       "  <tbody>\n",
       "    <tr>\n",
       "      <th>0</th>\n",
       "      <td>22.722445</td>\n",
       "      <td>42.045473</td>\n",
       "      <td>Sunny</td>\n",
       "      <td>East</td>\n",
       "    </tr>\n",
       "    <tr>\n",
       "      <th>1</th>\n",
       "      <td>41.096929</td>\n",
       "      <td>50.470654</td>\n",
       "      <td>Rainy</td>\n",
       "      <td>West</td>\n",
       "    </tr>\n",
       "    <tr>\n",
       "      <th>2</th>\n",
       "      <td>23.631519</td>\n",
       "      <td>62.592838</td>\n",
       "      <td>Rainy</td>\n",
       "      <td>East</td>\n",
       "    </tr>\n",
       "    <tr>\n",
       "      <th>3</th>\n",
       "      <td>31.629016</td>\n",
       "      <td>59.497223</td>\n",
       "      <td>Cloudy</td>\n",
       "      <td>North</td>\n",
       "    </tr>\n",
       "    <tr>\n",
       "      <th>4</th>\n",
       "      <td>56.417450</td>\n",
       "      <td>60.901102</td>\n",
       "      <td>Cloudy</td>\n",
       "      <td>South</td>\n",
       "    </tr>\n",
       "  </tbody>\n",
       "</table>\n",
       "</div>"
      ],
      "text/plain": [
       "   Temperature   Humidity Weather Condition Wind Direction\n",
       "0    22.722445  42.045473             Sunny           East\n",
       "1    41.096929  50.470654             Rainy           West\n",
       "2    23.631519  62.592838             Rainy           East\n",
       "3    31.629016  59.497223            Cloudy          North\n",
       "4    56.417450  60.901102            Cloudy          South"
      ]
     },
     "execution_count": 74,
     "metadata": {},
     "output_type": "execute_result"
    }
   ],
   "source": [
    "import numpy as np\n",
    "import pandas as pd\n",
    "\n",
    "# Set seed for reproducibility\n",
    "np.random.seed(300)\n",
    "\n",
    "# Generate data\n",
    "n = 1000\n",
    "temp = np.random.normal(45, 15, n)\n",
    "humidity = np.random.normal(60, 10, n)\n",
    "weather_condition = np.random.choice(['Sunny', 'Cloudy', 'Rainy'], size=n)\n",
    "wind_direction = np.random.choice(['North', 'South', 'East', 'West'], size=n)\n",
    "\n",
    "# Create dataframe\n",
    "df = pd.DataFrame({\n",
    "    'Temperature': temp, \n",
    "    'Humidity': humidity, \n",
    "    'Weather Condition': weather_condition, \n",
    "    'Wind Direction': wind_direction\n",
    "})\n",
    "\n",
    "# Show first few rows\n",
    "df.head()\n"
   ]
  },
  {
   "cell_type": "code",
   "execution_count": 76,
   "id": "15537dbb",
   "metadata": {},
   "outputs": [
    {
     "name": "stdout",
     "output_type": "stream",
     "text": [
      "             Temperature   Humidity\n",
      "Temperature   221.438177   1.930439\n",
      "Humidity        1.930439  94.794605\n"
     ]
    }
   ],
   "source": [
    "cov_matrix = df[['Temperature','Humidity']].cov()\n",
    "print(cov_matrix)"
   ]
  },
  {
   "cell_type": "markdown",
   "id": "27b33feb",
   "metadata": {},
   "source": [
    "The covariance between \"Temperature\" and \"Humidity\" is 1.930 , indicating a positive relationship between the two variables. This means that as temperature increases, humidity tends to increase as well. The variances of each variable are shown on the diagonal, with Humidity having a larger variance than Temperature."
   ]
  },
  {
   "cell_type": "code",
   "execution_count": 77,
   "id": "1c7a3c60",
   "metadata": {},
   "outputs": [
    {
     "name": "stdout",
     "output_type": "stream",
     "text": [
      "                          Weather Condition_Cloudy  Weather Condition_Rainy  \\\n",
      "Weather Condition_Cloudy                  0.221998                -0.113325   \n",
      "Weather Condition_Rainy                  -0.113325                 0.224944   \n",
      "Weather Condition_Sunny                  -0.108673                -0.111619   \n",
      "Wind Direction_East                       0.008657                 0.000525   \n",
      "Wind Direction_North                     -0.004645                 0.001932   \n",
      "Wind Direction_South                      0.000332                -0.001911   \n",
      "Wind Direction_West                      -0.004344                -0.000546   \n",
      "\n",
      "                          Weather Condition_Sunny  Wind Direction_East  \\\n",
      "Weather Condition_Cloudy                -0.108673             0.008657   \n",
      "Weather Condition_Rainy                 -0.111619             0.000525   \n",
      "Weather Condition_Sunny                  0.220291            -0.009181   \n",
      "Wind Direction_East                     -0.009181             0.180484   \n",
      "Wind Direction_North                     0.002713            -0.063784   \n",
      "Wind Direction_South                     0.001579            -0.058823   \n",
      "Wind Direction_West                      0.004890            -0.057878   \n",
      "\n",
      "                          Wind Direction_North  Wind Direction_South  \\\n",
      "Weather Condition_Cloudy             -0.004645              0.000332   \n",
      "Weather Condition_Rainy               0.001932             -0.001911   \n",
      "Weather Condition_Sunny               0.002713              0.001579   \n",
      "Wind Direction_East                  -0.063784             -0.058823   \n",
      "Wind Direction_North                  0.197297             -0.067297   \n",
      "Wind Direction_South                 -0.067297              0.187186   \n",
      "Wind Direction_West                  -0.066216             -0.061066   \n",
      "\n",
      "                          Wind Direction_West  \n",
      "Weather Condition_Cloudy            -0.004344  \n",
      "Weather Condition_Rainy             -0.000546  \n",
      "Weather Condition_Sunny              0.004890  \n",
      "Wind Direction_East                 -0.057878  \n",
      "Wind Direction_North                -0.066216  \n",
      "Wind Direction_South                -0.061066  \n",
      "Wind Direction_West                  0.185160  \n"
     ]
    }
   ],
   "source": [
    "cov_matrix = pd.get_dummies(df[['Weather Condition', 'Wind Direction']]).cov()\n",
    "print(cov_matrix)"
   ]
  },
  {
   "cell_type": "code",
   "execution_count": null,
   "id": "922114cb",
   "metadata": {},
   "outputs": [],
   "source": []
  }
 ],
 "metadata": {
  "kernelspec": {
   "display_name": "Python 3",
   "language": "python",
   "name": "python3"
  },
  "language_info": {
   "codemirror_mode": {
    "name": "ipython",
    "version": 3
   },
   "file_extension": ".py",
   "mimetype": "text/x-python",
   "name": "python",
   "nbconvert_exporter": "python",
   "pygments_lexer": "ipython3",
   "version": "3.8.8"
  }
 },
 "nbformat": 4,
 "nbformat_minor": 5
}
