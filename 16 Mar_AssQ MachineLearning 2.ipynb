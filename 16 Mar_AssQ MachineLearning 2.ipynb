{
 "cells": [
  {
   "cell_type": "markdown",
   "id": "89b2c914",
   "metadata": {},
   "source": [
    "# Q1: Define overfitting and underfitting in machine learning. What are the consequences of each, and how can they be mitigated?"
   ]
  },
  {
   "cell_type": "markdown",
   "id": "9d775492",
   "metadata": {},
   "source": [
    "## Overfitting: \n",
    "\n",
    "After model is trained and If the accuracy of train dataset is good say 95% and model is performing well. But test dataset accuracy is low(65%). This type of scenario is called overfitting. Overfitted model is low bias and high variance.\n",
    "\n",
    "## Underfitting:\n",
    "\n",
    "If training dataset accuracy is low and test dataset accuracy also low then the model is underfitting. An underfitted model is high bias and low variance.\n",
    "\n",
    "Overfitting simply means that the learning model is far too dependent on training data while underfitting model has a poor realtionship with the training data\n",
    "\n",
    "There are some ways by which we can reduce the occurence of overfitting model:\n",
    "1. Cross-Validation\n",
    "2. Training with more data\n",
    "3. Removing features\n",
    "4. Early stopping the training\n",
    "5. Regularization\n",
    "6. Ensembling\n",
    "\n",
    "How to avoid underfitting:\n",
    "1. By increasing the training time of the model.\n",
    "2. By increasing the number of features\n",
    "\n"
   ]
  },
  {
   "cell_type": "markdown",
   "id": "7493452c",
   "metadata": {},
   "source": [
    "# Q2: How can we reduce overfitting? Explain in brief."
   ]
  },
  {
   "cell_type": "markdown",
   "id": "f5067870",
   "metadata": {},
   "source": [
    "Overfitting cause the degraded performance of the machine learning model. There are some ways by which we can reduce the occurence of overfitting model:\n",
    "\n",
    "1. Cross-Validation\n",
    "2. Training with more data\n",
    "3. Removing features\n",
    "4. Early stopping the training\n",
    "5. Regularization\n",
    "6. Ensembling"
   ]
  },
  {
   "cell_type": "markdown",
   "id": "74a81a6f",
   "metadata": {},
   "source": [
    "# Q3: Explain underfitting. List scenarios where underfitting can occur in ML."
   ]
  },
  {
   "cell_type": "markdown",
   "id": "9fef40ea",
   "metadata": {},
   "source": [
    "If training dataset accuracy is low and test dataset accuracy also low then the model is underfitting. In the case of underfitting, the model is not able to learn enough from the training data, and hence it reduces the accuracy and produces unreliable predictions\n",
    "An underfitted model is high bias and low variance.\n",
    "Underfitting of machine learning models happens when you are not able to reduce the training error. This can happen in some of the following scenarios:\n",
    "1. When the training set has far fewer observations than variables, this may lead to underfitting or low bias machine learning models\n",
    "2. When machine learning algorithm cannot find any pattern between training and testing set variables which may happen in the high-dimensional dataset or a large number of input variables."
   ]
  },
  {
   "cell_type": "markdown",
   "id": "67337615",
   "metadata": {},
   "source": [
    "# Q4: Explain the bias-variance tradeoff in machine learning. What is the relationship between bias and variance, and how do they affect model performance?"
   ]
  },
  {
   "cell_type": "markdown",
   "id": "3017a1d2",
   "metadata": {},
   "source": [
    "If  the algorithm is too simple (hypothesis with linear eq.) then it may be on high bias and low variance condition and thus is error-prone. If algorithms fit too complex ( hypothesis with high degree eq.) then it may be on high variance and low bias.\n",
    "\n",
    "Bias and variance are inversely connected. It is impossible to have an ML model with a low bias and a low variance.  When a data engineer modifies the ML algorithm to better fit a given data set, it will lead to low bias—but it will increase variance."
   ]
  },
  {
   "cell_type": "markdown",
   "id": "6e9c4424",
   "metadata": {},
   "source": [
    "# Q5: Discuss some common methods for detecting overfitting and underfitting in machine learning models. How can you determine whether your model is overfitting or underfitting?"
   ]
  },
  {
   "cell_type": "markdown",
   "id": "529fa6e3",
   "metadata": {},
   "source": [
    "We can identify overfitting by looking at validation metrics, like loss or accuracy. \n",
    "We can determine whether a predictive model is underfitting or overfitting the training data by looking at the prediction error on the training data and the evaluation data. \n",
    "Your model is underfitting the training data when the model performs poorly on the training data.\n",
    "\n",
    "Your model is overfitting your training data when you see that the model performs well on the training data but does not perform well on the evaluation data."
   ]
  },
  {
   "cell_type": "markdown",
   "id": "7c8618a0",
   "metadata": {},
   "source": [
    "# Q6: Compare and contrast bias and variance in machine learning. What are some examples of high bias and high variance models, and how do they differ in terms of their performance?"
   ]
  },
  {
   "cell_type": "markdown",
   "id": "1d1a5267",
   "metadata": {},
   "source": [
    "Bias is considered a systematic error that occurs in the machine learning model itself due to incorrect assumptions in the ML process.\n",
    "\n",
    "1. Characteristics of a high bias model include:\n",
    "2. Failure to capture proper data trends\n",
    "3. Potential towards underfitting\n",
    "4. More generalized/overly simplified\n",
    "5. High error rate\n",
    "\n",
    "Variance is the variability in the model prediction—how much the ML function can adjust depending on the given data set. \n",
    "Characteristics of a high variance model include:\n",
    "\n",
    "1. Noise in the data set\n",
    "2. Potential towards overfitting\n",
    "3. Complex models\n",
    "4. Trying to put all data points as close as possible\n",
    "\n",
    "In practice, bias and variance tradeoff depends on the problem domain and the size of the dataset. A model with high bias may be appropriate for small datasets or simple problems, while a model with high variance may be appropriate for large datasets or complex problems. The choice of the model should depend on the specific problem, the size of the dataset, and the desired performance metrics."
   ]
  },
  {
   "cell_type": "markdown",
   "id": "6488b336",
   "metadata": {},
   "source": [
    "# Q7: What is regularization in machine learning, and how can it be used to prevent overfitting? Describe some common regularization techniques and how they work."
   ]
  },
  {
   "cell_type": "markdown",
   "id": "1b5699f0",
   "metadata": {},
   "source": [
    "Regularization refers to techniques that are used to calibrate machine learning models in order to minimize the adjusted loss function and prevent overfitting or underfitting.\n",
    "\n",
    "There are two main types of regularization techniques: Ridge Regularization and Lasso Regularization.\n",
    "\n",
    "Ridge(L2) Regularization : \n",
    "It modifies the over-fitted or under fitted models by adding the penalty equivalent to the sum of the squares of the magnitude of coefficients.\n",
    "\n",
    "Lasso(L1) Regression:\n",
    "It modifies the over-fitted or under-fitted models by adding the penalty equivalent to the sum of the absolute values of coefficients. \n"
   ]
  },
  {
   "cell_type": "code",
   "execution_count": null,
   "id": "273a6bff",
   "metadata": {},
   "outputs": [],
   "source": []
  }
 ],
 "metadata": {
  "kernelspec": {
   "display_name": "Python 3",
   "language": "python",
   "name": "python3"
  },
  "language_info": {
   "codemirror_mode": {
    "name": "ipython",
    "version": 3
   },
   "file_extension": ".py",
   "mimetype": "text/x-python",
   "name": "python",
   "nbconvert_exporter": "python",
   "pygments_lexer": "ipython3",
   "version": "3.8.8"
  }
 },
 "nbformat": 4,
 "nbformat_minor": 5
}
