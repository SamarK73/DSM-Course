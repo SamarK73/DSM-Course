{
 "cells": [
  {
   "cell_type": "code",
   "execution_count": 1,
   "id": "86a2417d",
   "metadata": {},
   "outputs": [],
   "source": [
    "import numpy as np"
   ]
  },
  {
   "cell_type": "code",
   "execution_count": 3,
   "id": "297735af",
   "metadata": {},
   "outputs": [],
   "source": [
    "list_ = ['1', '2','3','4','5']"
   ]
  },
  {
   "cell_type": "code",
   "execution_count": 4,
   "id": "d8ec286d",
   "metadata": {},
   "outputs": [],
   "source": [
    "array_list = np.array(object=list_)"
   ]
  },
  {
   "cell_type": "markdown",
   "id": "f0dacfad",
   "metadata": {},
   "source": [
    "# Q1. Is there any difference in the data type of variables list_ and array_list? If there is then write a code to print the data types of both the variables."
   ]
  },
  {
   "cell_type": "code",
   "execution_count": 15,
   "id": "58da4d90",
   "metadata": {},
   "outputs": [
    {
     "data": {
      "text/plain": [
       "list"
      ]
     },
     "execution_count": 15,
     "metadata": {},
     "output_type": "execute_result"
    }
   ],
   "source": [
    "type(list_)"
   ]
  },
  {
   "cell_type": "code",
   "execution_count": 16,
   "id": "3174aac7",
   "metadata": {},
   "outputs": [
    {
     "data": {
      "text/plain": [
       "numpy.ndarray"
      ]
     },
     "execution_count": 16,
     "metadata": {},
     "output_type": "execute_result"
    }
   ],
   "source": [
    "type(array_list)"
   ]
  },
  {
   "cell_type": "markdown",
   "id": "a32b1603",
   "metadata": {},
   "source": [
    "# Q2. Write a code to print the data type of each and every element of both the variables list_ and array_list."
   ]
  },
  {
   "cell_type": "code",
   "execution_count": 32,
   "id": "bffc0d27",
   "metadata": {},
   "outputs": [
    {
     "name": "stdout",
     "output_type": "stream",
     "text": [
      " <class 'str'>\n",
      " <class 'str'>\n",
      " <class 'str'>\n",
      " <class 'str'>\n",
      " <class 'str'>\n"
     ]
    }
   ],
   "source": [
    "for x in range(len(list_)):\n",
    "    print(f\" {type(list_[x])}\")"
   ]
  },
  {
   "cell_type": "code",
   "execution_count": 30,
   "id": "01391a83",
   "metadata": {},
   "outputs": [
    {
     "name": "stdout",
     "output_type": "stream",
     "text": [
      "<class 'numpy.str_'>\n",
      "<class 'numpy.str_'>\n",
      "<class 'numpy.str_'>\n",
      "<class 'numpy.str_'>\n",
      "<class 'numpy.str_'>\n"
     ]
    }
   ],
   "source": [
    "for x in array_list:\n",
    "    print(type(x))"
   ]
  },
  {
   "cell_type": "markdown",
   "id": "0691514e",
   "metadata": {},
   "source": [
    "# Q3. Considering the following changes in the variable, array_list:\n",
    "array_list = np.array(object = list_, dtype = int)\n",
    "\n",
    "Will there be any difference in the data type of the elements present in both the variables, list_ and\n",
    "array_list? If so then print the data types of each and every element present in both the variables, list_\n",
    "and array_list."
   ]
  },
  {
   "cell_type": "code",
   "execution_count": 35,
   "id": "0edc1cb6",
   "metadata": {},
   "outputs": [],
   "source": [
    "list_ = ['1', '2','3','4','5']"
   ]
  },
  {
   "cell_type": "code",
   "execution_count": 36,
   "id": "4a8233fb",
   "metadata": {},
   "outputs": [
    {
     "name": "stdout",
     "output_type": "stream",
     "text": [
      " <class 'str'>\n",
      " <class 'str'>\n",
      " <class 'str'>\n",
      " <class 'str'>\n",
      " <class 'str'>\n"
     ]
    }
   ],
   "source": [
    "for x in range(len(list_)):\n",
    "    print(f\" {type(list_[x])}\")"
   ]
  },
  {
   "cell_type": "code",
   "execution_count": 33,
   "id": "165d1a4c",
   "metadata": {},
   "outputs": [],
   "source": [
    "array_list = np.array(object = list_, dtype = int)\n"
   ]
  },
  {
   "cell_type": "code",
   "execution_count": 34,
   "id": "368ebb37",
   "metadata": {},
   "outputs": [
    {
     "name": "stdout",
     "output_type": "stream",
     "text": [
      "<class 'numpy.int32'>\n",
      "<class 'numpy.int32'>\n",
      "<class 'numpy.int32'>\n",
      "<class 'numpy.int32'>\n",
      "<class 'numpy.int32'>\n"
     ]
    }
   ],
   "source": [
    "for x in array_list:\n",
    "    print(type(x))"
   ]
  },
  {
   "cell_type": "markdown",
   "id": "61886325",
   "metadata": {},
   "source": [
    "Yes, there will be difference in the data type for both list and numpy array because we change the data type of array_list from string to integer. That is why array_list type showing numpy.int32"
   ]
  },
  {
   "cell_type": "code",
   "execution_count": 37,
   "id": "bc64734b",
   "metadata": {},
   "outputs": [],
   "source": [
    "num_list = [ [ 1 , 2 , 3 ] , [ 4 , 5 , 6 ] ]\n",
    "num_array = np.array(object = num_list)"
   ]
  },
  {
   "cell_type": "code",
   "execution_count": 38,
   "id": "f835dace",
   "metadata": {},
   "outputs": [
    {
     "data": {
      "text/plain": [
       "array([[1, 2, 3],\n",
       "       [4, 5, 6]])"
      ]
     },
     "execution_count": 38,
     "metadata": {},
     "output_type": "execute_result"
    }
   ],
   "source": [
    "num_array"
   ]
  },
  {
   "cell_type": "markdown",
   "id": "34880270",
   "metadata": {},
   "source": [
    "# Q4. Write a code to find the following characteristics of variable, num_array:\n",
    "(i) shape\n",
    "(ii) size"
   ]
  },
  {
   "cell_type": "code",
   "execution_count": 41,
   "id": "5bfec2f6",
   "metadata": {},
   "outputs": [
    {
     "data": {
      "text/plain": [
       "(2, 3)"
      ]
     },
     "execution_count": 41,
     "metadata": {},
     "output_type": "execute_result"
    }
   ],
   "source": [
    "num_array.shape"
   ]
  },
  {
   "cell_type": "code",
   "execution_count": 42,
   "id": "20056cdb",
   "metadata": {},
   "outputs": [
    {
     "data": {
      "text/plain": [
       "6"
      ]
     },
     "execution_count": 42,
     "metadata": {},
     "output_type": "execute_result"
    }
   ],
   "source": [
    "num_array.size"
   ]
  },
  {
   "cell_type": "markdown",
   "id": "b7fbaa29",
   "metadata": {},
   "source": [
    "# Q5. Write a code to create numpy array of 3*3 matrix containing zeros only, using a numpy array creation function."
   ]
  },
  {
   "cell_type": "code",
   "execution_count": 43,
   "id": "2b2ba1bf",
   "metadata": {},
   "outputs": [],
   "source": [
    "import numpy.matlib as nm"
   ]
  },
  {
   "cell_type": "code",
   "execution_count": 45,
   "id": "54581932",
   "metadata": {},
   "outputs": [
    {
     "data": {
      "text/plain": [
       "matrix([[0., 0., 0.],\n",
       "        [0., 0., 0.],\n",
       "        [0., 0., 0.]])"
      ]
     },
     "execution_count": 45,
     "metadata": {},
     "output_type": "execute_result"
    }
   ],
   "source": [
    "# Creating matrix using matrix library\n",
    "nm.zeros((3,3))"
   ]
  },
  {
   "cell_type": "code",
   "execution_count": 47,
   "id": "90186c4d",
   "metadata": {},
   "outputs": [
    {
     "data": {
      "text/plain": [
       "array([[0., 0., 0.],\n",
       "       [0., 0., 0.],\n",
       "       [0., 0., 0.]])"
      ]
     },
     "execution_count": 47,
     "metadata": {},
     "output_type": "execute_result"
    }
   ],
   "source": [
    "# creating matrix using numpy\n",
    "np.zeros((3,3))"
   ]
  },
  {
   "cell_type": "markdown",
   "id": "e068c700",
   "metadata": {},
   "source": [
    "# Q6. Create an identity matrix of shape (5,5) using numpy functions?"
   ]
  },
  {
   "cell_type": "code",
   "execution_count": 49,
   "id": "85933b6c",
   "metadata": {},
   "outputs": [
    {
     "data": {
      "text/plain": [
       "array([[1., 0., 0., 0., 0.],\n",
       "       [0., 1., 0., 0., 0.],\n",
       "       [0., 0., 1., 0., 0.],\n",
       "       [0., 0., 0., 1., 0.],\n",
       "       [0., 0., 0., 0., 1.]])"
      ]
     },
     "execution_count": 49,
     "metadata": {},
     "output_type": "execute_result"
    }
   ],
   "source": [
    "# creating identity matrix using numpy\n",
    "np_identity=np.eye(5,5)\n",
    "np_identity"
   ]
  },
  {
   "cell_type": "code",
   "execution_count": 50,
   "id": "842999e4",
   "metadata": {},
   "outputs": [
    {
     "data": {
      "text/plain": [
       "matrix([[1., 0., 0., 0., 0.],\n",
       "        [0., 1., 0., 0., 0.],\n",
       "        [0., 0., 1., 0., 0.],\n",
       "        [0., 0., 0., 1., 0.],\n",
       "        [0., 0., 0., 0., 1.]])"
      ]
     },
     "execution_count": 50,
     "metadata": {},
     "output_type": "execute_result"
    }
   ],
   "source": [
    "# creating identity matrix using matlib\n",
    "nm_identity= nm.eye(5,5)\n",
    "nm_identity"
   ]
  },
  {
   "cell_type": "code",
   "execution_count": null,
   "id": "b9f89b4a",
   "metadata": {},
   "outputs": [],
   "source": []
  }
 ],
 "metadata": {
  "kernelspec": {
   "display_name": "Python 3",
   "language": "python",
   "name": "python3"
  },
  "language_info": {
   "codemirror_mode": {
    "name": "ipython",
    "version": 3
   },
   "file_extension": ".py",
   "mimetype": "text/x-python",
   "name": "python",
   "nbconvert_exporter": "python",
   "pygments_lexer": "ipython3",
   "version": "3.8.8"
  }
 },
 "nbformat": 4,
 "nbformat_minor": 5
}
