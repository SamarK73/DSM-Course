{
 "cells": [
  {
   "cell_type": "markdown",
   "id": "2760b8af",
   "metadata": {},
   "source": [
    "# Q1. What is a database? Differentiate between SQL and NoSQL databases."
   ]
  },
  {
   "cell_type": "code",
   "execution_count": 1,
   "id": "bd8d81db",
   "metadata": {},
   "outputs": [],
   "source": [
    "#A database is an organised collection of structured information, or data typically stored in a computer system.\n"
   ]
  },
  {
   "cell_type": "code",
   "execution_count": null,
   "id": "dd9013e1",
   "metadata": {},
   "outputs": [],
   "source": [
    "SQL Database:\n",
    "    1.RELATIONAL DATABASE MANAGEMENT SYSTEM (RDBMS)\n",
    "    2.These databases have fixed or static or predefined schema\n",
    "    3.These databases are not suited for hierarchical data storage.\n",
    "    4.These databases are best suited for complex queries]\n",
    "    5.Vertically Scalable\n",
    "NoSQL Database:\n",
    "    1.Non-relational or distributed database system.\n",
    "    2.They have dynamic schema\n",
    "    3.These databases are best suited for hierarchical data storage.\n",
    "    4.These databases are not so good for complex queries\n",
    "    5.Horizontally scalable"
   ]
  },
  {
   "cell_type": "markdown",
   "id": "dbcd4e18",
   "metadata": {},
   "source": [
    "# Q2. What is DDL? Explain why CREATE, DROP, ALTER, and TRUNCATE are used with an example."
   ]
  },
  {
   "cell_type": "code",
   "execution_count": null,
   "id": "cb4bfe48",
   "metadata": {},
   "outputs": [],
   "source": [
    "# A data definition language (DDL) is a computer language used to create and modify the structure of database objects \n",
    "# in a database.\n"
   ]
  },
  {
   "cell_type": "code",
   "execution_count": 10,
   "id": "166bc83a",
   "metadata": {},
   "outputs": [],
   "source": [
    "#CREATE:\n",
    "#    This command is used to create the database or its objects \n",
    "#    (like table, index, function, views, store procedure, and triggers).\n",
    "\n",
    "#CREATE TABLE Customer_Master(CustId Int Primary Key, FirstName varchar(50), LastName varchar(50), EmailId varchar(100) NOT NULL)\n"
   ]
  },
  {
   "cell_type": "code",
   "execution_count": 3,
   "id": "6a91170c",
   "metadata": {},
   "outputs": [],
   "source": [
    "#  DROP:\n",
    "#    A drop command is used to delete objects such as a table, index or view. A DROP statement cannot be rolled back, \n",
    "#    so once an object is destroyed, there’s no way to recover it.\n",
    "    \n",
    "#    DROP TABLE Customer_Master\n",
    "    "
   ]
  },
  {
   "cell_type": "code",
   "execution_count": 4,
   "id": "1b8c9ac7",
   "metadata": {},
   "outputs": [],
   "source": [
    "# ALTER :\n",
    "#    An alter command modifies an existing database table. This command can add up additional column, \n",
    "#    drop existing columns and even change the data type of columns involved in a database table.\n",
    "    \n",
    "#    ALTER TABLE Customer_Master ADD Primary Key (Cust_pk):"
   ]
  },
  {
   "cell_type": "code",
   "execution_count": 5,
   "id": "65f76467",
   "metadata": {},
   "outputs": [],
   "source": [
    "# TRUNCATE :\n",
    "#     TRUNCATE statement is used to quickly remove all records from a table. However, unlike DROP that completely destroys \n",
    "#     a table, TRUNCATE preserves its full structure to be reused later.\n",
    "\n",
    "#     TRUNCATE TABLE Customer_Master;\n"
   ]
  },
  {
   "cell_type": "markdown",
   "id": "e2c18c15",
   "metadata": {},
   "source": [
    "# Q3. What is DML? Explain INSERT, UPDATE, and DELETE with an example."
   ]
  },
  {
   "cell_type": "code",
   "execution_count": 6,
   "id": "10edb850",
   "metadata": {},
   "outputs": [],
   "source": [
    "# A data manipulation language (DML)is to manipulate data in a database. Manipulation involves Inserting, retieving and deleting\n",
    "# data from existing tables."
   ]
  },
  {
   "cell_type": "code",
   "execution_count": 7,
   "id": "6c120f65",
   "metadata": {},
   "outputs": [],
   "source": [
    "# INSERT: This command adds one more records to the table\n",
    "\n",
    "#  INSERT INTO Customer_Master (CustId, FirstName, LastName, EmailId) VALUES(123,'Samr','Khan','samar@gmail.com')\n"
   ]
  },
  {
   "cell_type": "code",
   "execution_count": 8,
   "id": "fc81683a",
   "metadata": {},
   "outputs": [],
   "source": [
    "# UPDATE: This command modifies existing records.\n",
    "\n",
    "#  UPDATE TABLE Customer_Master SET FirstName ='Samar'WHERE CustId=123"
   ]
  },
  {
   "cell_type": "code",
   "execution_count": 9,
   "id": "38030e65",
   "metadata": {},
   "outputs": [],
   "source": [
    "# DELETE: This command removes one or more records from a table according to specified conditions.\n",
    "\n",
    "#  DELETE FROM Customer_Master WHERE Custid=383"
   ]
  },
  {
   "cell_type": "markdown",
   "id": "f8563481",
   "metadata": {},
   "source": [
    "# Q4. What is DQL? Explain SELECT with an example."
   ]
  },
  {
   "cell_type": "code",
   "execution_count": 11,
   "id": "6f793744",
   "metadata": {},
   "outputs": [],
   "source": [
    "# DQL statements are used for performing queries on the data within schema objects.\n",
    "\n",
    "#  To select all records form the table Student. You can also filter the table by WHERE clause.\n",
    "#  SELECT ROLL_NO, NAME, AGE FROM Student;"
   ]
  },
  {
   "cell_type": "markdown",
   "id": "92d4c5a3",
   "metadata": {},
   "source": [
    "# Q5. Explain Primary Key and Foreign Key."
   ]
  },
  {
   "cell_type": "code",
   "execution_count": 12,
   "id": "4d58e2e1",
   "metadata": {},
   "outputs": [],
   "source": [
    " # Primary Key:\n",
    " #       A primary key is used to ensure data in the specific column is unique.\n",
    " #       Primary key uniquely identifies a record in the RDBMS. It does not allows NULL values\n",
    " # Foreign key:\n",
    "  #      A foreign key is a column or group of columns in a relational database table that provides a link between data in \n",
    "  #      two tables. \n",
    "  #      It refers to the field in a table which is the primary key of another table. It can contain duplicate values and a table \n",
    "  #      in a relational database.\n"
   ]
  },
  {
   "cell_type": "markdown",
   "id": "a11f6df9",
   "metadata": {},
   "source": [
    "# Q6. Write a python code to connect MySQL to python. Explain the cursor() and execute() method."
   ]
  },
  {
   "cell_type": "code",
   "execution_count": null,
   "id": "c6bef5e6",
   "metadata": {},
   "outputs": [],
   "source": [
    "mydb = mysql.connector.connect(\n",
    "  host=\"localhost\",\n",
    "  user=\"abc\",\n",
    "  password=\"password\"\n",
    ")\n",
    "print(mydb)\n",
    "mycursor = mydb.cursor()\n",
    "mycursor.execute(\"SHOW DATABASES\")\n",
    "for x in mycursor:\n",
    "  print(x)"
   ]
  },
  {
   "cell_type": "code",
   "execution_count": 13,
   "id": "5b57d963",
   "metadata": {},
   "outputs": [],
   "source": [
    "# cursor(): It is an object that is used to make the connection for executing SQL queries.\n",
    "\n",
    "\n",
    "# execute(): This method executes the given database operation (query or command). The parameters found in the tuple or \n",
    "#            dictionary params are bound to the variables in the operation.\n"
   ]
  },
  {
   "cell_type": "markdown",
   "id": "f03013aa",
   "metadata": {},
   "source": [
    "# Give the order of execution of SQL clauses in an SQL query."
   ]
  },
  {
   "cell_type": "code",
   "execution_count": null,
   "id": "63cadbd9",
   "metadata": {},
   "outputs": [],
   "source": [
    "# 1. from\n",
    "# 2. where\n",
    "# 3. group by\n",
    "# 4. having\n",
    "# 5. select\n",
    "# 6. order by\n",
    "# 7. limit"
   ]
  }
 ],
 "metadata": {
  "kernelspec": {
   "display_name": "Python 3",
   "language": "python",
   "name": "python3"
  },
  "language_info": {
   "codemirror_mode": {
    "name": "ipython",
    "version": 3
   },
   "file_extension": ".py",
   "mimetype": "text/x-python",
   "name": "python",
   "nbconvert_exporter": "python",
   "pygments_lexer": "ipython3",
   "version": "3.8.8"
  }
 },
 "nbformat": 4,
 "nbformat_minor": 5
}
