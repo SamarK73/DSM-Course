{
 "cells": [
  {
   "cell_type": "markdown",
   "id": "48e5fc9f",
   "metadata": {},
   "source": [
    "# Q1. What is data encoding? How is it useful in data science?\n"
   ]
  },
  {
   "cell_type": "markdown",
   "id": "f65fdf8d",
   "metadata": {},
   "source": [
    "Data encoding process is to convert categorical feature to some meaningful numerical value.\n",
    "In data science, encoding is useful because many machine learning algorithms require numerical input data."
   ]
  },
  {
   "cell_type": "markdown",
   "id": "0e1bb692",
   "metadata": {},
   "source": [
    "# Q2. What is nominal encoding? Provide an example of how you would use it in a real-world scenario."
   ]
  },
  {
   "cell_type": "markdown",
   "id": "6ea85d5a",
   "metadata": {},
   "source": [
    "When we have a feature where variables are just names and there is no order or rank to this variable's feature.\n",
    "For example: City of person lives in, Gender of person, Marital Status, etc… \n",
    "In the above example, We do not have any order or rank, or sequence.\n"
   ]
  },
  {
   "cell_type": "markdown",
   "id": "1fb50694",
   "metadata": {},
   "source": [
    "# Q3. In what situations is nominal encoding preferred over one-hot encoding? Provide a practical example."
   ]
  },
  {
   "cell_type": "markdown",
   "id": "61fd56d1",
   "metadata": {},
   "source": [
    "Nominal encoding is preferred over one-hot encoding when the categories have a natural ordering, and there is no order or rank to this variable's feature. For example, in a dataset of different levels of education, we might assign a numerical value to each level (e.g., High School=1, Bachelor's=2, Master's=3, etc.). One-hot encoding is preferred when the categories do not have a natural ordering, and each category is equally important.\n",
    "\n"
   ]
  },
  {
   "cell_type": "markdown",
   "id": "e4c83b71",
   "metadata": {},
   "source": [
    "# Q4. Suppose you have a dataset containing categorical data with 5 unique values. Which encoding technique would you use to transform this data into a format suitable for machine learning algorithms? Explain why you made this choice.\n"
   ]
  },
  {
   "cell_type": "markdown",
   "id": "6500ab34",
   "metadata": {},
   "source": [
    "The choice of encoding technique would depend on the nature of the data and the specific requirements of the machine learning algorithm being used. If the categories have a natural ordering, I would use nominal encoding. If the categories do not have a natural ordering, I would use one-hot encoding.\n",
    "\n"
   ]
  },
  {
   "cell_type": "markdown",
   "id": "6fb38a32",
   "metadata": {},
   "source": [
    "# Q5. In a machine learning project, you have a dataset with 1000 rows and 5 columns. Two of the columns are categorical, and the remaining three columns are numerical. If you were to use nominal encoding to transform the categorical data, how many new columns would be created? Show your calculations.\n"
   ]
  },
  {
   "cell_type": "markdown",
   "id": "07a6ec02",
   "metadata": {},
   "source": [
    "If we use nominal encoding on two categorical columns, each with 5 unique values, we would create two new columns, each with 5 numerical values. Therefore, the total number of new columns created would be 2, one for each categorical column.\n",
    "If we use OHE encoding then total no. of new columns will be 2*5=10"
   ]
  },
  {
   "cell_type": "markdown",
   "id": "f68bb0a7",
   "metadata": {},
   "source": [
    "# Q6. You are working with a dataset containing information about different types of animals, including their species, habitat, and diet. Which encoding technique would you use to transform the categorical data into a format suitable for machine learning algorithms? Justify your answer."
   ]
  },
  {
   "cell_type": "markdown",
   "id": "9e3e4228",
   "metadata": {},
   "source": [
    "I would use one-hot encoding to transform the categorical data into a format suitable for machine learning algorithms. The reason for this is that the categories do not have a natural ordering, and each category is equally important. One-hot encoding would create a binary column for each category, indicating whether or not the animal belongs to that category. This would allow us to use the data in a machine learning algorithm without introducing any biases based on the numerical values assigned to the categories.\n",
    "\n"
   ]
  },
  {
   "cell_type": "markdown",
   "id": "54e904df",
   "metadata": {},
   "source": [
    "# Q7.You are working on a project that involves predicting customer churn for a telecommunications company. You have a dataset with 5 features, including the customer's gender, age, contract type,monthly charges, and tenure. Which encoding technique(s) would you use to transform the categoricaldata into numerical data? Provide a step-by-step explanation of how you would implement the encoding.\n"
   ]
  },
  {
   "cell_type": "markdown",
   "id": "5a07bd40",
   "metadata": {},
   "source": [
    "To transform the categorical data in the customer churn dataset into numerical data, I would use the following encoding techniques:\n",
    "\n",
    "Gender: Since gender has only two categories (male and female), I would use nominal encoding to assign numerical values to each category. For example, I would assign the value 0 to male and the value 1 to female.\n",
    "\n",
    "Age: Age is already a numerical feature, so no encoding is necessary.\n",
    "\n",
    "Contract Type: Contract type has three categories (month-to-month, one-year, and two-year), so I would use one-hot encoding to create binary columns for each category. \n",
    "\n",
    "Monthly Charges: Monthly charges is already a numerical feature, so no encoding is necessary.\n",
    "\n",
    "Tenure: Tenure is also a numerical feature, so no encoding is necessary."
   ]
  },
  {
   "cell_type": "code",
   "execution_count": null,
   "id": "871a38bc",
   "metadata": {},
   "outputs": [],
   "source": []
  }
 ],
 "metadata": {
  "kernelspec": {
   "display_name": "Python 3",
   "language": "python",
   "name": "python3"
  },
  "language_info": {
   "codemirror_mode": {
    "name": "ipython",
    "version": 3
   },
   "file_extension": ".py",
   "mimetype": "text/x-python",
   "name": "python",
   "nbconvert_exporter": "python",
   "pygments_lexer": "ipython3",
   "version": "3.8.8"
  }
 },
 "nbformat": 4,
 "nbformat_minor": 5
}
