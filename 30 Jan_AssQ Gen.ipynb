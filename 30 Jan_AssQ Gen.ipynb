{
 "cells": [
  {
   "cell_type": "code",
   "execution_count": null,
   "id": "a11d186a",
   "metadata": {},
   "outputs": [],
   "source": [
    "Q1. "
   ]
  },
  {
   "cell_type": "code",
   "execution_count": 9,
   "id": "db540449",
   "metadata": {},
   "outputs": [
    {
     "name": "stdout",
     "output_type": "stream",
     "text": [
      "enter the percentage: 70\n",
      "Grade C\n"
     ]
    }
   ],
   "source": [
    "marks = int(input(\"enter the percentage: \"))\n",
    "if marks > 90:\n",
    "    print(\"Grade A\")\n",
    "elif   80 < marks <= 90:\n",
    "    print(\"Grade B\")\n",
    "elif 60 < marks <= 80:\n",
    "    print(\"Grade C\")\n",
    "else:\n",
    "    print(\"Grade D\")"
   ]
  },
  {
   "cell_type": "markdown",
   "id": "0ae580d9",
   "metadata": {},
   "source": [
    "# Q2. Write a program to accept the cost price of a bike and display the road tax to be paid according to the following criteria:"
   ]
  },
  {
   "cell_type": "code",
   "execution_count": 12,
   "id": "5f02bbc7",
   "metadata": {},
   "outputs": [
    {
     "name": "stdout",
     "output_type": "stream",
     "text": [
      "enter the Cost price: 40000\n",
      "Tax to paid : 2000.0\n"
     ]
    }
   ],
   "source": [
    "CostPrice = int(input(\"enter the Cost price: \"))\n",
    "if CostPrice > 100000:\n",
    "    print(\"Tax to paid : {}\".format(CostPrice*.15))\n",
    "elif   50000 < CostPrice <= 100000:\n",
    "    print(\"Tax to paid : {}\".format(CostPrice*.10))\n",
    "else:\n",
    "    print(\"Tax to paid : {}\".format(CostPrice*.05))"
   ]
  },
  {
   "cell_type": "markdown",
   "id": "1183c889",
   "metadata": {},
   "source": [
    "# 3. Accept any city from the user and display monuments of that city."
   ]
  },
  {
   "cell_type": "code",
   "execution_count": 14,
   "id": "a5f1b179",
   "metadata": {},
   "outputs": [
    {
     "name": "stdout",
     "output_type": "stream",
     "text": [
      "Enter the city : Jaipur\n",
      "Jal Mahal\n"
     ]
    }
   ],
   "source": [
    "city = input(\"Enter the city : \")\n",
    "if city == \"Delhi\":\n",
    "    print(\"Red Fort\")\n",
    "elif city == \"Agra\":\n",
    "    print(\"Taj Mahal\")\n",
    "elif city == \"Jaipur\":\n",
    "    print(\"Jal Mahal\")"
   ]
  },
  {
   "cell_type": "markdown",
   "id": "be756046",
   "metadata": {},
   "source": [
    "# Q4. How many times a given number can be divided by 3 before it is less than or equal to 10"
   ]
  },
  {
   "cell_type": "code",
   "execution_count": 20,
   "id": "5601656a",
   "metadata": {},
   "outputs": [
    {
     "name": "stdout",
     "output_type": "stream",
     "text": [
      "Enter a number: 50\n",
      "The number can be divided by 3 : 2 times\n"
     ]
    }
   ],
   "source": [
    "num = int(input(\"Enter a number: \"))\n",
    "count = 0\n",
    "while num > 10:\n",
    "    num = num / 3\n",
    "    count += 1\n",
    "print(\"The number can be divided by 3 : {}\".format(count),\"times\")"
   ]
  },
  {
   "cell_type": "markdown",
   "id": "491eefa7",
   "metadata": {},
   "source": [
    "\n",
    "# Q5. Why and When to Use while Loop in Python give a detailed description with example"
   ]
  },
  {
   "cell_type": "code",
   "execution_count": 21,
   "id": "b2ff7bb8",
   "metadata": {},
   "outputs": [
    {
     "name": "stdout",
     "output_type": "stream",
     "text": [
      "1\n",
      "2\n",
      "3\n"
     ]
    }
   ],
   "source": [
    "# A while loop is used to repeatedly execute a block of code as long as the condition specified in the while \n",
    "# statement is True. The code inside the loop will be executed repeatedly as long as the condition is True. Once the condition \n",
    "# becomes False, the loop will terminate and the program will continue to execute any code that follows the loop. With break\n",
    "# statement we can stop the loop even if while condition is true.\n",
    "\n",
    "i = 1\n",
    "while i < 6:\n",
    "  print(i)\n",
    "  if i == 3:\n",
    "    break\n",
    "  i += 1"
   ]
  },
  {
   "cell_type": "markdown",
   "id": "5f283c62",
   "metadata": {},
   "source": [
    "# Q6. while loop to print 3 different pattern. "
   ]
  },
  {
   "cell_type": "code",
   "execution_count": 23,
   "id": "912c1ba9",
   "metadata": {},
   "outputs": [
    {
     "name": "stdout",
     "output_type": "stream",
     "text": [
      "*\r\n",
      "**\r\n",
      "***\r\n",
      "****\r\n",
      "*****\r\n"
     ]
    }
   ],
   "source": [
    "rows = 5\n",
    "for i in range(1, rows + 1):\n",
    "    for j in range(1, i + 1):\n",
    "        print(\"*\", end=\"\")\n",
    "    print(\"\\r\")"
   ]
  },
  {
   "cell_type": "code",
   "execution_count": 18,
   "id": "d710798c",
   "metadata": {},
   "outputs": [
    {
     "name": "stdout",
     "output_type": "stream",
     "text": [
      "* * * * *  \n",
      "* * * *  \n",
      "* * *  \n",
      "* *  \n",
      "*  \n",
      "* \r\n",
      "* * \r\n",
      "* * * \r\n",
      "* * * * \r\n",
      "* * * * * \r\n"
     ]
    }
   ],
   "source": [
    "rows = 5\n",
    "for i in range(rows, 0, -1):\n",
    "    for j in range(1,i+1):\n",
    "        print(\"*\", end= \" \")\n",
    "    print(\" \")\n",
    "    \n",
    "for i in range(1, rows + 1):\n",
    "    for j in range(1, i + 1):\n",
    "        print(\"*\", end=\" \")\n",
    "    print(\"\\r\")"
   ]
  },
  {
   "cell_type": "code",
   "execution_count": 46,
   "id": "ca8f73ff",
   "metadata": {},
   "outputs": [
    {
     "name": "stdout",
     "output_type": "stream",
     "text": [
      "    * \r\n",
      "   * * \r\n",
      "  * * * \r\n",
      " * * * * \r\n",
      "* * * * * \r\n"
     ]
    }
   ],
   "source": [
    "rows = 5\n",
    "k=rows-1\n",
    "for i in range(0,rows):\n",
    "    for j in range(0,k):\n",
    "        \n",
    "        print( end= \" \")\n",
    "    k-=1\n",
    "    for j in range(0,i+1):\n",
    "        print(\"* \", end=\"\")\n",
    "    print(\"\\r\")\n",
    "    \n"
   ]
  },
  {
   "cell_type": "markdown",
   "id": "bd9579f9",
   "metadata": {},
   "source": [
    "# Q7,8. Reverse a while loop to display numbers from 10 to 1"
   ]
  },
  {
   "cell_type": "code",
   "execution_count": 49,
   "id": "de99487e",
   "metadata": {},
   "outputs": [
    {
     "name": "stdout",
     "output_type": "stream",
     "text": [
      "10\n",
      "9\n",
      "8\n",
      "7\n",
      "6\n",
      "5\n",
      "4\n",
      "3\n",
      "2\n",
      "1\n"
     ]
    }
   ],
   "source": [
    "n=10\n",
    "while n >= 1:\n",
    "    print(n)\n",
    "    n=n-1"
   ]
  },
  {
   "cell_type": "code",
   "execution_count": null,
   "id": "870df3cb",
   "metadata": {},
   "outputs": [],
   "source": []
  }
 ],
 "metadata": {
  "kernelspec": {
   "display_name": "Python 3",
   "language": "python",
   "name": "python3"
  },
  "language_info": {
   "codemirror_mode": {
    "name": "ipython",
    "version": 3
   },
   "file_extension": ".py",
   "mimetype": "text/x-python",
   "name": "python",
   "nbconvert_exporter": "python",
   "pygments_lexer": "ipython3",
   "version": "3.8.8"
  }
 },
 "nbformat": 4,
 "nbformat_minor": 5
}
