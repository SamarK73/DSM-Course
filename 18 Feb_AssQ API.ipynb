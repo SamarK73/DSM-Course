{
 "cells": [
  {
   "cell_type": "markdown",
   "id": "27067f8a",
   "metadata": {},
   "source": [
    "\n",
    "# Q1. What is an API? Give an example, where an API is used in real life."
   ]
  },
  {
   "cell_type": "raw",
   "id": "a95b6d60",
   "metadata": {},
   "source": [
    "APIs are mechanisms that enable two software components to communicate with each other using a set of definitions and protocols. For example, the weather bureau’s software system contains daily weather data. \n",
    "API stands for Application Programming Interface. In the context of APIs, the word Application refers to any software with a distinct function. Interface can be thought of as a contract of service between two applications. This contract defines how the two communicate with each other using requests and responses. Their API documentation contains information on how developers are to structure those requests and responses.\n",
    "\n",
    "Example1: APIs are used by retail companies to connect with courier networks, ensuring that shipments are picked up as soon as possible and tracked as they move.\n",
    "Example2: APIs are used in web applications to connect user-facing front ends with critical back-end functionality and data."
   ]
  },
  {
   "cell_type": "markdown",
   "id": "e545d2b4",
   "metadata": {},
   "source": [
    "# Q2. Give advantages and disadvantages of using API."
   ]
  },
  {
   "cell_type": "raw",
   "id": "85b97344",
   "metadata": {},
   "source": [
    "Advantages:  \n",
    "  1. Applications: Access to APIs ensures more flexibility in information-transfer processes.\n",
    "  2. Reach: APIs let you create layers in apps in order to distribute information to different audiences.\n",
    "  3. Customization: Furthermore, it can serve as a solution to create different experiences for users, letting protocols,            functions, and commands be adapted according to specific demands.\n",
    "  4. Efficiency: When you have content that is automatically published and made available on different channels simultaneously,      APIs allow for more efficient data distribution.\n",
    "  5. Adaptability: One of the greatest benefits of APIs is the ability it has to adapt to changes through data migration and        flexibility of services.\n",
    "Disadvantages:\n",
    "  Providing an API is expensive in terms of development time, ongoing maintenance, providing API documentation on your website and providing support to users of your API. 2.Security exposure.--> Adding an API adds another attack surface to your website. 3. you might not like--> the result or you may change business direction. It's not always easy to predict exactly how your API will be used. If your integration with a messaging system means that users login to your service less often, will there be an overall negative impact for you? Withdrawing an API can be painful for users if you decide that you need to do so. This is unusual but it can happen. As Twitter's business evolved it changed its rules for accessing its API which resulted in a number of problems for users and developers"
   ]
  },
  {
   "cell_type": "markdown",
   "id": "5cb9254a",
   "metadata": {},
   "source": [
    "# Q3. What is a Web API? Differentiate between API and Web API."
   ]
  },
  {
   "cell_type": "raw",
   "id": "b2528cc5",
   "metadata": {},
   "source": [
    "Web API as the name suggests, is an API over the web which can be accessed using HTTP protocol. It is a concept and not a technology. We can build Web API using different technologies such as Java, .NET etc. For example, Twitter's REST APIs provide programmatic access to read and write data using which we can integrate twitter's capabilities into our own application.\n",
    "\n",
    "Both APIs and web services are technologies that enable the transfer of data between separate software applications. API is an interface that exposes an application's data to outside software, whereas web applications are one type of API with stricter requirements."
   ]
  },
  {
   "cell_type": "markdown",
   "id": "5d89a718",
   "metadata": {},
   "source": [
    "# Q4. Explain REST and SOAP Architecture. Mention shortcomings of SOAP."
   ]
  },
  {
   "cell_type": "raw",
   "id": "1aa1b419",
   "metadata": {},
   "source": [
    "REST stands for Representational State Transfer. REST defines a set of functions like GET, PUT, DELETE, etc. that clients can use to access server data. Clients and servers exchange data using HTTP.\n",
    "\n",
    "The main feature of REST API is statelessness. Statelessness means that servers do not save client data between requests. Client requests to the server are similar to URLs you type in your browser to visit a website. The response from the server is plain data, without the typical graphical rendering of a web page.\n",
    "\n",
    "SOAP is the Simple Object Access Protocol, a messaging standard defined by the World Wide Web Consortium and its member editors. SOAP uses an XML data format to declare its request and response messages, relying on XML Schema and other technologies to enforce the structure of its payloads.\n",
    "Shortcomings of SOAP:\n",
    "As SOAP can only transfer messages as XML files, your SOAP API will be less performant, as XML is a verbose format compared to JSON. API calls made to your server will need more bandwidth and it will take more time to process the request and transfer the response back to the client."
   ]
  },
  {
   "cell_type": "markdown",
   "id": "0ef65e27",
   "metadata": {},
   "source": [
    "# Q5. Differentiate between REST and SOAP."
   ]
  },
  {
   "cell_type": "raw",
   "id": "538f6619",
   "metadata": {},
   "source": [
    "1. REST is a set of guidelines that offers flexible implementation, whereas SOAP is a protocol with specific requirements like    XML messaging.\n",
    "2. REST APIs are lightweight, making them ideal for newer contexts like the Internet of Things (IoT), mobile application development, and serverless computing. SOAP web services offer built-in security and transaction compliance that align with many enterprise needs, but that also makes them heavier. "
   ]
  }
 ],
 "metadata": {
  "kernelspec": {
   "display_name": "Python 3",
   "language": "python",
   "name": "python3"
  },
  "language_info": {
   "codemirror_mode": {
    "name": "ipython",
    "version": 3
   },
   "file_extension": ".py",
   "mimetype": "text/x-python",
   "name": "python",
   "nbconvert_exporter": "python",
   "pygments_lexer": "ipython3",
   "version": "3.8.8"
  }
 },
 "nbformat": 4,
 "nbformat_minor": 5
}
