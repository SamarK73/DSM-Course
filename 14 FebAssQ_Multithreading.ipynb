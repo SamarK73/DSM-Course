{
 "cells": [
  {
   "cell_type": "markdown",
   "id": "3aa67f6f",
   "metadata": {},
   "source": [
    "\n",
    "# Q1. what is multithreading in python? Why is it used? Name the module used to handle threads in python"
   ]
  },
  {
   "cell_type": "code",
   "execution_count": 1,
   "id": "d2f441e5",
   "metadata": {},
   "outputs": [],
   "source": [
    "# Multithreading refers to concurrently executing multiple threads by rapidly switching the control of CPU between threads.\n",
    "# Multithreading aims to perform multiple tasks simultaneously, which increases performance, speed and improves the rendering\n",
    "# of the application.\n",
    "# There are two main modules of multithreading used to handle threads in Python.\n",
    "\n",
    "#  1. The thread module\n",
    "#  2. The threading module"
   ]
  },
  {
   "cell_type": "markdown",
   "id": "4e2cfec1",
   "metadata": {},
   "source": [
    "# Q. Why threading module used? Write the use of the following functions\n",
    " 1. activeCount\n",
    " 2. currentThread\n",
    " 3. enumerate"
   ]
  },
  {
   "cell_type": "code",
   "execution_count": 37,
   "id": "82fdfde9",
   "metadata": {},
   "outputs": [],
   "source": [
    "# Mutithreading technique is used for time saving and improving the performance of an application. Also its allows programmer\n",
    "# to divide to divide application tasks into sub tasks and simultaneously run them in a program.\n",
    "# It allows threads to communicate and share resources such as files, data, and memory to the same processor. Furthermore, \n",
    "#it increases the users responsiveness to continue running a program even if a part of the application is the \n",
    "# length or blocked.\n",
    "# 1. active_Count: It is used to return the number of thread objects that are active at any instant.\n",
    "# 2. current_thread: It is used to return the current thread object, which corresponds to caller thread of control.\n",
    "# 3. enumerate:  Enumerate() method adds a counter to an iterable and returns it in a form of enumerating object. "
   ]
  },
  {
   "cell_type": "code",
   "execution_count": null,
   "id": "13e282b6",
   "metadata": {},
   "outputs": [],
   "source": [
    "\n"
   ]
  },
  {
   "cell_type": "markdown",
   "id": "85e040b1",
   "metadata": {},
   "source": [
    "# Q3. Explain the following functions\n",
    "1. run\n",
    "2. start\n",
    "3. join\n",
    "4. isAlive"
   ]
  },
  {
   "cell_type": "code",
   "execution_count": null,
   "id": "e2cc35c3",
   "metadata": {},
   "outputs": [],
   "source": [
    "# 1. run(): A run() method is used to define a thread's activity and can be overridden by a class that extends the threads class.\n",
    "# 2. start():A start() method is used to initiate the activity of a thread. And it calls only once for each thread so that\n",
    "#            the execution of the thread can begin.\n",
    "# 3. join(): A join() method is used to block the execution of another code until the thread terminates.\n",
    "# 4. is_alive(): It uses a Thread object, and checks whether that thread is alive or not, ie, it is still running or not. \n",
    "#               This method returns True before the run() starts until just after the run() method is executed."
   ]
  },
  {
   "cell_type": "markdown",
   "id": "d927bb55",
   "metadata": {},
   "source": [
    "# Q4. Write a python program to create two threads. Thread one must print the list of squares and threadtwo must print the list of cubes."
   ]
  },
  {
   "cell_type": "code",
   "execution_count": 36,
   "id": "05574e47",
   "metadata": {},
   "outputs": [
    {
     "name": "stdout",
     "output_type": "stream",
     "text": [
      " Calculate the square of the given number\n",
      " Calculate the cube of the given number\n",
      "Square is  1\n",
      "Cube is : 1\n",
      "Square is  4\n",
      "Cube is : 8\n",
      "Square is  9\n",
      "Cube is : 27\n",
      "Square is  16\n",
      "Cube is : 64\n",
      "Square is  25\n",
      "Cube is : 125\n",
      "Square is  36\n",
      "Cube is : 216\n",
      "Square is  49\n",
      "Cube is : 343\n"
     ]
    }
   ],
   "source": [
    "import threading\n",
    "import time\n",
    "\n",
    "def cal_square(list1):\n",
    "    print(\" Calculate the square of the given number\")  \n",
    "    for n in list1:\n",
    "        time.sleep(0.3)\n",
    "        print(\"Square is \", n*n)\n",
    "def cal_cube(list1):\n",
    "    print(\" Calculate the cube of the given number\")  \n",
    "    for n in list1:\n",
    "        time.sleep(0.3)\n",
    "        print(\"Cube is :\", n*n*n)\n",
    "\n",
    "lst=[1,2,3,4,5,6,7]\n",
    "\n",
    "thread_sq = threading.Thread(target=cal_square, args=(lst,)) \n",
    "thread_cu = threading.Thread(target=cal_cube, args=(lst,))\n",
    "thread_sq.start()\n",
    "thread_cu.start()\n",
    "\n",
    "thread_sq.join()\n",
    "thread_cu.join()"
   ]
  },
  {
   "cell_type": "markdown",
   "id": "87d8b79d",
   "metadata": {},
   "source": [
    "# Q5. State advantages and disadvantages of multithreading"
   ]
  },
  {
   "cell_type": "code",
   "execution_count": 38,
   "id": "4ac7c5e2",
   "metadata": {},
   "outputs": [],
   "source": [
    "# Advantages:\n",
    "\n",
    "#  Enhanced performance by decreased development time\n",
    "#  Simplified and streamlined program coding\n",
    "#  Improvised GUI responsiveness\n",
    "#  Simultaneous and parallelized occurrence of tasks\n",
    "#  Better use of cache storage by utilization of resources\n",
    "#  Decreased cost of maintenance\n",
    "#  Better use of CPU resource\n",
    "\n",
    "# Disadvantages:\n",
    "\n",
    "#  Complex debugging and testing processes\n",
    "#  Overhead switching of context\n",
    "#  Increased potential for deadlock occurrence\n",
    "#  Increased difficulty level in writing a program\n",
    "#  Unpredictable results\n",
    "    \n"
   ]
  },
  {
   "cell_type": "markdown",
   "id": "9a27efc6",
   "metadata": {},
   "source": [
    "# Q6. Explain deadlocks and race conditions."
   ]
  },
  {
   "cell_type": "code",
   "execution_count": 39,
   "id": "8074e8ff",
   "metadata": {},
   "outputs": [
    {
     "ename": "NameError",
     "evalue": "name 'Deadlocks' is not defined",
     "output_type": "error",
     "traceback": [
      "\u001b[1;31m---------------------------------------------------------------------------\u001b[0m",
      "\u001b[1;31mNameError\u001b[0m                                 Traceback (most recent call last)",
      "\u001b[1;32m<ipython-input-39-c5bae0df2617>\u001b[0m in \u001b[0;36m<module>\u001b[1;34m\u001b[0m\n\u001b[1;32m----> 1\u001b[1;33m \u001b[0mDeadlocks\u001b[0m\u001b[1;33m\u001b[0m\u001b[1;33m\u001b[0m\u001b[0m\n\u001b[0m\u001b[0;32m      2\u001b[0m \u001b[1;31m# A deadlock is when two (or more) threads are blocking each other. Usually this has something to do with threads\u001b[0m\u001b[1;33m\u001b[0m\u001b[1;33m\u001b[0m\u001b[1;33m\u001b[0m\u001b[0m\n\u001b[0;32m      3\u001b[0m \u001b[1;31m# trying to acquire shared resources.\u001b[0m\u001b[1;33m\u001b[0m\u001b[1;33m\u001b[0m\u001b[1;33m\u001b[0m\u001b[0m\n",
      "\u001b[1;31mNameError\u001b[0m: name 'Deadlocks' is not defined"
     ]
    }
   ],
   "source": [
    "# Deadlocks:\n",
    "# A deadlock is when two (or more) threads are blocking each other. Usually this has something to do with threads \n",
    "# trying to acquire shared resources.or example if threads T1 and T2 need to acquire both resources A and B in order to do \n",
    "# their work. If T1 acquires resource A, then T2 acquires resource B, T1 could then be waiting for resource B while T2 \n",
    "# was waiting for resource A. In this case, both threads will wait indefinitely for the resource held by the other thread. \n",
    "# These threads are said to be deadlocked.\n",
    "\n",
    "# Race :\n",
    "# Race conditions occur when two threads interact in a negatve (buggy) way depending on the exact order that their different \n",
    "# instructions are executed. If one thread sets a global variable, for example, then a second thread reads and modifies that \n",
    "# global variable, and the first thread reads the variable, the first thread may experience a bug because the variable has \n",
    "# changed unexpectedly."
   ]
  },
  {
   "cell_type": "code",
   "execution_count": null,
   "id": "ab0f57e3",
   "metadata": {},
   "outputs": [],
   "source": []
  }
 ],
 "metadata": {
  "kernelspec": {
   "display_name": "Python 3",
   "language": "python",
   "name": "python3"
  },
  "language_info": {
   "codemirror_mode": {
    "name": "ipython",
    "version": 3
   },
   "file_extension": ".py",
   "mimetype": "text/x-python",
   "name": "python",
   "nbconvert_exporter": "python",
   "pygments_lexer": "ipython3",
   "version": "3.8.8"
  }
 },
 "nbformat": 4,
 "nbformat_minor": 5
}
