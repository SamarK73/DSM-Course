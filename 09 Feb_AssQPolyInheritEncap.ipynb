{
 "cells": [
  {
   "cell_type": "markdown",
   "id": "dac44cd8",
   "metadata": {},
   "source": [
    "# Q1, Create a vehicle class with an init method having instance variables as name_of_vehicle, max_speedand average_of_vehicle."
   ]
  },
  {
   "cell_type": "code",
   "execution_count": 3,
   "id": "e53befa0",
   "metadata": {},
   "outputs": [],
   "source": [
    "class vehicle:\n",
    "    def __init__(self,name_of_vehicle,max_speed,average_of_vehicle):\n",
    "        self.name_of_vehicle=name_of_vehicle\n",
    "        self.max_speed=max_speed\n",
    "        self.average_of_vehicle=average_of_vehicle\n",
    "    "
   ]
  },
  {
   "cell_type": "markdown",
   "id": "2fac0b0c",
   "metadata": {},
   "source": [
    "# Q2. Create a child class car from the vehicle class created in Que 1, which will inherit the vehicle class. Create a method named seating_capacity which takes capacity as an argument and returns the name ofthe vehicle and its seating capacity."
   ]
  },
  {
   "cell_type": "code",
   "execution_count": 2,
   "id": "69cfbcf7",
   "metadata": {},
   "outputs": [],
   "source": [
    "class vehicle:\n",
    "    def __init__(self,name_of_vehicle,max_speed,average_of_vehicle):\n",
    "        self.name_of_vehicle=name_of_vehicle\n",
    "        self.max_speed=max_speed\n",
    "        self.average_of_vehicle=average_of_vehicle\n"
   ]
  },
  {
   "cell_type": "code",
   "execution_count": 4,
   "id": "f9698811",
   "metadata": {},
   "outputs": [],
   "source": [
    "class car(vehicle):\n",
    "    def seating_capacity(self, capacity):\n",
    "        return self.name_of_vehicle,capacity"
   ]
  },
  {
   "cell_type": "markdown",
   "id": "52fe7613",
   "metadata": {},
   "source": [
    "# What is multiple inheritance? Write a python code to demonstrate multiple inheritance.\n"
   ]
  },
  {
   "cell_type": "code",
   "execution_count": 5,
   "id": "4ed9cc07",
   "metadata": {},
   "outputs": [],
   "source": [
    "#A class can be derived from more than one superclass in Python. This is called multiple inheritance."
   ]
  },
  {
   "cell_type": "code",
   "execution_count": 6,
   "id": "c6de70e8",
   "metadata": {},
   "outputs": [],
   "source": [
    "#Base class1\n",
    "class Mammal:\n",
    "    def mammal(self):\n",
    "        print(\"Mammal can give direct birth\")"
   ]
  },
  {
   "cell_type": "code",
   "execution_count": 7,
   "id": "b71f2e8c",
   "metadata": {},
   "outputs": [],
   "source": [
    "#Base class2\n",
    "class WingedAnimal:\n",
    "    def winged_animal(self):\n",
    "        print(\"Winged animals can flap\")"
   ]
  },
  {
   "cell_type": "code",
   "execution_count": 8,
   "id": "cdfbc7f7",
   "metadata": {},
   "outputs": [],
   "source": [
    "class Bat(Mammal, WingedAnimal):\n",
    "    pass"
   ]
  },
  {
   "cell_type": "code",
   "execution_count": 9,
   "id": "46b34f23",
   "metadata": {},
   "outputs": [],
   "source": [
    "object_bat=Bat()"
   ]
  },
  {
   "cell_type": "code",
   "execution_count": 10,
   "id": "62968ce5",
   "metadata": {},
   "outputs": [
    {
     "name": "stdout",
     "output_type": "stream",
     "text": [
      "This is mammal class\n"
     ]
    }
   ],
   "source": [
    "object_bat.mammal()"
   ]
  },
  {
   "cell_type": "code",
   "execution_count": 12,
   "id": "4ca66521",
   "metadata": {},
   "outputs": [
    {
     "name": "stdout",
     "output_type": "stream",
     "text": [
      "Winged animals can flap\n"
     ]
    }
   ],
   "source": [
    "object_bat.winged_animal()"
   ]
  },
  {
   "cell_type": "markdown",
   "id": "8d2571fc",
   "metadata": {},
   "source": [
    "# Q4. What are getter and setter in python? Create a class and create a getter and a setter method in thisclass."
   ]
  },
  {
   "cell_type": "code",
   "execution_count": 13,
   "id": "d4a560c8",
   "metadata": {},
   "outputs": [],
   "source": [
    "#Getters: These are the methods used in OOPS which helps to access the private attributes from a class.\n",
    "#         \n",
    "#Setters: These are the methods used in OOPS feature which helps to set the value to private attributes in a class."
   ]
  },
  {
   "cell_type": "code",
   "execution_count": 14,
   "id": "a4854a06",
   "metadata": {},
   "outputs": [],
   "source": [
    "class bank_account:\n",
    "    \n",
    "    def __init__(self,balance):\n",
    "        self.__balance = balance\n",
    "    \n",
    "    def deposit(self, amount):\n",
    "        self.__balance= self.__balance + amount\n",
    "        \n",
    "    def withdraw(self,amount):\n",
    "        if self.__balance >= amount:\n",
    "            self.__balance = self.__balance - amount\n",
    "            return True\n",
    "        else:\n",
    "            return False\n",
    "        \n",
    "    def get_balance(self):\n",
    "        return self.__balance\n",
    "    \n",
    "            "
   ]
  },
  {
   "cell_type": "code",
   "execution_count": 16,
   "id": "700da92c",
   "metadata": {},
   "outputs": [],
   "source": [
    "object_bank_account = bank_account(2000)"
   ]
  },
  {
   "cell_type": "code",
   "execution_count": 17,
   "id": "0bd02e80",
   "metadata": {},
   "outputs": [
    {
     "data": {
      "text/plain": [
       "2000"
      ]
     },
     "execution_count": 17,
     "metadata": {},
     "output_type": "execute_result"
    }
   ],
   "source": [
    "object_bank_account.get_balance()"
   ]
  },
  {
   "cell_type": "code",
   "execution_count": 18,
   "id": "1fd3dc4a",
   "metadata": {},
   "outputs": [],
   "source": [
    "object_bank_account.deposit(6000)"
   ]
  },
  {
   "cell_type": "code",
   "execution_count": 19,
   "id": "19d11d89",
   "metadata": {},
   "outputs": [
    {
     "data": {
      "text/plain": [
       "8000"
      ]
     },
     "execution_count": 19,
     "metadata": {},
     "output_type": "execute_result"
    }
   ],
   "source": [
    "object_bank_account.get_balance()"
   ]
  },
  {
   "cell_type": "code",
   "execution_count": 20,
   "id": "ca975b7a",
   "metadata": {},
   "outputs": [
    {
     "data": {
      "text/plain": [
       "False"
      ]
     },
     "execution_count": 20,
     "metadata": {},
     "output_type": "execute_result"
    }
   ],
   "source": [
    "object_bank_account.withdraw(9000)"
   ]
  },
  {
   "cell_type": "code",
   "execution_count": 21,
   "id": "42f6165a",
   "metadata": {},
   "outputs": [
    {
     "data": {
      "text/plain": [
       "True"
      ]
     },
     "execution_count": 21,
     "metadata": {},
     "output_type": "execute_result"
    }
   ],
   "source": [
    "object_bank_account.withdraw(3000)"
   ]
  },
  {
   "cell_type": "code",
   "execution_count": 22,
   "id": "972e87e3",
   "metadata": {},
   "outputs": [
    {
     "data": {
      "text/plain": [
       "5000"
      ]
     },
     "execution_count": 22,
     "metadata": {},
     "output_type": "execute_result"
    }
   ],
   "source": [
    "object_bank_account.get_balance()"
   ]
  },
  {
   "cell_type": "markdown",
   "id": "13acd34f",
   "metadata": {},
   "source": [
    "# Q5.What is method overriding in python? Write a python code to demonstrate method overriding."
   ]
  },
  {
   "cell_type": "code",
   "execution_count": 23,
   "id": "ffb727d5",
   "metadata": {},
   "outputs": [],
   "source": [
    "#Method overriding is an ability of any object-oriented programming language that allows a subclass or child class to \n",
    "#provide a specific implementation of a method that is already provided by one of its super-classes or parent classes. \n",
    "#When a method in a subclass has the same name, same parameters or signature and same return type(or sub-type) as a \n",
    "#method in its super-class, then the method in the subclass is said to override the method in the super-class."
   ]
  },
  {
   "cell_type": "code",
   "execution_count": 24,
   "id": "dead215d",
   "metadata": {},
   "outputs": [],
   "source": [
    "#Parent class\n",
    "class parent():\n",
    "    \n",
    "    def __init__(self):\n",
    "        self.value = \"Inside parent\"\n",
    "        \n",
    "    def show(self):\n",
    "        print(self.value)\n",
    "        \n",
    "class child():\n",
    "    \n",
    "    def __init__(self):\n",
    "        self.value = \"Inside child\"\n",
    "        \n",
    "    def show(self):\n",
    "        print(self.value)\n",
    "        \n",
    "    \n",
    "        \n",
    "        \n",
    "        \n",
    "        "
   ]
  },
  {
   "cell_type": "code",
   "execution_count": 25,
   "id": "0ffa7a28",
   "metadata": {},
   "outputs": [],
   "source": [
    "obj_parent=parent()\n",
    "obj_child=child()"
   ]
  },
  {
   "cell_type": "code",
   "execution_count": 27,
   "id": "1769d301",
   "metadata": {},
   "outputs": [
    {
     "name": "stdout",
     "output_type": "stream",
     "text": [
      "Inside parent\n",
      "Inside child\n"
     ]
    }
   ],
   "source": [
    "obj_parent.show()\n",
    "obj_child.show()"
   ]
  },
  {
   "cell_type": "code",
   "execution_count": null,
   "id": "00d7aba5",
   "metadata": {},
   "outputs": [],
   "source": []
  }
 ],
 "metadata": {
  "kernelspec": {
   "display_name": "Python 3",
   "language": "python",
   "name": "python3"
  },
  "language_info": {
   "codemirror_mode": {
    "name": "ipython",
    "version": 3
   },
   "file_extension": ".py",
   "mimetype": "text/x-python",
   "name": "python",
   "nbconvert_exporter": "python",
   "pygments_lexer": "ipython3",
   "version": "3.8.8"
  }
 },
 "nbformat": 4,
 "nbformat_minor": 5
}
