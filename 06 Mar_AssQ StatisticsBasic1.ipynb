{
 "cells": [
  {
   "cell_type": "markdown",
   "id": "aa6933a2",
   "metadata": {},
   "source": [
    "# What is statistics?"
   ]
  },
  {
   "cell_type": "markdown",
   "id": "f5ff97ff",
   "metadata": {},
   "source": [
    "Statistics is the science concerned with developing and studying methods for collecting, analyzing, interpreting and presenting empirical data.\n",
    "\n",
    "Basic terminology of Statistics :\n",
    "\n",
    "    Population –\n",
    "        It is actually a collection of set of individuals or objects or events whose properties are to be analyzed.\n",
    "    Sample –\n",
    "        It is the subset of a population."
   ]
  },
  {
   "cell_type": "markdown",
   "id": "154c4da6",
   "metadata": {},
   "source": [
    "# Q2. Define the different types of statistics and give an example of when each type might be used."
   ]
  },
  {
   "attachments": {},
   "cell_type": "markdown",
   "id": "337808e5",
   "metadata": {},
   "source": [
    "# There are two kinds of Statistics:\n",
    "    1. Descriptive Statistics\n",
    "    2. Inferential Statistics\n",
    "\n",
    "1. Descriptive Statistics: \n",
    "    Descriptive statistics uses data that provides a description of the population either through numerical calculation or    graph or table. It provides a graphical summary of data. It is simply used for summarizing objects, etc. There are two categories in this as following below.\n",
    "    \n",
    "    (a). Measure of central tendency:\n",
    "            Measure of central tendency is also known as summary statistics that is used to represents the center point or a               particular value of a data set or sample set. In statistics, there are three common measures of central tendency as\n",
    "            below:\n",
    "          (i) Mean:It is measure of average of all values.\n",
    "          \n",
    "         Cars mileage data"
   ]
  },
  {
   "attachments": {
    "image-2.png": {
     "image/png": "[encoded data removed]"
    }
   },
   "cell_type": "markdown",
   "id": "df154662",
   "metadata": {},
   "source": [
    "![image-2.png](attachment:image-2.png)"
   ]
  },
  {
   "cell_type": "markdown",
   "id": "1470d6c6",
   "metadata": {},
   "source": [
    "Mean = Sum of all terms/Total No. terms\n",
    "     = 21.3+20.8+19/3 = 20.366"
   ]
  },
  {
   "cell_type": "markdown",
   "id": "d8f8ee71",
   "metadata": {},
   "source": [
    "          (ii) Median: It is measure of central value of a sample set. Calculating median, data set is ordered from lowest to highest value then finds the middle.\n",
    "          order the set 19, 20.8, 21.3\n",
    "          so median will be 20.8\n",
    "          \n",
    "          (iii) Mode : It is value most frequently arrived in sample set. The value repeated most of time in central set is actually mode.\n",
    "          2, 3, 4, 2, 4, 6, 4, 7, 7, 4, 4, 9\n",
    "          Mode = 4"
   ]
  },
  {
   "cell_type": "markdown",
   "id": "37db2015",
   "metadata": {},
   "source": [
    "(b) Measure of Variability :Measure of Variability is also known as measure of dispersion and used to describe variability in a sample or population. \n",
    "\n",
    "        (i)  Range :\n",
    "                It is given measure of how to spread apart values in sample set or data set.\n",
    "                    Range = Maximum value - Minimum value \n",
    "        (ii) Variance : It simply describes how much a random variable defers from expected value and it is also computed as                    square of deviation.\n",
    "                    S2= ∑ni=1 [(xi - ͞x)2 ÷ n]\n",
    "      In these formula, n represent total data points, ͞x represent mean of data points and xi represent individual data points.\n",
    "        (iii) Dispersion :\n",
    "    It is measure of dispersion of set of data from its mean.\n",
    "                    σ= √ (1÷n) ∑ni=1 (xi - μ)2  "
   ]
  },
  {
   "cell_type": "markdown",
   "id": "172f1598",
   "metadata": {},
   "source": [
    "2. Inferential Statistics :Inferential Statistics makes inference and prediction about population based on a sample of data taken from population. It generalizes a large dataset and applies probabilities to draw a conclusion. It is simply used for explaining meaning of descriptive stats. It is simply used to analyze, interpret result, and draw conclusion. Inferential Statistics is mainly related to and associated with hypothesis testing whose main target is to reject null hypothesis."
   ]
  },
  {
   "cell_type": "markdown",
   "id": "ca12ca33",
   "metadata": {},
   "source": [
    "# Q3. What are the different types of data and how do they differ from each other? Provide an example of each type of data."
   ]
  },
  {
   "cell_type": "markdown",
   "id": "8d041896",
   "metadata": {},
   "source": [
    "#Today data is everywhere in every field. Whether you are a data scientist, marketer, businessman, data analyst, researcher, or you are in any other profession, you need to play or experiment with raw or structured data. While working on these data, it is important to know the types of data to process them and get the right results. There are two types of data: Qualitative and Quantitative data.\n",
    "\n",
    "#1).Qualitative Data: This type of data cant be measured or counted in the form of numbers. These type of data are sorted by category, not by number. That is why it is also known as categorical data. These data consist of audio, images, symbols, or text. The gender of a person, i.e., male, female, or others, is qualitative data.\n",
    "Qualitative data tells about the perception of people. This data helps market researchers understand the customers’ tastes and then design their ideas and strategies accordingly. \n",
    "\n",
    "Examples:\n",
    "           1. What language do you speak\n",
    "           2. Favorite holiday destination\n",
    "           3. opinion on something\n",
    "           4. Colors\n",
    "  Qualitative data classified into two parts:\n",
    "  \n",
    "      #a). Nominal Data: Nominal Data is used to label variables without any order or quantitative value. The color of hair can            be considered nominal data, as one color can’t be compared with another color.  With the help of nominal data, we              can’t do any numerical tasks or can’t give any order to sort the data. These data don’t have any meaningful order;              their values are distributed into distinct categories.\n",
    "              Examples:\n",
    "              Colour of hair (Blonde, red, Brown, Black, etc.)\n",
    "              Marital status (Single, Widowed, Married)\n",
    "              Nationality (Indian, German, American)\n",
    "              Gender (Male, Female, Others)\n",
    "              Eye Color (Black, Brown, etc.)\n",
    "              \n",
    "      #b). Ordinal Data: Ordinal data have natural ordering where a number is present in some kind of order by their position              on the scale. These data are used for observation like customer satisfaction, happiness, etc., but we can’t do any              arithmetical tasks on them. \n",
    "           Ordinal data is qualitative data for which their values have some kind of relative position. These kinds of data can            be considered “in-between” qualitative and quantitative data. The ordinal data only shows the sequences and cannot              use for statistical analysis. Compared to nominal data, ordinal data have some kind of order that is not present in            nominal data.   \n",
    "              Examples:\n",
    "              When companies ask for feedback, experience, or satisfaction on a scale of 1 to 10\n",
    "              Letter grades in the exam (A, B, C, D, etc.)\n",
    "              Ranking of people in a competition (First, Second, Third, etc.)\n",
    "              Economic Status (High, Medium, and Low)\n",
    "              Education Level (Higher, Secondary, Primary)\n",
    "\n",
    "\n",
    "#2). Quantitative Data: Quantitative data can be expressed in numerical values, making it countable and including statistical data analysis. These kinds of data are also known as Numerical data. It answers the questions like “how much,” “how many,” and “how often.” For example, the price of a phone, the computer’s ram, the height or weight of a person, etc., falls under quantitative data. \n",
    "Quantitative data can be used for statistical manipulation. These data can be represented on a wide variety of graphs and charts, such as bar graphs, histograms, scatter plots, boxplots, pie charts, line graphs, etc.\n",
    "\n",
    "Examples\n",
    "\n",
    "        Height or weight of a person or object\n",
    "        Room Temperature\n",
    "        Scores and Marks (Ex: 59, 80, 60, etc.)\n",
    "        Time\n",
    " The Quantitative data are further classified into two parts :       \n",
    "        \n",
    "        a). Discrete Data: \n",
    "        The term discrete means distinct or separate. The discrete data contain the values that fall under integers or whole           numbers. The total number of students in a class is an example of discrete data. These data can’t be broken into               decimal or fraction values.\n",
    "        The discrete data are countable and have finite values; their subdivision is not possible. These data are represented           mainly by a bar graph, number line, or frequency table.\n",
    "  Examples of Discrete Data :\n",
    "        Total numbers of students present in a class,\n",
    "        Cost of a cell phone,\n",
    "        Numbers of employees in a company,\n",
    "        The total number of players who participated in a competition,\n",
    "        Days in a week\n",
    "       \n",
    "       b). Continuous Data :\n",
    "       Continuous data are in the form of fractional numbers. It can be the version of an android phone, the height of a              person, the length of an object, etc. Continuous data represents information that can be divided into smaller levels.          The continuous variable can take any value within a range. \n",
    "\n",
    "       The key difference between discrete and continuous data is that discrete data contains the integer or whole number.            Still, continuous data stores the fractional numbers to record different types of data such as temperature, height,            width, time, speed, etc.\n",
    "\n",
    "Examples of Continuous data:\n",
    "        Height of a person,\n",
    "        Speed of a vehicle,\n",
    "        “Time-taken” to finish the work, \n",
    "        Wi-Fi Frequency,\n",
    "        Market share price\n"
   ]
  },
  {
   "cell_type": "markdown",
   "id": "41ca0a53",
   "metadata": {},
   "source": [
    "# Q4. Categorise the following datasets with respect to quantitative and qualitative data types:\n",
    "(i) Grading in exam: A+, A, B+, B, C+, C, D, E\n",
    "(ii) Colour of mangoes: yellow, green, orange, red\n",
    "(iii) Height data of a class: [178.9, 179, 179.5, 176, 177.2, 178.3, 175.8,...]\n",
    "(iv) Number of mangoes exported by a farm: [500, 600, 478, 672, ...]"
   ]
  },
  {
   "cell_type": "code",
   "execution_count": null,
   "id": "3af4dba2",
   "metadata": {},
   "outputs": [],
   "source": [
    "(i) Grading in exam: A+, A, B+, B, C+, C, D, E --->  Qualitative\n",
    "(ii) Colour of mangoes: yellow, green, orange, red ---> Qualitative\n",
    "(iii)  Height data of a class: [178.9, 179, 179.5, 176, 177.2, 178.3, 175.8,...] ---> Quantative\n",
    "(iv) Number of mangoes exported by a farm: [500, 600, 478, 672, ...] ---> Quantative    \n"
   ]
  },
  {
   "cell_type": "markdown",
   "id": "ee8b9daa",
   "metadata": {},
   "source": [
    "# Q5. Explain the concept of levels of measurement and give an example of a variable for each level."
   ]
  },
  {
   "cell_type": "markdown",
   "id": "877025f1",
   "metadata": {},
   "source": [
    "Levels of measurement:\n",
    "    When carrying out any kind of data collection or analysis, it’s essential to understand the nature of the data you’re           dealing with. Within your dataset, you’ll have different variables—and these variables can be recorded to varying degrees       of precision. This is what’s known as the level of measurement.\n",
    "    There are four main levels of measurement: nominal, ordinal, interval, and ratio.\n",
    "    \n",
    "1). Nominal Scale :\n",
    "      Nominal scale simply categorizes variables according to qualitative lables(or names). These labels and groupings don't         have any order or hierarchy to them nor do they convey any numerical value. \n",
    "      \n",
    "      For example, the variable “hair color” could be measured on a nominal scale according to the following categories:             blonde hair, brown hair, gray hair, and so on.\n",
    "2). Ordinal Scale:\n",
    "      The ordinal scale also categorizes variables into labeled groups, and these categories have an order or hierarchy to           them.\n",
    "      \n",
    "      For example, you could measure the variable “income” on an ordinal scale as follows: low income, medium income, high           income. Another example could be level of education, classified as follows: high school, master’s degree, doctorate. \n",
    "      \n",
    "3). Iterval Scale:\n",
    "      The interval scale is a numerical scale which labels and orders variables, with a known, evenly spaced interval between         each of the values.\n",
    "      \n",
    "      For example, interval data is temperature in Fahrenheit, where the difference between 10 and 20 degrees Fahrenheit is           exactly the same as the difference between, say, 50 and 60 degrees Fahrenheit.\n",
    "    \n",
    "4.) Ratio Scale:\n",
    "      The ratio scale is exactly the same as the interval scale, with one key difference: The ratio scale has what’s known as a       “true zero.” \n",
    "      A good example of ratio data is weight in kilograms. If something weighs zero kilograms, it truly weighs nothing—compared       to temperature (interval data), where a value of zero degrees doesn’t mean there is “no temperature,” it simply means           it’s extremely cold! "
   ]
  },
  {
   "cell_type": "markdown",
   "id": "79d30b98",
   "metadata": {},
   "source": [
    "# Q6. Why is it important to understand the level of measurement when analyzing data? Provide an\n",
    "example to illustrate your answer."
   ]
  },
  {
   "cell_type": "markdown",
   "id": "22fd5fce",
   "metadata": {},
   "source": [
    "Level of measurement is important as it determines the type of statistical analysis you can carry out. As a result, it affects both the nature and the depth of insights you’re able to glean from your data. Certain statistical tests can only be performed where more precise levels of measurement have been used, so it’s essential to plan in advance how you’ll gather and measure your data.\n",
    "\n",
    "For example, if you have nominal data, such as the colors of different types of fruits, you cannot calculate a mean or standard deviation, because these calculations require numerical values. Instead, you would use frequency distributions or chi-square tests to analyze the data.\n",
    "\n",
    "On the other hand, if you have continuous data, such as the heights of individuals in a population, you can calculate a mean and standard deviation, and use methods such as regression analysis or ANOVA to analyze the data.\n"
   ]
  },
  {
   "cell_type": "markdown",
   "id": "80a4839d",
   "metadata": {},
   "source": [
    "# Q7. How nominal data type is different from ordinal data type."
   ]
  },
  {
   "cell_type": "markdown",
   "id": "3948ea9a",
   "metadata": {},
   "source": [
    "Difference between Nominal Data and Ordinal Data\n",
    "    1. Nominal data can’t be quantified, neither they have any intrinsic ordering. While ordinal data gives some kind of              sequential order by their position on the scale.\n",
    "    2. Nominal data is qualitative data or categorical data. But ordinal data is said to be in between quantative and                  qualitative data.\n",
    "    3. Nominal data dont provide quantitative value, neither can we perform any airthmetical operation. They provide sequence          and can assign numbers to ordinal data but cannot perform the arithmetical operation\n",
    "    4. Nominal data cannot be used to compare with one another. Ordinal data can help to compare one item with another by              ranking or ordering"
   ]
  },
  {
   "cell_type": "markdown",
   "id": "ed276fb7",
   "metadata": {},
   "source": [
    "# Q8. Which type of plot can be used to display data in terms of range?"
   ]
  },
  {
   "cell_type": "markdown",
   "id": "10ec51dd",
   "metadata": {},
   "source": [
    "Histogram, bar chart, pie chart, box chart, line chart etc"
   ]
  },
  {
   "cell_type": "markdown",
   "id": "2cb2aeda",
   "metadata": {},
   "source": [
    "# Q9. Describe the difference between descriptive and inferential statistics. Give an example of each type of statistics and explain how they are used."
   ]
  },
  {
   "cell_type": "markdown",
   "id": "f471aa07",
   "metadata": {},
   "source": [
    "Using descriptive statistics, you can report characteristics of your data:\n",
    "\n",
    "The distribution concerns the frequency of each value.\n",
    "The central tendency concerns the averages of the values.\n",
    "The variability concerns how spread out the values are.\n",
    "In descriptive statistics, there is no uncertainty – the statistics precisely describe the data that you collected. If you collect data from an entire population, you can directly compare these descriptive statistics to those from other populations.\n",
    "\n",
    "Example: Descriptive statistics\n",
    "You collect data on the SAT scores of all 11th graders in a school for three years.\n",
    "You can use descriptive statistics to get a quick overview of the school’s scores in those years. You can then directly compare the mean SAT score with the mean scores of other schools."
   ]
  },
  {
   "cell_type": "markdown",
   "id": "33fd61b3",
   "metadata": {},
   "source": [
    "Most of the time, you can only acquire data from samples, because it is too difficult or expensive to collect data from the whole population that you’re interested in.\n",
    "\n",
    "While descriptive statistics can only summarize a sample’s characteristics, inferential statistics use your sample to make reasonable guesses about the larger population.\n",
    "\n",
    "With inferential statistics, it’s important to use random and unbiased sampling methods. If your sample isn’t representative of your population, then you can’t make valid statistical inferences or generalize.\n",
    "\n",
    "Example: Inferential statistics\n",
    "You randomly select a sample of 11th graders in your state and collect data on their SAT scores and other characteristics.\n",
    "You can use inferential statistics to make estimates and test hypotheses about the whole population of 11th graders in the state based on your sample data."
   ]
  },
  {
   "cell_type": "markdown",
   "id": "f088a36a",
   "metadata": {},
   "source": [
    "# Q10. What are some common measures of central tendency and variability used in statistics? Explain how each measure can be used to describe a dataset."
   ]
  },
  {
   "cell_type": "markdown",
   "id": "036a396b",
   "metadata": {},
   "source": [
    "\n",
    "Measures of central tendency help you find the middle, or the average, of a dataset. The 3 most common measures of central tendency are the mode, median, and mean.\n",
    "Measures of central tendency\n",
    "\n",
    "Mean:\n",
    "\n",
    "The arithmetic mean of a dataset (which is different from the geometric mean) is the sum of all values divided by the total number of values. It’s the most commonly used measure of central tendency because all values are used in the calculation. Outliers can significantly increase or decrease the mean when they are included in the calculation. Since all values are used to calculate the mean, it can be affected by extreme outliers.\n",
    "\n",
    "Median:\n",
    "\n",
    "The median of a dataset is the value that’s exactly in the middle when it is ordered from low to high.  It is a robust measure of central tendency that is not affected by outliers, and it provides information about the middle value of the distribution.\n",
    "\n",
    "Mode:\n",
    "\n",
    "The mode is the most frequently occurring value in the dataset. It’s possible to have no mode, one mode, or more than one mode.\n",
    "To find the mode, sort your dataset numerically or categorically and select the response that occurs most frequently.\n",
    "\n",
    "Measures of variability:\n",
    "\n",
    "Variance:\n",
    "\n",
    "A measure of how far a set of numbers are spread out from each other. It describes how far the numbers lie from the mean (expected value). It is the square of standard deviation.\n",
    "\n",
    "Standard Deviation:\n",
    "\n",
    "it is only used for data that are “normally distributed”. SD indicates how much a set of values is spread around the average. SD is determined by the variance (SD=the root of the variance).\n",
    "\n",
    "Range: \n",
    "\n",
    "it is the length of the smallest interval which contains all the data and is calculated by subtracting the smallest observation (sample minimum) from the greatest (sample maximum) and provides an indication of statistical dispersion. It bears the same units as the data used for calculating it.\n",
    "\n",
    "Interquartile range(IQR): \n",
    "\n",
    "the interquartile range (IQR), is also known as the 'midspread' or 'middle fifty', is a measure of statistical dispersion, being equal to the difference between the third and first quartiles. IQR = Q3 − Q1. "
   ]
  }
 ],
 "metadata": {
  "kernelspec": {
   "display_name": "Python 3",
   "language": "python",
   "name": "python3"
  },
  "language_info": {
   "codemirror_mode": {
    "name": "ipython",
    "version": 3
   },
   "file_extension": ".py",
   "mimetype": "text/x-python",
   "name": "python",
   "nbconvert_exporter": "python",
   "pygments_lexer": "ipython3",
   "version": "3.8.8"
  }
 },
 "nbformat": 4,
 "nbformat_minor": 5
}
