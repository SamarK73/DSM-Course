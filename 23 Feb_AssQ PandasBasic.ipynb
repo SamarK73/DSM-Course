{
 "cells": [
  {
   "cell_type": "markdown",
   "id": "111f29b3",
   "metadata": {},
   "source": [
    "# Q1. Create a Pandas Series that contains the following data: 4, 8, 15, 16, 23, and 42. Then, print the series."
   ]
  },
  {
   "cell_type": "code",
   "execution_count": 1,
   "id": "2c029e40",
   "metadata": {},
   "outputs": [],
   "source": [
    "import pandas as pd"
   ]
  },
  {
   "cell_type": "code",
   "execution_count": 2,
   "id": "479a005c",
   "metadata": {},
   "outputs": [
    {
     "data": {
      "text/plain": [
       "0     4\n",
       "1     8\n",
       "2    15\n",
       "3    16\n",
       "4    23\n",
       "5    42\n",
       "dtype: int64"
      ]
     },
     "execution_count": 2,
     "metadata": {},
     "output_type": "execute_result"
    }
   ],
   "source": [
    "list1 = [4,8,15,16,23,42]\n",
    "pd_series = pd.Series(list1)\n",
    "pd_series"
   ]
  },
  {
   "cell_type": "markdown",
   "id": "b2ddf63d",
   "metadata": {},
   "source": [
    "# Q2. Create a variable of list type containing 10 elements in it, and apply pandas.Series function on the variable print it."
   ]
  },
  {
   "cell_type": "code",
   "execution_count": 3,
   "id": "22e8ec4f",
   "metadata": {},
   "outputs": [
    {
     "data": {
      "text/plain": [
       "0    2\n",
       "1    s\n",
       "2    x\n",
       "3    3\n",
       "4    4\n",
       "5    d\n",
       "6    4\n",
       "7    5\n",
       "8    x\n",
       "9    9\n",
       "dtype: object"
      ]
     },
     "execution_count": 3,
     "metadata": {},
     "output_type": "execute_result"
    }
   ],
   "source": [
    "list2 = [2,'s','x',3,4,'d','4','5','x',9]\n",
    "panda_series = pd.Series(list2)\n",
    "panda_series"
   ]
  },
  {
   "cell_type": "markdown",
   "id": "fb862dd1",
   "metadata": {},
   "source": [
    "# Q3. Create a Pandas DataFrame that contains the following data:"
   ]
  },
  {
   "attachments": {
    "image.png": {
     "image/png": "[encoded data removed]"
    }
   },
   "cell_type": "markdown",
   "id": "57fbc480",
   "metadata": {},
   "source": [
    "![image.png](attachment:image.png)"
   ]
  },
  {
   "cell_type": "code",
   "execution_count": 10,
   "id": "bcb3da49",
   "metadata": {},
   "outputs": [],
   "source": [
    "my_dict = {\"Name\":[\"Alice\",\"Bob\",\"Claire\"],\n",
    "           \"Age\" : [25,30,27],\n",
    "           \"Gender\":[\"Female\",\"Male\",\"Female\"]\n",
    "          }"
   ]
  },
  {
   "cell_type": "code",
   "execution_count": 15,
   "id": "2c05e84f",
   "metadata": {},
   "outputs": [
    {
     "data": {
      "text/html": [
       "<div>\n",
       "<style scoped>\n",
       "    .dataframe tbody tr th:only-of-type {\n",
       "        vertical-align: middle;\n",
       "    }\n",
       "\n",
       "    .dataframe tbody tr th {\n",
       "        vertical-align: top;\n",
       "    }\n",
       "\n",
       "    .dataframe thead th {\n",
       "        text-align: right;\n",
       "    }\n",
       "</style>\n",
       "<table border=\"1\" class=\"dataframe\">\n",
       "  <thead>\n",
       "    <tr style=\"text-align: right;\">\n",
       "      <th></th>\n",
       "      <th>Name</th>\n",
       "      <th>Age</th>\n",
       "      <th>Gender</th>\n",
       "    </tr>\n",
       "  </thead>\n",
       "  <tbody>\n",
       "    <tr>\n",
       "      <th>0</th>\n",
       "      <td>Alice</td>\n",
       "      <td>25</td>\n",
       "      <td>Female</td>\n",
       "    </tr>\n",
       "    <tr>\n",
       "      <th>1</th>\n",
       "      <td>Bob</td>\n",
       "      <td>30</td>\n",
       "      <td>Male</td>\n",
       "    </tr>\n",
       "    <tr>\n",
       "      <th>2</th>\n",
       "      <td>Claire</td>\n",
       "      <td>27</td>\n",
       "      <td>Female</td>\n",
       "    </tr>\n",
       "  </tbody>\n",
       "</table>\n",
       "</div>"
      ],
      "text/plain": [
       "     Name  Age  Gender\n",
       "0   Alice   25  Female\n",
       "1     Bob   30    Male\n",
       "2  Claire   27  Female"
      ]
     },
     "execution_count": 15,
     "metadata": {},
     "output_type": "execute_result"
    }
   ],
   "source": [
    "df_my_dict = pd.DataFrame(my_dict)\n",
    "df_my_dict"
   ]
  },
  {
   "cell_type": "markdown",
   "id": "36d440ed",
   "metadata": {},
   "source": [
    "# Q4. What is ‘DataFrame’ in pandas and how is it different from pandas.series? Explain with an example."
   ]
  },
  {
   "cell_type": "markdown",
   "id": "eb711a4c",
   "metadata": {},
   "source": [
    "DataFrame is a 2-dimensional labeled data structure with columns of potentially different types. You can think of it like a spreadsheet or SQL table, or a dict of Series objects. It is generally the most commonly used pandas object.\n",
    "Pandas series is one dimensional, elements must be of same data type. It is the primary building block for a DataFrame."
   ]
  },
  {
   "cell_type": "code",
   "execution_count": 16,
   "id": "4cafdabd",
   "metadata": {},
   "outputs": [
    {
     "name": "stdout",
     "output_type": "stream",
     "text": [
      "one    [1, 2, 3, x]\n",
      "dtype: object\n"
     ]
    }
   ],
   "source": [
    "# Series\n",
    "dict1={'one':[1,2,3,'x']}\n",
    "series_dict1 = pd.Series(dict1)\n",
    "print(series_dict1)"
   ]
  },
  {
   "cell_type": "code",
   "execution_count": 19,
   "id": "c5d86839",
   "metadata": {},
   "outputs": [
    {
     "name": "stdout",
     "output_type": "stream",
     "text": [
      "      a        b         c                 d\n",
      "0  This       is         a         DataFrame\n",
      "1    It  contain  multiple  rows and columns\n",
      "2    It       is       2-D    Data structure\n"
     ]
    }
   ],
   "source": [
    "# DataFrame\n",
    "d_dict3 = {\n",
    "    'a':['This','It','It'],\n",
    "    'b':['is','contain','is'],\n",
    "    'c':['a','multiple','2-D'],\n",
    "    'd':['DataFrame','rows and columns','Data structure']\n",
    "}\n",
    "# Create DataFrame\n",
    "df_dict = pd.DataFrame(d_dict3)\n",
    "\n",
    "#Print DataFrame\n",
    "print(df_dict)"
   ]
  },
  {
   "cell_type": "markdown",
   "id": "076c54d5",
   "metadata": {},
   "source": [
    "# Q5. What are some common functions you can use to manipulate data in a Pandas DataFrame? Can you give an example of when you might use one of these functions?"
   ]
  },
  {
   "cell_type": "markdown",
   "id": "3640ae7b",
   "metadata": {},
   "source": [
    "1.  head() :  The head() method returns a specified number of rows(by default 5) from the top.\n",
    "2.  tail() :  The tail() method returns a specified number of last rows(by default 5). \n",
    "3.  drop() :  to drop single and multiple columns in the DataFrame\n",
    "4.  read_csv() : reads csv file\n",
    "5.  to_csv()  : writes csv file"
   ]
  },
  {
   "cell_type": "markdown",
   "id": "ed1f1aa2",
   "metadata": {},
   "source": [
    "# Q6. Which of the following is mutable in nature Series, DataFrame, Panel?"
   ]
  },
  {
   "cell_type": "markdown",
   "id": "e1a82ffb",
   "metadata": {},
   "source": [
    "DataFrame : DataFrames are both value-mutable and size-mutable \n",
    "Series  :  Series, by contrast, is only value-mutable, not size-mutable. The length of a Series cannot be changed\n",
    "Panel :   Panel are size mutable    "
   ]
  },
  {
   "cell_type": "markdown",
   "id": "796ed604",
   "metadata": {},
   "source": [
    "# Q7. Create a DataFrame using multiple Series. Explain with an example."
   ]
  },
  {
   "cell_type": "code",
   "execution_count": 22,
   "id": "8e68b990",
   "metadata": {},
   "outputs": [
    {
     "data": {
      "text/html": [
       "<div>\n",
       "<style scoped>\n",
       "    .dataframe tbody tr th:only-of-type {\n",
       "        vertical-align: middle;\n",
       "    }\n",
       "\n",
       "    .dataframe tbody tr th {\n",
       "        vertical-align: top;\n",
       "    }\n",
       "\n",
       "    .dataframe thead th {\n",
       "        text-align: right;\n",
       "    }\n",
       "</style>\n",
       "<table border=\"1\" class=\"dataframe\">\n",
       "  <thead>\n",
       "    <tr style=\"text-align: right;\">\n",
       "      <th></th>\n",
       "      <th>Name</th>\n",
       "      <th>Age</th>\n",
       "      <th>Marks</th>\n",
       "    </tr>\n",
       "  </thead>\n",
       "  <tbody>\n",
       "    <tr>\n",
       "      <th>0</th>\n",
       "      <td>A</td>\n",
       "      <td>25</td>\n",
       "      <td>87</td>\n",
       "    </tr>\n",
       "    <tr>\n",
       "      <th>1</th>\n",
       "      <td>B</td>\n",
       "      <td>22</td>\n",
       "      <td>90</td>\n",
       "    </tr>\n",
       "    <tr>\n",
       "      <th>2</th>\n",
       "      <td>C</td>\n",
       "      <td>23</td>\n",
       "      <td>95</td>\n",
       "    </tr>\n",
       "    <tr>\n",
       "      <th>3</th>\n",
       "      <td>D</td>\n",
       "      <td>24</td>\n",
       "      <td>99</td>\n",
       "    </tr>\n",
       "  </tbody>\n",
       "</table>\n",
       "</div>"
      ],
      "text/plain": [
       "  Name  Age  Marks\n",
       "0    A   25     87\n",
       "1    B   22     90\n",
       "2    C   23     95\n",
       "3    D   24     99"
      ]
     },
     "execution_count": 22,
     "metadata": {},
     "output_type": "execute_result"
    }
   ],
   "source": [
    "series1 = pd.Series(['A','B','C','D'])\n",
    "series2 = pd.Series([25,22,23,24])\n",
    "series3 = pd.Series([87,90,95,99])\n",
    "a_dict = {\n",
    "         \"Name\" : series1,\n",
    "         \"Age\"  : series2,\n",
    "         \"Marks\": series3\n",
    "}\n",
    "df_series = pd.DataFrame(a_dict)\n",
    "df_series"
   ]
  },
  {
   "cell_type": "code",
   "execution_count": null,
   "id": "1642ebee",
   "metadata": {},
   "outputs": [],
   "source": []
  }
 ],
 "metadata": {
  "kernelspec": {
   "display_name": "Python 3",
   "language": "python",
   "name": "python3"
  },
  "language_info": {
   "codemirror_mode": {
    "name": "ipython",
    "version": 3
   },
   "file_extension": ".py",
   "mimetype": "text/x-python",
   "name": "python",
   "nbconvert_exporter": "python",
   "pygments_lexer": "ipython3",
   "version": "3.8.8"
  }
 },
 "nbformat": 4,
 "nbformat_minor": 5
}
