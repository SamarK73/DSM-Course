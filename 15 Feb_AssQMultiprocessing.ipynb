{
 "cells": [
  {
   "cell_type": "markdown",
   "id": "c28a916b",
   "metadata": {},
   "source": [
    "# Q1. What is multiprocessing in python? Why is it useful?"
   ]
  },
  {
   "cell_type": "code",
   "execution_count": 1,
   "id": "95fd30bf",
   "metadata": {},
   "outputs": [],
   "source": [
    "# multiprocessing is a package that supports spawning processes using an API similar to the threading module.\n",
    "#\n",
    "#The multiprocessing package offers both local and remote concurrency, effectively side-stepping the Global Interpreter \n",
    "#Lock by using subprocesses instead of threads. Due to this multiprocessing module allows the programmer to fully leverage \n",
    "# multiple processors on a givin machine."
   ]
  },
  {
   "cell_type": "markdown",
   "id": "5fdd718f",
   "metadata": {},
   "source": [
    "# Q2. What are the differences between multiprocessing and multithreading?"
   ]
  },
  {
   "cell_type": "code",
   "execution_count": 2,
   "id": "cf01937f",
   "metadata": {},
   "outputs": [],
   "source": [
    "#Both Multiprocessing and Multithreading are used to increase the computing power of a system.\n",
    "\n",
    "#Multiprocessing:\n",
    "#    1. In Multiprocessing, CPUs are added for increasing computing power.\n",
    "#    2. In Multiprocessing, Many processes are executed simultaneously.\n",
    "#    3. Multiprocessing are classified into Symmetric and Asymmetric.\n",
    "#    4. In Multiprocessing, Process creation is a time-consuming process.\n",
    "#    5. In Multiprocessing, every process owned a separate address space.\n",
    "#Multithreading:\n",
    "#    1. In Multithreading, many threads are created of a single process for increasing computing power.\n",
    "#    2. In multithreading, many threads of a process are executed simultaneously.\n",
    "#    3. In Multithreading is not classified in any categories.\n",
    "#    4. In Multiprocessing, Process creation is a time-consuming.\n",
    "#    5. While in Multithreading, process creation is according to economical.\n",
    "#    6. While in Multithreading, process creation is according to economical.\n",
    "    "
   ]
  },
  {
   "cell_type": "markdown",
   "id": "143c76df",
   "metadata": {},
   "source": [
    "# Q3. Write a python code to create a process using the multiprocessing module."
   ]
  },
  {
   "cell_type": "code",
   "execution_count": 1,
   "id": "24b65b3e",
   "metadata": {},
   "outputs": [
    {
     "name": "stdout",
     "output_type": "stream",
     "text": [
      "Done!\n"
     ]
    }
   ],
   "source": [
    "# importing the multiprocessing module\n",
    "import multiprocessing\n",
    "  \n",
    "def print_cube(num):\n",
    "    \n",
    "    print(\"Cube: {}\".format(num * num * num))\n",
    "  \n",
    "def print_square(num):\n",
    "    \n",
    "    print(\"Square: {}\".format(num * num))\n",
    "  \n",
    "if __name__ == \"__main__\":\n",
    "    # creating processes\n",
    "    p1 = multiprocessing.Process(target=print_square, args=(10, ))\n",
    "    p2 = multiprocessing.Process(target=print_cube, args=(10, ))\n",
    "  \n",
    "    # starting process 1\n",
    "    p1.start()\n",
    "    # starting process 2\n",
    "    p2.start()\n",
    "  \n",
    "    # wait until process 1 is finished\n",
    "    p1.join()\n",
    "    # wait until process 2 is finished\n",
    "    p2.join()\n",
    "  \n",
    "    # both processes finished\n",
    "    print(\"Done!\")"
   ]
  },
  {
   "cell_type": "code",
   "execution_count": 2,
   "id": "97978afd",
   "metadata": {},
   "outputs": [
    {
     "name": "stdout",
     "output_type": "stream",
     "text": [
      "0.0\n",
      "[0, 1, 2, 3, 4, 5, 6, 7, 8, 9]\n"
     ]
    }
   ],
   "source": [
    "from multiprocessing import Process, Value, Array\n",
    "\n",
    "def f(n, a):\n",
    "    n.value = 3.1415927\n",
    "    for i in range(len(a)):\n",
    "        a[i] = -a[i]\n",
    "\n",
    "if __name__ == '__main__':\n",
    "    num = Value('d', 0.0)\n",
    "    arr = Array('i', range(10))\n",
    "\n",
    "    p = Process(target=f, args=(num, arr))\n",
    "    p.start()\n",
    "    p.join()\n",
    "\n",
    "    print(num.value)\n",
    "    print(arr[:])"
   ]
  },
  {
   "cell_type": "markdown",
   "id": "29131301",
   "metadata": {},
   "source": [
    "# Q4. What is a multiprocessing pool in python? Why is it used?"
   ]
  },
  {
   "cell_type": "code",
   "execution_count": 3,
   "id": "fdf99054",
   "metadata": {},
   "outputs": [],
   "source": [
    "# A process pool is a programming pattern for automatically managing a pool of worker processes.\n",
    "#   The pool is responsible for a fixed number of processes.\n",
    "#            1. It controls when they are created, such as when they are needed.\n",
    "#            2. It also controls what they should do when they are not being used, such as making them wait without \n",
    "#               consuming computational resources."
   ]
  },
  {
   "cell_type": "markdown",
   "id": "3b3712c6",
   "metadata": {},
   "source": [
    "# Q5. How can we create a pool of worker processes in python using the multiprocessing module?"
   ]
  },
  {
   "cell_type": "code",
   "execution_count": 1,
   "id": "bb7e3a91",
   "metadata": {},
   "outputs": [],
   "source": [
    "# 1. Create the process pool\n",
    "# 2. Submit tasks to the process pool\n",
    "# 3. Wait for tasks to complete\n",
    "# 4. Shutdown the process pool"
   ]
  },
  {
   "cell_type": "code",
   "execution_count": null,
   "id": "2b9bec99",
   "metadata": {},
   "outputs": [],
   "source": [
    "import multiprocessing\n",
    "def square(n):\n",
    "    return n**2\n",
    "if __name__ == '__main__':\n",
    "    with multiprocessing.Pool(processes=5) as pool :\n",
    "        out =pool.map(square , [3,4,5,6,6,7,87,8,8])\n",
    "        print(out)"
   ]
  },
  {
   "cell_type": "markdown",
   "id": "58c32c60",
   "metadata": {},
   "source": [
    "# Q6. Write a python program to create 4 processes, each process should print a different number using the multiprocessing module in python."
   ]
  },
  {
   "cell_type": "code",
   "execution_count": 2,
   "id": "1b38cab6",
   "metadata": {},
   "outputs": [
    {
     "name": "stdout",
     "output_type": "stream",
     "text": [
      "ID of main process: 6832\n",
      "ID of process p1: 1448\n",
      "ID of process p2: 6556\n",
      "ID of process p3: 16436\n",
      "ID of process p4: 13288\n",
      "Both processes finished execution!\n",
      "Process p1 is alive: False\n",
      "Process p2 is alive: False\n",
      "Process p3 is alive: False\n",
      "Process p4 is alive: False\n"
     ]
    }
   ],
   "source": [
    "import multiprocessing\n",
    "import os\n",
    "  \n",
    "def worker1():\n",
    "    # printing process id\n",
    "    print(\"ID of process running worker1: {}\".format(os.getpid()))\n",
    "  \n",
    "def worker2():\n",
    "    # printing process id\n",
    "    print(\"ID of process running worker2: {}\".format(os.getpid()))\n",
    "\n",
    "def worker3():\n",
    "    # printing process id\n",
    "    print(\"ID of process running worker3: {}\".format(os.getpid()))\n",
    "\n",
    "def worker4():\n",
    "    # printing process id\n",
    "    print(\"ID of process running worker4: {}\".format(os.getpid()))\n",
    "\n",
    "\n",
    "  \n",
    "if __name__ == \"__main__\":\n",
    "    # printing main program process id\n",
    "    print(\"ID of main process: {}\".format(os.getpid()))\n",
    "  \n",
    "    # creating processes\n",
    "    p1 = multiprocessing.Process(target=worker1)\n",
    "    p2 = multiprocessing.Process(target=worker2)\n",
    "    p3 = multiprocessing.Process(target=worker3)\n",
    "    p4 = multiprocessing.Process(target=worker4)\n",
    "\n",
    "    # starting processes\n",
    "    p1.start()\n",
    "    p2.start()\n",
    "    p3.start()\n",
    "    p4.start()\n",
    "    # process IDs\n",
    "    print(\"ID of process p1: {}\".format(p1.pid))\n",
    "    print(\"ID of process p2: {}\".format(p2.pid))\n",
    "    print(\"ID of process p3: {}\".format(p3.pid))\n",
    "    print(\"ID of process p4: {}\".format(p4.pid))\n",
    "\n",
    "    # wait until processes are finished\n",
    "    p1.join()\n",
    "    p2.join()\n",
    "    p3.join()\n",
    "    p4.join()\n",
    "    # both processes finished\n",
    "    print(\"Both processes finished execution!\")\n",
    "  \n",
    "    # check if processes are alive\n",
    "    print(\"Process p1 is alive: {}\".format(p1.is_alive()))\n",
    "    print(\"Process p2 is alive: {}\".format(p2.is_alive()))\n",
    "    print(\"Process p3 is alive: {}\".format(p3.is_alive()))\n",
    "    print(\"Process p4 is alive: {}\".format(p4.is_alive()))"
   ]
  },
  {
   "cell_type": "code",
   "execution_count": null,
   "id": "aa1bca38",
   "metadata": {},
   "outputs": [],
   "source": []
  }
 ],
 "metadata": {
  "kernelspec": {
   "display_name": "Python 3",
   "language": "python",
   "name": "python3"
  },
  "language_info": {
   "codemirror_mode": {
    "name": "ipython",
    "version": 3
   },
   "file_extension": ".py",
   "mimetype": "text/x-python",
   "name": "python",
   "nbconvert_exporter": "python",
   "pygments_lexer": "ipython3",
   "version": "3.8.8"
  }
 },
 "nbformat": 4,
 "nbformat_minor": 5
}
