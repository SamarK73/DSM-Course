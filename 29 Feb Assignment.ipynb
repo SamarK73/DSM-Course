{
 "cells": [
  {
   "cell_type": "markdown",
   "id": "61637fb0",
   "metadata": {},
   "source": [
    "# Q1. Who developed python programming language?"
   ]
  },
  {
   "cell_type": "code",
   "execution_count": 1,
   "id": "ea051d3b",
   "metadata": {},
   "outputs": [],
   "source": [
    "# Guido van Rossum"
   ]
  },
  {
   "cell_type": "markdown",
   "id": "5932f1d7",
   "metadata": {},
   "source": [
    "# Q2. Which type of programming does python support?"
   ]
  },
  {
   "cell_type": "code",
   "execution_count": 2,
   "id": "2d9f884a",
   "metadata": {},
   "outputs": [],
   "source": [
    "# Object-oriented programming and structured programming"
   ]
  },
  {
   "cell_type": "markdown",
   "id": "299aef46",
   "metadata": {},
   "source": [
    "# Q3. Is python case sensitive when dealing with identifiers?"
   ]
  },
  {
   "cell_type": "code",
   "execution_count": 3,
   "id": "22fce202",
   "metadata": {},
   "outputs": [],
   "source": [
    "# Yes, Python is a case-sensitive language"
   ]
  },
  {
   "cell_type": "markdown",
   "id": "65f965e9",
   "metadata": {},
   "source": [
    "# Q4. What is the correct extension of the python file?"
   ]
  },
  {
   "cell_type": "code",
   "execution_count": 4,
   "id": "1be944a4",
   "metadata": {},
   "outputs": [],
   "source": [
    "# .py"
   ]
  },
  {
   "cell_type": "markdown",
   "id": "4f0e2224",
   "metadata": {},
   "source": [
    "# Q5. Is python code compiled or interpreted?"
   ]
  },
  {
   "cell_type": "code",
   "execution_count": 6,
   "id": "5e742345",
   "metadata": {},
   "outputs": [],
   "source": [
    "# Python is an interpreted language"
   ]
  },
  {
   "cell_type": "markdown",
   "id": "77938dd0",
   "metadata": {},
   "source": [
    "# Q6. Name a few blocks of code used to define in Python language?"
   ]
  },
  {
   "cell_type": "code",
   "execution_count": 21,
   "id": "e9b3e5fa",
   "metadata": {},
   "outputs": [],
   "source": [
    "#Indentation is used to define a block of code in python."
   ]
  },
  {
   "cell_type": "markdown",
   "id": "e663abc2",
   "metadata": {},
   "source": [
    "# Q7. State a character used to give single line comments in python?"
   ]
  },
  {
   "cell_type": "code",
   "execution_count": 7,
   "id": "7cbfea54",
   "metadata": {},
   "outputs": [],
   "source": [
    "#"
   ]
  },
  {
   "cell_type": "markdown",
   "id": "5d6c18b3",
   "metadata": {},
   "source": [
    "# Q8. Mention functions which can help us to find the version of python that we are currently working on?"
   ]
  },
  {
   "cell_type": "code",
   "execution_count": 12,
   "id": "4580907b",
   "metadata": {},
   "outputs": [
    {
     "data": {
      "text/plain": [
       "'3.8.8 (default, Apr 13 2021, 15:08:03) [MSC v.1916 64 bit (AMD64)]'"
      ]
     },
     "execution_count": 12,
     "metadata": {},
     "output_type": "execute_result"
    }
   ],
   "source": [
    "import sys\n",
    "sys.version"
   ]
  },
  {
   "cell_type": "markdown",
   "id": "1755365f",
   "metadata": {},
   "source": [
    "# Q9. Python supports the creation of anonymous functions at run time, using a contruct called___"
   ]
  },
  {
   "cell_type": "code",
   "execution_count": 13,
   "id": "91f1abb5",
   "metadata": {},
   "outputs": [],
   "source": [
    "# lambda"
   ]
  },
  {
   "cell_type": "markdown",
   "id": "fefa6d7c",
   "metadata": {},
   "source": [
    "# Q10. What does pip stand for python?"
   ]
  },
  {
   "cell_type": "code",
   "execution_count": 14,
   "id": "6ab37008",
   "metadata": {},
   "outputs": [],
   "source": [
    "# installing packages"
   ]
  },
  {
   "cell_type": "markdown",
   "id": "64e54d80",
   "metadata": {},
   "source": [
    "# Q11. Mention a few built in functions in python?"
   ]
  },
  {
   "cell_type": "code",
   "execution_count": 15,
   "id": "20819e4c",
   "metadata": {},
   "outputs": [],
   "source": [
    "# bin(), bool(), byte(), abs() etc."
   ]
  },
  {
   "cell_type": "markdown",
   "id": "7ce45873",
   "metadata": {},
   "source": [
    "# Q12. what is the maximum possible length of an identifier"
   ]
  },
  {
   "cell_type": "code",
   "execution_count": 16,
   "id": "93929134",
   "metadata": {},
   "outputs": [
    {
     "data": {
      "text/plain": [
       "79"
      ]
     },
     "execution_count": 16,
     "metadata": {},
     "output_type": "execute_result"
    }
   ],
   "source": [
    "79"
   ]
  },
  {
   "cell_type": "markdown",
   "id": "c3f71c53",
   "metadata": {},
   "source": [
    "# Q13. what are the benefits of using python"
   ]
  },
  {
   "cell_type": "code",
   "execution_count": 17,
   "id": "73f765c7",
   "metadata": {},
   "outputs": [],
   "source": [
    "# Almost all of the tasks done in Python requires less coding when the same task is done in other languages. \n",
    "# Python also has awesome standard library support, so you don't have to search for any third-party libraries to \n",
    "# get your job done."
   ]
  },
  {
   "cell_type": "markdown",
   "id": "56ff9ca8",
   "metadata": {},
   "source": [
    "# Q14. how is memory managed in python"
   ]
  },
  {
   "cell_type": "code",
   "execution_count": 18,
   "id": "d223edbe",
   "metadata": {},
   "outputs": [],
   "source": [
    "# Memory management in Python involves a private heap containing all Python objects and data structures. \n",
    "# The management of this private heap is ensured internally by the Python memory manager."
   ]
  },
  {
   "cell_type": "markdown",
   "id": "28de1bf0",
   "metadata": {},
   "source": [
    "# Q15. how to install python on windows and set path variable"
   ]
  },
  {
   "cell_type": "code",
   "execution_count": 20,
   "id": "3d17968b",
   "metadata": {},
   "outputs": [],
   "source": [
    "#Install python from this link https://www.python.org/downloads/ \n",
    "# After this, install it on your laptop. Look for the location where PYTHON has been installed on your laptop using the \n",
    "# following command on your command prompt: cmd python. Then go to advanced system settings and add a new variable and \n",
    "# name it as PYTHON_NAME and paste the copied path. Then look for the path variable, select it's value and select edit \n",
    "# Add a semicolon towards the end of the value.\n",
    " "
   ]
  },
  {
   "cell_type": "markdown",
   "id": "f73e897f",
   "metadata": {},
   "source": [
    "# Q16. is indentation required in python?"
   ]
  },
  {
   "cell_type": "code",
   "execution_count": null,
   "id": "df07ec83",
   "metadata": {},
   "outputs": [],
   "source": [
    "# the indentation in Python is very important. Python uses indentation to indicate a block of code."
   ]
  }
 ],
 "metadata": {
  "kernelspec": {
   "display_name": "Python 3",
   "language": "python",
   "name": "python3"
  },
  "language_info": {
   "codemirror_mode": {
    "name": "ipython",
    "version": 3
   },
   "file_extension": ".py",
   "mimetype": "text/x-python",
   "name": "python",
   "nbconvert_exporter": "python",
   "pygments_lexer": "ipython3",
   "version": "3.8.8"
  }
 },
 "nbformat": 4,
 "nbformat_minor": 5
}
