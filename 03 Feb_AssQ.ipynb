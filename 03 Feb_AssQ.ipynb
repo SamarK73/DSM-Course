{
 "cells": [
  {
   "cell_type": "markdown",
   "id": "7d5c45da",
   "metadata": {},
   "source": [
    "# Assignment 03 Feb_AssQ"
   ]
  },
  {
   "cell_type": "markdown",
   "id": "906cfa0f",
   "metadata": {},
   "source": [
    "# Q1. Which keyword is used to create a function? Create a function to return a list of odd numbers in the range of 1 to 25."
   ]
  },
  {
   "cell_type": "code",
   "execution_count": 1,
   "id": "21b60cb8",
   "metadata": {},
   "outputs": [],
   "source": [
    "## Ans. def keyword is used to create a function."
   ]
  },
  {
   "cell_type": "code",
   "execution_count": 2,
   "id": "7f45c7f4",
   "metadata": {},
   "outputs": [],
   "source": [
    "def OddNo(a,b):\n",
    "    n=[]\n",
    "    for i in range(a,b):\n",
    "        if i%2==1:\n",
    "            n.append(i)\n",
    "    return n\n"
   ]
  },
  {
   "cell_type": "code",
   "execution_count": 3,
   "id": "28b29677",
   "metadata": {},
   "outputs": [
    {
     "data": {
      "text/plain": [
       "[1, 3, 5, 7, 9, 11, 13, 15, 17, 19, 21, 23]"
      ]
     },
     "execution_count": 3,
     "metadata": {},
     "output_type": "execute_result"
    }
   ],
   "source": [
    "OddNo(1,25)"
   ]
  },
  {
   "cell_type": "code",
   "execution_count": 4,
   "id": "f7c667a2",
   "metadata": {},
   "outputs": [],
   "source": [
    "def OddNo(a,b):\n",
    "    n=[]\n",
    "    for i in range(a,b):\n",
    "        if i%2==1:\n",
    "            print(i, end=\" \")"
   ]
  },
  {
   "cell_type": "code",
   "execution_count": 5,
   "id": "03d111fd",
   "metadata": {},
   "outputs": [
    {
     "name": "stdout",
     "output_type": "stream",
     "text": [
      "1 3 5 7 9 11 13 15 17 19 21 23 "
     ]
    }
   ],
   "source": [
    "OddNo(1,25)"
   ]
  },
  {
   "cell_type": "markdown",
   "id": "24fcd103",
   "metadata": {},
   "source": [
    "# Q2. Why *args and **kwargs is used in some functions? Create a function each for *args and **kwargs to demonstrate their use."
   ]
  },
  {
   "cell_type": "code",
   "execution_count": 6,
   "id": "80882c05",
   "metadata": {},
   "outputs": [],
   "source": [
    "## Ans2. You can use *args and *kwargs as arguments of a function when you are unsure about the number of arguments \n",
    "##       to pass in the functions.\n",
    "##       *args allows us to pass a variable no. of non keyword arguments to a function\n",
    "##       **kwargs allows us to pass a variable number of keyword arguments to a function."
   ]
  },
  {
   "cell_type": "code",
   "execution_count": 7,
   "id": "5efe4c81",
   "metadata": {},
   "outputs": [],
   "source": [
    "# Use of *args"
   ]
  },
  {
   "cell_type": "code",
   "execution_count": 10,
   "id": "852a2860",
   "metadata": {},
   "outputs": [],
   "source": [
    "def AddNum(*args):\n",
    "    total =0\n",
    "    for n in args:\n",
    "        total+=n\n",
    "    return total"
   ]
  },
  {
   "cell_type": "code",
   "execution_count": 11,
   "id": "41d1a4c4",
   "metadata": {},
   "outputs": [
    {
     "name": "stdout",
     "output_type": "stream",
     "text": [
      "5\n"
     ]
    }
   ],
   "source": [
    "print(AddNum(2,3))"
   ]
  },
  {
   "cell_type": "code",
   "execution_count": 12,
   "id": "f5e0057a",
   "metadata": {},
   "outputs": [
    {
     "name": "stdout",
     "output_type": "stream",
     "text": [
      "16\n"
     ]
    }
   ],
   "source": [
    "print(AddNum(2,3,5,6))"
   ]
  },
  {
   "cell_type": "code",
   "execution_count": 13,
   "id": "d5f0b27f",
   "metadata": {},
   "outputs": [],
   "source": [
    "# Use of **kwargs"
   ]
  },
  {
   "cell_type": "code",
   "execution_count": 14,
   "id": "ff84ab49",
   "metadata": {},
   "outputs": [],
   "source": [
    "def fruits(**kwargs):\n",
    "    print(kwargs,type(kwargs))"
   ]
  },
  {
   "cell_type": "code",
   "execution_count": 15,
   "id": "43ca4ccd",
   "metadata": {},
   "outputs": [
    {
     "name": "stdout",
     "output_type": "stream",
     "text": [
      "{'orange': 2, 'banana': 3, 'mango': 10} <class 'dict'>\n"
     ]
    }
   ],
   "source": [
    "fruits(orange=2,banana=3,mango=10)"
   ]
  },
  {
   "cell_type": "code",
   "execution_count": 17,
   "id": "f8d55bfa",
   "metadata": {},
   "outputs": [
    {
     "name": "stdout",
     "output_type": "stream",
     "text": [
      "23\n"
     ]
    }
   ],
   "source": [
    "def Tot_Fruits(**Fruits):\n",
    "    Total=0\n",
    "    for TotNo in Fruits.values():\n",
    "        Total+=TotNo\n",
    "    return Total\n",
    "print(Tot_Fruits(banana=10,mango=2,apple=11))"
   ]
  },
  {
   "cell_type": "code",
   "execution_count": 18,
   "id": "c1163f9b",
   "metadata": {},
   "outputs": [
    {
     "data": {
      "text/plain": [
       "50"
      ]
     },
     "execution_count": 18,
     "metadata": {},
     "output_type": "execute_result"
    }
   ],
   "source": [
    "Tot_Fruits(Apple=15,papaya=10,Guvava=25)"
   ]
  },
  {
   "cell_type": "markdown",
   "id": "55348d28",
   "metadata": {},
   "source": [
    "# Q3.  What is an iterator in python? Name the method used to initialise the iterator object and the method used for iteration. Use these methods to print the first five elements of the given list [2, 4, 6, 8, 10, 12, 14, 16, 18, 20]."
   ]
  },
  {
   "cell_type": "code",
   "execution_count": 19,
   "id": "9c611857",
   "metadata": {},
   "outputs": [],
   "source": [
    "# Ans3. Iterator in Python is an object that is used to iterate over iterable objects like lists, tuples, dicts, and sets.\n",
    "#       iter() method used to initialise the iterator object"
   ]
  },
  {
   "cell_type": "code",
   "execution_count": 20,
   "id": "dc159baf",
   "metadata": {},
   "outputs": [],
   "source": [
    "list1= [2,4,6,8,10,12,14,16,18,20]"
   ]
  },
  {
   "cell_type": "code",
   "execution_count": 25,
   "id": "960767ee",
   "metadata": {},
   "outputs": [],
   "source": [
    "Source_List=[2,4,6,8,10,12,14,16,18,20]\n",
    "def List_n(FirstN):\n",
    "    new_list=[]\n",
    "    for i in range(0,FirstN):\n",
    "        new_list.append(Source_List[i])\n",
    "    return(new_list)"
   ]
  },
  {
   "cell_type": "code",
   "execution_count": 26,
   "id": "e352cdc6",
   "metadata": {},
   "outputs": [
    {
     "data": {
      "text/plain": [
       "[2, 4, 6, 8, 10]"
      ]
     },
     "execution_count": 26,
     "metadata": {},
     "output_type": "execute_result"
    }
   ],
   "source": [
    "List_n(5)"
   ]
  },
  {
   "cell_type": "markdown",
   "id": "e1f4249e",
   "metadata": {},
   "source": [
    "# Q4.  What is a generator function in python? Why yield keyword is used? Give an example of a generator function."
   ]
  },
  {
   "cell_type": "code",
   "execution_count": 27,
   "id": "696624d8",
   "metadata": {},
   "outputs": [],
   "source": [
    "# Ans4. Generators are functions that return an iterable generator object. The values from the generator object \n",
    "#       are fetched one at a time instead of the full list together and hence to get the actual values you can use a \n",
    "#       for-loop, using next() or list() method\n",
    "\n",
    "#      Because yield statement returns a generator object to the one who calls the function which contains yield, \n",
    "#      instead of simply returning a value"
   ]
  },
  {
   "cell_type": "code",
   "execution_count": 29,
   "id": "0e572763",
   "metadata": {},
   "outputs": [
    {
     "name": "stdout",
     "output_type": "stream",
     "text": [
      "<generator object generator at 0x0000019767FC7F20>\n"
     ]
    }
   ],
   "source": [
    "def generator():\n",
    "    yield \"H\"\n",
    "    yield \"E\"\n",
    "    yield \"L\"\n",
    "    yield \"L\"\n",
    "    yield \"O\"\n",
    "\n",
    "test = generator()\n",
    "print(test)"
   ]
  },
  {
   "cell_type": "code",
   "execution_count": 31,
   "id": "e128cb4c",
   "metadata": {},
   "outputs": [
    {
     "name": "stdout",
     "output_type": "stream",
     "text": [
      "H\n",
      "E\n",
      "L\n",
      "L\n",
      "O\n"
     ]
    }
   ],
   "source": [
    "def generator():\n",
    "    yield \"H\"\n",
    "    yield \"E\"\n",
    "    yield \"L\"\n",
    "    yield \"L\"\n",
    "    yield \"O\"\n",
    "\n",
    "test = generator()\n",
    "for i in test:\n",
    "    print(i)"
   ]
  },
  {
   "cell_type": "markdown",
   "id": "2bc59371",
   "metadata": {},
   "source": [
    "# Q5. Create a generator function for prime numbers less than 1000. Use the next() method to print the first 20 prime numbers"
   ]
  },
  {
   "cell_type": "code",
   "execution_count": 32,
   "id": "c796a645",
   "metadata": {},
   "outputs": [
    {
     "name": "stdout",
     "output_type": "stream",
     "text": [
      "2 3 5 7 11 13 17 19 23 29 31 37 41 43 47 53 59 61 67 71 "
     ]
    }
   ],
   "source": [
    "def isPrime(num):\n",
    "    for i in range(2,num):\n",
    "        if num%i==0:\n",
    "            return False\n",
    "    return True\n",
    "def primeGenerator(n):\n",
    "    num=2\n",
    "    while n:\n",
    "        if isPrime(num):\n",
    "            yield num\n",
    "            n-=1\n",
    "        num+=1\n",
    "    return\n",
    "itr=primeGenerator(20)\n",
    "for x in itr:\n",
    "    print(x,end=\" \")"
   ]
  },
  {
   "cell_type": "code",
   "execution_count": null,
   "id": "48841f0a",
   "metadata": {},
   "outputs": [],
   "source": []
  }
 ],
 "metadata": {
  "kernelspec": {
   "display_name": "Python 3",
   "language": "python",
   "name": "python3"
  },
  "language_info": {
   "codemirror_mode": {
    "name": "ipython",
    "version": 3
   },
   "file_extension": ".py",
   "mimetype": "text/x-python",
   "name": "python",
   "nbconvert_exporter": "python",
   "pygments_lexer": "ipython3",
   "version": "3.8.8"
  }
 },
 "nbformat": 4,
 "nbformat_minor": 5
}
