{
 "cells": [
  {
   "cell_type": "markdown",
   "id": "55cca13a",
   "metadata": {},
   "source": [
    "# Q1. What is Min-Max scaling, and how is it used in data preprocessing? Provide an example to illustrate its application."
   ]
  },
  {
   "cell_type": "markdown",
   "id": "17f94092",
   "metadata": {},
   "source": [
    "In Min-Max scaling we are transforming the value between 0 to 1. his technique is applied by subtracting the minimum value from each data point and then dividing the result by the range (maximum value minus minimum value) of the feature.\n",
    "\n",
    "x_scale = (x_i - x_min)/x_max - x_min\n",
    "\n",
    "Example: we have dataset for weight range between (15,50)\n",
    "weight = [15,30,35,40,50]\n",
    "so x_sacle for each weight will be\n",
    "x_scale15 = (15-15)/(50-15) = 0/35 =0\n",
    "x_scale30 = (30-15)/(50-15)=15/35=.43\n",
    "-\n",
    "-\n",
    "x_scale50 = (50-15)/(50-15) = 35/35 =1"
   ]
  },
  {
   "cell_type": "markdown",
   "id": "2bac317a",
   "metadata": {},
   "source": [
    "# Q2. What is the Unit Vector technique in feature scaling, and how does it differ from Min-Max scaling? Provide an example to illustrate its application."
   ]
  },
  {
   "cell_type": "markdown",
   "id": "783b95b2",
   "metadata": {},
   "source": [
    "In Unit vector we rescale our data to magnitude of 1.\n",
    "In Min-Max scaling we transforming the data value bwetween 0 to 1 but unit vector we are rescaling our data to magnitude of 1.\n",
    "\n",
    "For example, suppose we have a dataset containing the Weight and height of individuals. If we apply the Unit Vector technique to this dataset, each data point will be divided by the magnitude of the feature vector, which is calculated as the square root of the sum of squares of all the feature values. The formula for the Unit Vector technique is:\n",
    "\n",
    "X_scaled = X / ||X||"
   ]
  },
  {
   "cell_type": "markdown",
   "id": "1ad27f65",
   "metadata": {},
   "source": [
    "# Q3. What is PCA (Principle Component Analysis), and how is it used in dimensionality reduction? Provide an example to illustrate its application.\n"
   ]
  },
  {
   "cell_type": "markdown",
   "id": "7fa230e2",
   "metadata": {},
   "source": [
    "PCA and Feature Extraction are related because PCA is a type of feature extraction technique used to reduce the dimensionality of a dataset.\n",
    "\n",
    "For example, suppose we have a dataset containing the height, weight, and age of individuals. If we apply PCA to this dataset, it will identify the most important features that explain the variance in the data. In this case, the most important feature could be weight, which explains the largest amount of variance in the data. PCA will then project the original dataset onto a lower-dimensional space, where the weight feature will be the most significant feature.\n"
   ]
  },
  {
   "cell_type": "markdown",
   "id": "6e11b833",
   "metadata": {},
   "source": [
    "# Q4. What is the relationship between PCA and Feature Extraction, and how can PCA be used for Feature Extraction? Provide an example to illustrate this concept.\n"
   ]
  },
  {
   "cell_type": "markdown",
   "id": "e788cb2b",
   "metadata": {},
   "source": [
    "PCA and Feature Extraction are related because PCA is a type of feature extraction technique used to reduce the dimensionality of a dataset. In feature extraction, the goal is to transform the original dataset into a new set of features that can better represent the underlying patterns in the data.\n",
    "\n",
    "For example, suppose we have a dataset containing the height, weight, and age of individuals, and we want to extract features that better represent the data. If we apply PCA to this dataset, it will identify the most important features that explain the variance in the data. In this case, the most important feature could be weight, which explains the largest amount of variance in the data. PCA will then project the original dataset onto a lower-dimensional space, where the weight feature will be the most significant feature. By doing so, PCA has extracted the most important features from the original dataset, which can be used for further analysis or modeling.\n",
    "\n"
   ]
  },
  {
   "cell_type": "markdown",
   "id": "c986e39f",
   "metadata": {},
   "source": [
    "# Q5. You are working on a project to build a recommendation system for a food delivery service. The dataset contains features such as price, rating, and delivery time. Explain how you would use Min-Max scaling to preprocess the data.\n"
   ]
  },
  {
   "cell_type": "markdown",
   "id": "6f31ac5b",
   "metadata": {},
   "source": [
    "To apply Min-Max scaling, we first calculate the minimum and maximum values for each feature. We then subtract the minimum value from each data point for that feature and divide the result by the difference between the maximum and minimum values for that feature. This will transform the data into a range between 0 and 1.\n",
    "\n",
    "For example, suppose we have a dataset containing the features price, rating, and delivery time, and we want to apply Min-Max scaling to preprocess the data. We first calculate the minimum and maximum values for each feature, as shown below:\n",
    "\n",
    "#### Price:  min = 10, max=50\n",
    "#### Rating: min = 1, max=5\n",
    "#### del time: min =15 minutes , max = 30 minutes\n",
    "We can then apply Min-Max scaling to transform the data into a range between 0 and 1. For example, suppose we have a data point with the following values:\n",
    "\n",
    "price= 20, rating=4, delevery time=20 mins\n",
    "\n",
    "##### Price_Scale = (20-10)/(50-10)=10/40=0.25\n",
    "##### Rating_scale = (4-1)/(5-1)=3/4=0.75\n",
    "##### DelTime_scale = (20-15)/(30-15) = 5/15 = 0.33\n",
    "\n",
    "New data point are (0.25, 0.75,0.33)\n"
   ]
  },
  {
   "cell_type": "markdown",
   "id": "013e37ab",
   "metadata": {},
   "source": [
    "# Q6. You are working on a project to build a model to predict stock prices. The dataset contains many features, such as company financial data and market trends. Explain how you would use PCA to reduce the dimensionality of the dataset."
   ]
  },
  {
   "cell_type": "markdown",
   "id": "3eaa175c",
   "metadata": {},
   "source": [
    "In this scenario, PCA will project the original dataset onto a lower-dimensional space, where the new features are linear combinations of the original features.\n",
    "\n",
    "To apply PCA to the dataset, we first calculate the covariance matrix of the original dataset. We then calculate the eigenvectors and eigenvalues of the covariance matrix, and sort them in descending order based on their corresponding eigenvalues. We can then select the top k eigenvectors, where k is the desired number of features in the reduced dataset."
   ]
  },
  {
   "cell_type": "markdown",
   "id": "c28e2207",
   "metadata": {},
   "source": [
    "# Q7. For a dataset containing the following values: [1, 5, 10, 15, 20], perform Min-Max scaling to transform the values to a range of -1 to 1."
   ]
  },
  {
   "cell_type": "code",
   "execution_count": 9,
   "id": "e57fb85f",
   "metadata": {},
   "outputs": [
    {
     "name": "stdout",
     "output_type": "stream",
     "text": [
      "[-1.         -0.57894737 -0.05263158  0.47368421  1.        ]\n"
     ]
    }
   ],
   "source": [
    "import numpy as np\n",
    "from sklearn.preprocessing import MinMaxScaler\n",
    "\n",
    "# Dataset\n",
    "values=np.array([1,5,10,15,20])\n",
    "\n",
    "scaler = MinMaxScaler(feature_range=(-1,1))\n",
    "\n",
    "scaled_values = scaler.fit_transform(values.reshape(-1,1)).flatten()\n",
    "\n",
    "print(scaled_values)\n"
   ]
  },
  {
   "cell_type": "markdown",
   "id": "622504be",
   "metadata": {},
   "source": [
    "# Q8. For a dataset containing the following features: [height, weight, age, gender, blood pressure], perform Feature Extraction using PCA. How many principal components would you choose to retain, and why?\n"
   ]
  },
  {
   "cell_type": "code",
   "execution_count": 8,
   "id": "5b913539",
   "metadata": {},
   "outputs": [],
   "source": [
    "import pandas as pd\n",
    "import numpy as np\n",
    "from sklearn.decomposition import PCA\n",
    "import matplotlib.pyplot as plt\n",
    "\n",
    "# create a sample dataset\n",
    "df = pd.DataFrame({\n",
    "    'height': [160, 170, 180, 175, 165],\n",
    "    'weight': [50, 70, 80, 65, 55],\n",
    "    'age': [25, 35, 45, 30, 20],\n",
    "    'gender': [0, 1, 1, 0, 1],\n",
    "    'blood_pressure': [120, 130, 140, 135, 125]\n",
    "})\n",
    "\n",
    "# standardize the data\n",
    "df_std = (df - np.mean(df)) / np.std(df)\n"
   ]
  },
  {
   "cell_type": "code",
   "execution_count": 9,
   "id": "f16a7e38",
   "metadata": {},
   "outputs": [
    {
     "name": "stdout",
     "output_type": "stream",
     "text": [
      "     height    weight       age    gender  blood_pressure\n",
      "0 -1.414214 -1.311220 -0.697486 -1.224745       -1.414214\n",
      "1  0.000000  0.561951  0.464991  0.816497        0.000000\n",
      "2  1.414214  1.498537  1.627467  0.816497        1.414214\n",
      "3  0.707107  0.093659 -0.116248 -1.224745        0.707107\n",
      "4 -0.707107 -0.842927 -1.278724  0.816497       -0.707107\n"
     ]
    }
   ],
   "source": [
    "print(df_std)"
   ]
  },
  {
   "cell_type": "code",
   "execution_count": 12,
   "id": "7f816bb1",
   "metadata": {},
   "outputs": [
    {
     "data": {
      "image/png": "[encoded data removed]",
      "text/plain": [
       "<Figure size 432x288 with 1 Axes>"
      ]
     },
     "metadata": {
      "needs_background": "light"
     },
     "output_type": "display_data"
    }
   ],
   "source": [
    "# perform PCA\n",
    "pca = PCA()\n",
    "pca.fit(df_std)\n",
    "\n",
    "# plot scree plot\n",
    "plt.plot(range(1, len(pca.explained_variance_ratio_) + 1), pca.explained_variance_ratio_, 'bo-')\n",
    "plt.xlabel('Principal Component')\n",
    "plt.ylabel('Explained Variance Ratio')\n",
    "plt.title('Scree Plot')\n",
    "plt.show()\n"
   ]
  },
  {
   "cell_type": "code",
   "execution_count": null,
   "id": "59759cbb",
   "metadata": {},
   "outputs": [],
   "source": []
  }
 ],
 "metadata": {
  "kernelspec": {
   "display_name": "Python 3",
   "language": "python",
   "name": "python3"
  },
  "language_info": {
   "codemirror_mode": {
    "name": "ipython",
    "version": 3
   },
   "file_extension": ".py",
   "mimetype": "text/x-python",
   "name": "python",
   "nbconvert_exporter": "python",
   "pygments_lexer": "ipython3",
   "version": "3.8.8"
  }
 },
 "nbformat": 4,
 "nbformat_minor": 5
}
