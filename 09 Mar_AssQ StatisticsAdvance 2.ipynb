{
 "cells": [
  {
   "cell_type": "markdown",
   "id": "2f873f8a",
   "metadata": {},
   "source": [
    "# Q1: What are the Probability Mass Function (PMF) and Probability Density Function (PDF)? Explain with an example."
   ]
  },
  {
   "cell_type": "markdown",
   "id": "3bcc1475",
   "metadata": {},
   "source": [
    "# Probability Mass Function:\n",
    "    Probability mass function can be defined as the probability that a discrete random variable will be exactly equal to some particular value. In other words, the probability mass function assigns a particular probability to every possible value of a discrete random variable.\n",
    "    Example:\n",
    "    Suppose a fair coin is tossed twice and the sample space is recorded as S = [HH, HT, TH, TT]. The probability of getting heads needs to be determined. Let X be the random variable that shows how many heads are obtained. X can take on the values 0, 1, 2. The probability that X will be equal to 1 is 0.5. Thus, it can be said that the probability mass function of X evaluated at 1 will be 0.5.\n",
    "\n"
   ]
  },
  {
   "cell_type": "markdown",
   "id": "554f3a6e",
   "metadata": {},
   "source": [
    "# Probability Density Function:\n",
    "    It shows the distribution continuous data. In other words, the probability density function produces the likelihood of values of the ccontious random variable.\n",
    "    In case of continuous random variable, the probability taken by X on some given value x is always 0. In this case, if we find P(X = x), it does not work. Instead of this, we must calculate the probability of X lying in an interval (a, b). Now, we have to figure it for P(a< X< b), and we can calculate this using the formula of PDF. The Probability density function formula is given as,\n",
    "\n",
    "    The probability density function is defined as an integral of the density of the variable density over a given range. It is denoted by f (x). This function is positive or non-negative at any point of the graph, and the integral, more specifically the definite integral of PDF over the entire space is always equal to one. The graph of PDFs typically resembles a bell curve, with the probability of the outcomes below the curve. The below figure depicts the graph of a probability density function for a continuous random variable x with function f(x)."
   ]
  },
  {
   "cell_type": "markdown",
   "id": "d31358ae",
   "metadata": {},
   "source": [
    "# Q2: What is Cumulative Density Function (CDF)? Explain with an example. Why CDF is used?"
   ]
  },
  {
   "cell_type": "markdown",
   "id": "ec187376",
   "metadata": {},
   "source": [
    "Cumulative Density function(CDF) need to describe the distribution of discrete random variable. \n",
    "Example: rolling a dice to get the outcome {1,2,3,4,5,6}\n",
    "    Pr(X=1) = 1/6\n",
    "    Pr(X=2) = 1/6\n",
    "    .\n",
    "    .\n",
    "    Pr(X=6) = 1/6\n",
    "    Now suppose I want probability of X <= 4, in this case we need Cumulative Density function.\n",
    "    Pr(X <= 4) = Pr(X=1) + Pr(X=2) + Pr(X=3) + Pr(X=4)\n",
    "               = 1/6 + 1/6 + 1/6 + 1/6 = 4/6 = 2/3\n",
    "        \n",
    "    The cumulative distribution function can be defined as a function that gives the probabilities of a random variable being       lesser than or equal to a specific value. \n",
    "        "
   ]
  },
  {
   "cell_type": "markdown",
   "id": "8122511a",
   "metadata": {},
   "source": [
    "# Q3: What are some examples of situations where the normal distribution might be used as a model? Explain how the parameters of the normal distribution relate to the shape of the distribution."
   ]
  },
  {
   "cell_type": "markdown",
   "id": "2fc72d5f",
   "metadata": {},
   "source": [
    "Below are the some examples of situations where the normal distribution might be used as a model:\n",
    "1. The height of people is an example of normal distribution. Most of the people in a specific population are of average height.\n",
    "2. Shoe Size: As per the data collected in the US, female shoe sales by size are normally distributed because the physical makeup of most women is almost the same.\n",
    "3. Birth Weight : The normal birth weight of a newborn ranges from 2.5 to 3.5 kg. The majority of newborns have normal birthweight whereas only a few percent of newborns have a weight higher or lower than normal. Hence, birth weight also follows the normal distribution curve.\n",
    "\n",
    "The mean μ determines the location of the center of the distribution, while the standard deviation σ determines the spread or width of the distribution. Specifically, the shape of the Normal distribution is affected by the value of σ relative to the distance between the mean and the tails of the distribution.\n",
    "\n",
    "If σ is small relative to the distance between the mean and the tails, the distribution is narrow and tall, with most of the data clustered around the mean. On the other hand, if σ is large relative to the distance between the mean and the tails, the distribution is wide and short, with data spread out over a larger range of values.\n"
   ]
  },
  {
   "cell_type": "markdown",
   "id": "ad729aa5",
   "metadata": {},
   "source": [
    "# Q4: Explain the importance of Normal Distribution. Give a few real-life examples of Normal Distribution."
   ]
  },
  {
   "cell_type": "markdown",
   "id": "8866665b",
   "metadata": {},
   "source": [
    "The importance of Normal Distribution are below:\n",
    "1. The mean, mode and median are all equal.\n",
    "2. The curve is symmetric at the center (i.e. around the mean, μ).\n",
    "3. Exactly half of the values are to the left of center and exactly half the values are to the right.\n",
    "4. The total area under the curve is 1.\n",
    "\n",
    "Real life examples:\n",
    "\n",
    "1. Height: The height of people is an example of normal distribution. Most of the people in a specific population are of average height. The number of people taller and shorter than the average height people is almost equal, and a very small number of people are either extremely tall or extremely short.\n",
    "2. IQ: In this scenario of increasing competition, most parents, as well as children, want to analyze the Intelligent Quotient level. Well, the IQ of a particular population is a normal distribution curve; where the IQ of a majority of the people in the population lies in the normal range whereas the IQ of the rest of the population lives in the deviated range.\n",
    "3. Blood Pressure:Blood pressure generally follows a Gaussian distribution (normal) in the general population, and it makes Gaussian mixture models a suitable candidate for modelling blood pressure behaviour."
   ]
  },
  {
   "cell_type": "markdown",
   "id": "8a849bfd",
   "metadata": {},
   "source": [
    "# Q5: What is Bernaulli Distribution? Give an Example. What is the difference between Bernoulli Distribution and Binomial Distribution?"
   ]
  },
  {
   "cell_type": "markdown",
   "id": "5e3e438e",
   "metadata": {},
   "source": [
    "Bernaulli Distribution, named after Swiss mathematician Jacob Bernaulli. It is discrete probability distribution of a random variable which takes the value 1 with probability p and the value 0 with probability q=1-p. Its outcome are binary.\n",
    "It can be thought of as a model for the set of possible outcomes of any single experiment that asks a yes-no question. Such questions lead to outcomes that are boolean valued: a single bit whose value is success/yes/true/one with probability p and faliure/no/false/zero with probability q=1-p\n",
    "Example: Tossing a fair coin. Whenever you toss a fair coin you will get Head(1) or Tail(0).\n",
    " Pr(H) = 1/2 = 0.5=p\n",
    " Pr(T) = 1 - 0.5 = 1-p=q\n",
    "1. In Bernaulli Distribution, the trial is 1, while in Binomial distribution trial is n and p is the discrete probability distributionof the number of successes in a sequence of n independent experiments.\n",
    "2. Bernoulli is used when the outcome of an event is required for only one time, whereas the Binomial is used when the outcome of an event is required multiple times."
   ]
  },
  {
   "cell_type": "markdown",
   "id": "7c5a00dc",
   "metadata": {},
   "source": [
    "# Q6. Consider a dataset with a mean of 50 and a standard deviation of 10. If we assume that the dataset is normally distributed, what is the probability that a randomly selected observation will be greater than 60? Use the appropriate formula and show your calculations."
   ]
  },
  {
   "cell_type": "markdown",
   "id": "17a976ba",
   "metadata": {},
   "source": [
    "To find the probability that a randomly selected observation will be greater than 60.\n",
    "The formula will be Z = (xi - μ) / σ\n",
    "where Z is Z score\n",
    "      xi will be 60\n",
    "      μ is mean(50)\n",
    "    σ is SD(10)\n",
    "    so Z= (60-50)/10 = 10/10=1\n",
    "    \n",
    " checking Z table for 1 and 0.00, we will get 0.84134\n",
    "so Probability for random selected observation greater than 60 will be = (1 - 0.84134)*100 = 15.866%\n"
   ]
  },
  {
   "cell_type": "markdown",
   "id": "4abc0982",
   "metadata": {},
   "source": [
    "# Q7: Explain uniform Distribution with an example."
   ]
  },
  {
   "cell_type": "markdown",
   "id": "3682dd0a",
   "metadata": {},
   "source": [
    "There are 2 types of uniform distribution\n",
    "\n",
    "1. Continuous Uniform Distribution: The continuous uniform distribution or rectangular distribution is a family of symmetric probability distribution. The distribution describes an experiment where there is an arbitrary outcome that lies between certain bounds. The bounds are defined by the parameters a and b, which are minimum and maximum values.\n",
    "\n",
    "Notation : U(a,b)\n",
    "Parameters : -inf < a < b < inf"
   ]
  },
  {
   "attachments": {
    "image.png": {
     "image/png": "[encoded data removed]"
    }
   },
   "cell_type": "markdown",
   "id": "b6fb093a",
   "metadata": {},
   "source": [
    "![image.png](attachment:image.png)"
   ]
  },
  {
   "cell_type": "markdown",
   "id": "49cb7ae5",
   "metadata": {},
   "source": [
    "Example: The number of candies sold daily at a shop is uniformly distributed with a min of 10 and max of 40. Find the probability of daily sales to fall between 15 and 30.\n",
    "   Pr(15 <= x <= 30) = (30-15)* 1/30 = 0.5"
   ]
  },
  {
   "cell_type": "markdown",
   "id": "70b1638e",
   "metadata": {},
   "source": [
    "# Q8: What is the z score? State the importance of the z score."
   ]
  },
  {
   "cell_type": "markdown",
   "id": "3eb9a55a",
   "metadata": {},
   "source": [
    "The z-score is a statistical measure that indicates how many standard deviations a data point is from the mean of a distribution. It is calculated as the difference between a given observation and the population mean, divided by the population standard deviation. The formula for calculating the z-score of a data point x is: z = (x - μ) / σ where μ is the population mean, σ is the population standard deviation, and x is the value of the data point.\n",
    "\n",
    "Its standarizes the multiple units to single unit"
   ]
  },
  {
   "cell_type": "markdown",
   "id": "22e6a0e5",
   "metadata": {},
   "source": [
    "# Q9: What is Central Limit Theorem? State the significance of the Central Limit Theorem."
   ]
  },
  {
   "cell_type": "markdown",
   "id": "fc7ccd78",
   "metadata": {},
   "source": [
    "The Central Limit Theorem relies on the concept of a sampling distribution, which is the probability distribution of a statistic for a large number of samples taken from a population. \n",
    "The central limit theorem says that the sampling distribution of the mean will always be normally distributed, as long as the sample size is large enough. Regardless of whether the population has a normal, Poisson, binomial, or any other distribution, the sampling distribution of the mean will be normal.\n",
    "Significance of CLT:\n",
    "Political/election polling is a great example of how you can use CLT. These polls are used to estimate the number of people who support a specific candidate. You may have seen these results with confidence intervals on news channels. The CLT aids in this calculation.\n",
    "You use the CLT in various census fields to calculate various population details, such as family income, electricity consumption, individual salaries, and so on."
   ]
  },
  {
   "cell_type": "markdown",
   "id": "3f8bb9ff",
   "metadata": {},
   "source": [
    "# Q10: State the assumptions of the Central Limit Theorem."
   ]
  },
  {
   "cell_type": "markdown",
   "id": "e3850ab5",
   "metadata": {},
   "source": [
    "Assumptions of the Central Limit Theorem:\n",
    "\n",
    "1. The data must adhere to the randomization rule. It needs to be sampled at random.\n",
    "2. The samples should be unrelated to one another. One sample should not impact the others\n",
    "3. When taking samples without replacement, the sample size should not exceed 10% of the population.\n",
    "4. When the population is symmetric, a sample size of 30 is generally considered reasonable. "
   ]
  },
  {
   "cell_type": "code",
   "execution_count": null,
   "id": "0b71a143",
   "metadata": {},
   "outputs": [],
   "source": []
  }
 ],
 "metadata": {
  "kernelspec": {
   "display_name": "Python 3",
   "language": "python",
   "name": "python3"
  },
  "language_info": {
   "codemirror_mode": {
    "name": "ipython",
    "version": 3
   },
   "file_extension": ".py",
   "mimetype": "text/x-python",
   "name": "python",
   "nbconvert_exporter": "python",
   "pygments_lexer": "ipython3",
   "version": "3.8.8"
  }
 },
 "nbformat": 4,
 "nbformat_minor": 5
}
