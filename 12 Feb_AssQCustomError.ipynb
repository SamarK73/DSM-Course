{
 "cells": [
  {
   "cell_type": "markdown",
   "id": "9950901f",
   "metadata": {},
   "source": [
    "# Q1. What is an Exception in python? Write the difference between Exceptions and syntax errors"
   ]
  },
  {
   "cell_type": "code",
   "execution_count": 2,
   "id": "f716fca5",
   "metadata": {},
   "outputs": [],
   "source": [
    "# An exception is an event, which occurs during the execution of a program that disrupts the normal flow of the programs \n",
    "# instructions. Errors cannot be handled, while Python exceptions can be handled at the run time. An error can be a syntax error\n",
    "# while there can be many types of exceptions that could occur during the execution and are not unconditionally inoperable"
   ]
  },
  {
   "cell_type": "markdown",
   "id": "9b4d800e",
   "metadata": {},
   "source": [
    "# Q2. What happens when an exception is not handled? Explain with and example"
   ]
  },
  {
   "cell_type": "code",
   "execution_count": 3,
   "id": "31e974d5",
   "metadata": {},
   "outputs": [],
   "source": [
    "#If exception is not handled by an except clause, the exception is re-raised after the finally clause has been executed."
   ]
  },
  {
   "cell_type": "code",
   "execution_count": 4,
   "id": "d198e5cc",
   "metadata": {},
   "outputs": [],
   "source": [
    "def divide(x, y):\n",
    "    try:\n",
    "        result = x / y\n",
    "    except ZeroDivisionError:\n",
    "        print(\"division by zero!\")\n",
    "    else:\n",
    "        print(\"result is\", result)\n",
    "    finally:\n",
    "        print(\"executing finally clause\")"
   ]
  },
  {
   "cell_type": "code",
   "execution_count": 5,
   "id": "c4231dd7",
   "metadata": {},
   "outputs": [
    {
     "name": "stdout",
     "output_type": "stream",
     "text": [
      "division by zero!\n",
      "executing finally clause\n"
     ]
    }
   ],
   "source": [
    "divide(8,0)"
   ]
  },
  {
   "cell_type": "code",
   "execution_count": 6,
   "id": "a23955e1",
   "metadata": {},
   "outputs": [
    {
     "name": "stdout",
     "output_type": "stream",
     "text": [
      "result is 2.0\n",
      "executing finally clause\n"
     ]
    }
   ],
   "source": [
    "divide(2,1)"
   ]
  },
  {
   "cell_type": "code",
   "execution_count": 7,
   "id": "8f45c9f8",
   "metadata": {},
   "outputs": [
    {
     "name": "stdout",
     "output_type": "stream",
     "text": [
      "executing finally clause\n"
     ]
    },
    {
     "ename": "TypeError",
     "evalue": "unsupported operand type(s) for /: 'str' and 'str'",
     "output_type": "error",
     "traceback": [
      "\u001b[1;31m---------------------------------------------------------------------------\u001b[0m",
      "\u001b[1;31mTypeError\u001b[0m                                 Traceback (most recent call last)",
      "\u001b[1;32m<ipython-input-7-c4579e894624>\u001b[0m in \u001b[0;36m<module>\u001b[1;34m\u001b[0m\n\u001b[1;32m----> 1\u001b[1;33m \u001b[0mdivide\u001b[0m\u001b[1;33m(\u001b[0m\u001b[1;34m\"2\"\u001b[0m\u001b[1;33m,\u001b[0m\u001b[1;34m\"1\"\u001b[0m\u001b[1;33m)\u001b[0m\u001b[1;33m\u001b[0m\u001b[1;33m\u001b[0m\u001b[0m\n\u001b[0m",
      "\u001b[1;32m<ipython-input-4-fb375c737bea>\u001b[0m in \u001b[0;36mdivide\u001b[1;34m(x, y)\u001b[0m\n\u001b[0;32m      1\u001b[0m \u001b[1;32mdef\u001b[0m \u001b[0mdivide\u001b[0m\u001b[1;33m(\u001b[0m\u001b[0mx\u001b[0m\u001b[1;33m,\u001b[0m \u001b[0my\u001b[0m\u001b[1;33m)\u001b[0m\u001b[1;33m:\u001b[0m\u001b[1;33m\u001b[0m\u001b[1;33m\u001b[0m\u001b[0m\n\u001b[0;32m      2\u001b[0m     \u001b[1;32mtry\u001b[0m\u001b[1;33m:\u001b[0m\u001b[1;33m\u001b[0m\u001b[1;33m\u001b[0m\u001b[0m\n\u001b[1;32m----> 3\u001b[1;33m         \u001b[0mresult\u001b[0m \u001b[1;33m=\u001b[0m \u001b[0mx\u001b[0m \u001b[1;33m/\u001b[0m \u001b[0my\u001b[0m\u001b[1;33m\u001b[0m\u001b[1;33m\u001b[0m\u001b[0m\n\u001b[0m\u001b[0;32m      4\u001b[0m     \u001b[1;32mexcept\u001b[0m \u001b[0mZeroDivisionError\u001b[0m\u001b[1;33m:\u001b[0m\u001b[1;33m\u001b[0m\u001b[1;33m\u001b[0m\u001b[0m\n\u001b[0;32m      5\u001b[0m         \u001b[0mprint\u001b[0m\u001b[1;33m(\u001b[0m\u001b[1;34m\"division by zero!\"\u001b[0m\u001b[1;33m)\u001b[0m\u001b[1;33m\u001b[0m\u001b[1;33m\u001b[0m\u001b[0m\n",
      "\u001b[1;31mTypeError\u001b[0m: unsupported operand type(s) for /: 'str' and 'str'"
     ]
    }
   ],
   "source": [
    "divide(\"2\",\"1\")"
   ]
  },
  {
   "cell_type": "markdown",
   "id": "de492146",
   "metadata": {},
   "source": [
    "# Q3. Which python statements are used to catch and handle exceptions? Explain with an example?"
   ]
  },
  {
   "cell_type": "code",
   "execution_count": 9,
   "id": "618e4a1c",
   "metadata": {},
   "outputs": [],
   "source": [
    "#The try block and except block in Python is used to catch and handle exceptions."
   ]
  },
  {
   "cell_type": "code",
   "execution_count": 12,
   "id": "ba732e7a",
   "metadata": {},
   "outputs": [
    {
     "name": "stdout",
     "output_type": "stream",
     "text": [
      "Second element is 2\n",
      "Fourth element is {}\n",
      "An error occured 'NoneType' object has no attribute 'format'\n"
     ]
    }
   ],
   "source": [
    "a=[1,2,3]\n",
    "try:\n",
    "    print(\"Second element is {}\".format(a[1]))\n",
    "    \n",
    "    print(\"Fourth element is {}\").format(a[4])\n",
    "    \n",
    "except Exception as e:\n",
    "    print(\"An error occured\",e)\n",
    "    "
   ]
  },
  {
   "cell_type": "markdown",
   "id": "d96a945b",
   "metadata": {},
   "source": [
    "# Q4. Explain with an example\n",
    "#          a. try and else\n",
    "#          b. finally\n",
    "#          c. raise"
   ]
  },
  {
   "cell_type": "code",
   "execution_count": 22,
   "id": "78868b7a",
   "metadata": {},
   "outputs": [],
   "source": [
    "# a. try and else\n",
    "#else clause on the try-except block which must be present after all the except clauses. The code enters the else block only if \n",
    "#the try clause does not raise the exception."
   ]
  },
  {
   "cell_type": "code",
   "execution_count": 20,
   "id": "45e713d3",
   "metadata": {},
   "outputs": [],
   "source": [
    "\n",
    "\n",
    "def fun1(a,b):\n",
    "    try:\n",
    "        c=(a+b)/(a-b)\n",
    "    except Exception as e:\n",
    "        print(\"a/b result is 0   :\",e)\n",
    "    else:\n",
    "        print(c)"
   ]
  },
  {
   "cell_type": "code",
   "execution_count": 16,
   "id": "3193f5c8",
   "metadata": {},
   "outputs": [
    {
     "name": "stdout",
     "output_type": "stream",
     "text": [
      "-5.0\n"
     ]
    }
   ],
   "source": [
    "fun1(2,3)"
   ]
  },
  {
   "cell_type": "code",
   "execution_count": 21,
   "id": "f4c55751",
   "metadata": {},
   "outputs": [
    {
     "name": "stdout",
     "output_type": "stream",
     "text": [
      "a/b result is 0   : division by zero\n"
     ]
    }
   ],
   "source": [
    "fun1(3,3)"
   ]
  },
  {
   "cell_type": "code",
   "execution_count": 23,
   "id": "fdca0604",
   "metadata": {},
   "outputs": [],
   "source": [
    "# b. finally\n",
    "# finally always executed after the try and except blocks."
   ]
  },
  {
   "cell_type": "code",
   "execution_count": 24,
   "id": "78a7af1c",
   "metadata": {},
   "outputs": [
    {
     "name": "stdout",
     "output_type": "stream",
     "text": [
      "Any number can't be divide by zero integer division or modulo by zero\n",
      "This is always executed\n"
     ]
    }
   ],
   "source": [
    "try:\n",
    "    k=5//0\n",
    "    print(k)\n",
    "except Exception as e:\n",
    "    print(\"Any number can't be divide by zero\",e)\n",
    "    \n",
    "finally:\n",
    "    print(\"This is always executed\")"
   ]
  },
  {
   "cell_type": "markdown",
   "id": "66a24be2",
   "metadata": {},
   "source": [
    "# Create a custom exception class. Use this class to handle an exception."
   ]
  },
  {
   "cell_type": "code",
   "execution_count": 26,
   "id": "96a2a95f",
   "metadata": {},
   "outputs": [
    {
     "name": "stdout",
     "output_type": "stream",
     "text": [
      "Enter a number: 0\n",
      "Input value is zero, try again!\n",
      "\n"
     ]
    }
   ],
   "source": [
    "class Error(Exception):\n",
    "    def __init__(self,msg):\n",
    "        self.msg=msg\n",
    "\n",
    "try:\n",
    "    i_num = int(input(\"Enter a number: \"))\n",
    "    if i_num == 0:\n",
    "        raise Error(\"Number can't be 0\")\n",
    "    else:\n",
    "        print(\"number is valid\")\n",
    "        \n",
    "except Error as e:\n",
    "    print(\"Input value is zero, try again!\")\n",
    "    print()"
   ]
  },
  {
   "cell_type": "code",
   "execution_count": null,
   "id": "a58f0156",
   "metadata": {},
   "outputs": [],
   "source": []
  }
 ],
 "metadata": {
  "kernelspec": {
   "display_name": "Python 3",
   "language": "python",
   "name": "python3"
  },
  "language_info": {
   "codemirror_mode": {
    "name": "ipython",
    "version": 3
   },
   "file_extension": ".py",
   "mimetype": "text/x-python",
   "name": "python",
   "nbconvert_exporter": "python",
   "pygments_lexer": "ipython3",
   "version": "3.8.8"
  }
 },
 "nbformat": 4,
 "nbformat_minor": 5
}
