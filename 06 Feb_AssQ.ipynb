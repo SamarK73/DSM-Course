{
 "cells": [
  {
   "cell_type": "markdown",
   "id": "4ab67956",
   "metadata": {},
   "source": [
    "# Q1. Create a function which will take a list as an argument and return the product of all the numbersafter creating a flat list.\n",
    "#Use the below-given list as an argument for your function.\n",
    "list1 = [1,2,3,4, [44,55,66, True], False, (34,56,78,89,34), {1,2,3,3,2,1}, {1:34, \"key2\": [55, 67, 78, 89], 4: (45,\n",
    "22, 61, 34)}, [56, 'data science'], 'Machine Learning']\n",
    "Note: you must extract numeric keys and values of the dictionary also."
   ]
  },
  {
   "cell_type": "code",
   "execution_count": 67,
   "id": "5dc172a4",
   "metadata": {},
   "outputs": [],
   "source": [
    "lst1= [1,2,3,4, [44,55,66, True], False, (34,56,78,89,34), {1,2,3,3,2,1}, {1:34, \"key2\": [55, 67, 78, 89], 4: (45,\n",
    "22, 61, 34)}, [56, 'data science'], 'Machine Learning']\n",
    "\n",
    "def input_flat_list(lst1):\n",
    "    flat_list=[]\n",
    "    for i in lst1:\n",
    "        if type(i) in [list,tuple,set]:\n",
    "            for j in i:\n",
    "                if type(j) in [int,float]:\n",
    "                    flat_list.append(j)\n",
    "        elif type(i) == dict:\n",
    "            for j in i:\n",
    "                if type(j) in [int,float]:\n",
    "                    flat_list.append(j)\n",
    "                values = i[j]\n",
    "                if type(values) in [int,float]:\n",
    "                    flat_list.append(values)\n",
    "                elif type(values) in [list,set,tuple]:\n",
    "                    for k in values:\n",
    "                        if type(k) in [int,float]:\n",
    "                            flat_list.append(k)\n",
    "        elif type(i) in [int,float]:                   \n",
    "            flat_list.append(i)\n",
    "    #return flat_list\n",
    "    #flat_list=input_flat_list(lst1)\n",
    "    print(flat_list)"
   ]
  },
  {
   "cell_type": "code",
   "execution_count": 69,
   "id": "a385155f",
   "metadata": {},
   "outputs": [
    {
     "name": "stdout",
     "output_type": "stream",
     "text": [
      "[1, 2, 3, 4, 44, 55, 66, 34, 56, 78, 89, 34, 1, 2, 3, 1, 34, 55, 67, 78, 89, 4, 45, 22, 61, 34, 56]\n"
     ]
    }
   ],
   "source": [
    "from functools import reduce\n",
    "lst1 = [1,2,3,4, [44,55,66, True], False, (34,56,78,89,34), {1,2,3,3,2,1}, {1:34, \"key2\": [55, 67, 78, 89], 4: (45,\n",
    "22, 61, 34)}, [56, 'data science'], 'Machine Learning']\n",
    "#input_flat_list(lst1)\n",
    "flat_list = input_flat_list(lst1)\n",
    "new_list=reduce(lambda x , y : x*y, flat_list)"
   ]
  },
  {
   "cell_type": "code",
   "execution_count": null,
   "id": "e780fc71",
   "metadata": {},
   "outputs": [],
   "source": []
  },
  {
   "cell_type": "markdown",
   "id": "8ae8248e",
   "metadata": {},
   "source": [
    "# Q2. Write a python program for encrypting a message sent to you by your friend. The logic of encryptionshould be such that, for a the output should be z. For b, the output should be y. For c, the output shouldbe x respectively. Also, the whitespace should be replaced with a dollar sign. Keep the punctuationmarks unchanged.\n",
    "Input Sentence: I want to become a Data Scientist.\n",
    "Encrypt the above input sentence using the program you just created.\n",
    "Note: Convert the given input sentence into lowercase before encrypting. The final output should be\n",
    "lowercase."
   ]
  },
  {
   "cell_type": "code",
   "execution_count": 70,
   "id": "91e23a7b",
   "metadata": {},
   "outputs": [
    {
     "name": "stdout",
     "output_type": "stream",
     "text": [
      "r$dzmg$gl$yvxlnv$wzgz$hxrvmgrhg\n"
     ]
    }
   ],
   "source": [
    "def encrypted_string(input_string):\n",
    "    input_string = input_string.lower()\n",
    "    output_string = ''\n",
    "    for i in input_string:\n",
    "        alphabet = i\n",
    "        if 96 <= ord(i) <= 122:\n",
    "            alphabet = chr(122 - (ord(i) - 97))\n",
    "        elif i == ' ':\n",
    "            alphabet = '$'\n",
    "        output_string += alphabet\n",
    "    return output_string\n",
    "\n",
    "input_string=\"I want to become Data Scientist\"\n",
    "print(encrypted_string(input_string))"
   ]
  },
  {
   "cell_type": "code",
   "execution_count": null,
   "id": "53491216",
   "metadata": {},
   "outputs": [],
   "source": []
  }
 ],
 "metadata": {
  "kernelspec": {
   "display_name": "Python 3",
   "language": "python",
   "name": "python3"
  },
  "language_info": {
   "codemirror_mode": {
    "name": "ipython",
    "version": 3
   },
   "file_extension": ".py",
   "mimetype": "text/x-python",
   "name": "python",
   "nbconvert_exporter": "python",
   "pygments_lexer": "ipython3",
   "version": "3.8.8"
  }
 },
 "nbformat": 4,
 "nbformat_minor": 5
}
