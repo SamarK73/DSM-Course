{
 "cells": [
  {
   "cell_type": "markdown",
   "id": "604881f7",
   "metadata": {},
   "source": [
    "# Q1. Explain Class and Object with respect to Object-Oriented Programming. Give a suitable example."
   ]
  },
  {
   "cell_type": "code",
   "execution_count": 1,
   "id": "9ab58f6d",
   "metadata": {},
   "outputs": [],
   "source": [
    "# Ans1. Class: A class is a collection of objects. A class contains the blueprints or the prototype from which the objects \n",
    "#              are being created. It is a logical entity that contains some attributes and methods. \n",
    "#       Object: The object is an entity that has a state and behavior associated with it"
   ]
  },
  {
   "cell_type": "markdown",
   "id": "43d9bcf4",
   "metadata": {},
   "source": [
    "# Q2. Name the four pillars of OOPs. "
   ]
  },
  {
   "cell_type": "code",
   "execution_count": 2,
   "id": "bbceaab3",
   "metadata": {},
   "outputs": [],
   "source": [
    "#1. Inheritance 2. Polymorphism 3. Encapsulation 4. Abstraction"
   ]
  },
  {
   "cell_type": "markdown",
   "id": "2b9b5b48",
   "metadata": {},
   "source": [
    "# Q3. Explain why the __init__() function is used. Give a suitable example."
   ]
  },
  {
   "cell_type": "code",
   "execution_count": 3,
   "id": "c71239ae",
   "metadata": {},
   "outputs": [],
   "source": [
    "# init() is a constructor. Constructor is to assign values to the data members of the class when an object of the \n",
    "# class is created."
   ]
  },
  {
   "cell_type": "code",
   "execution_count": 4,
   "id": "f06fdd07",
   "metadata": {},
   "outputs": [
    {
     "name": "stdout",
     "output_type": "stream",
     "text": [
      "Hello, my name is Samar\n"
     ]
    }
   ],
   "source": [
    "class Person:\n",
    " \n",
    "    # init method or constructor\n",
    "    def __init__(self, name):\n",
    "        self.name1 = name\n",
    " \n",
    "    # Sample Method\n",
    "    def say_hi(self):\n",
    "        print('Hello, my name is', self.name1)\n",
    " \n",
    " \n",
    "p = Person('Samar')\n",
    "p.say_hi()"
   ]
  },
  {
   "cell_type": "markdown",
   "id": "e285f635",
   "metadata": {},
   "source": [
    "# Q4. Why self is used in OOPs?\n"
   ]
  },
  {
   "cell_type": "code",
   "execution_count": 5,
   "id": "d8404199",
   "metadata": {},
   "outputs": [],
   "source": [
    "# The self keyword is used to represent an instance(object) of the given class."
   ]
  },
  {
   "cell_type": "markdown",
   "id": "2e8d70ce",
   "metadata": {},
   "source": [
    "#  Q5. What is inheritance? Give an example for each type of inheritance."
   ]
  },
  {
   "cell_type": "code",
   "execution_count": 6,
   "id": "a5ae9411",
   "metadata": {},
   "outputs": [],
   "source": [
    "# Inheritance is a mechanism of acquiring the features and behaviors of a class by another class."
   ]
  },
  {
   "cell_type": "code",
   "execution_count": 9,
   "id": "c9a20fe4",
   "metadata": {},
   "outputs": [
    {
     "name": "stdout",
     "output_type": "stream",
     "text": [
      "Samar 102\n"
     ]
    }
   ],
   "source": [
    "#Parent class\n",
    "class Person(object):\n",
    "   \n",
    "  # Constructor\n",
    "  def __init__(self, name, id):\n",
    "    self.name1 = name\n",
    "    self.id1 = id\n",
    " \n",
    "  # To check if this person is an employee\n",
    "  def Display(self):\n",
    "    print(self.name1, self.id1)\n",
    " \n",
    " \n",
    "# Driver code\n",
    "emp = Person(\"Samar\", 102) # An Object of Person\n",
    "emp.Display()"
   ]
  },
  {
   "cell_type": "code",
   "execution_count": 10,
   "id": "961cdc2b",
   "metadata": {},
   "outputs": [
    {
     "name": "stdout",
     "output_type": "stream",
     "text": [
      "Shubham 103\n",
      "Emp class called\n"
     ]
    }
   ],
   "source": [
    "#Child Class\n",
    "class Emp(Person):\n",
    "   \n",
    "  def Print(self):\n",
    "    print(\"Emp class called\")\n",
    "     \n",
    "Emp_details = Emp(\"Shubham\", 103)\n",
    " \n",
    "# calling parent class function\n",
    "Emp_details.Display()\n",
    " \n",
    "# Calling child class function\n",
    "Emp_details.Print()"
   ]
  },
  {
   "cell_type": "code",
   "execution_count": null,
   "id": "49492cb6",
   "metadata": {},
   "outputs": [],
   "source": []
  }
 ],
 "metadata": {
  "kernelspec": {
   "display_name": "Python 3",
   "language": "python",
   "name": "python3"
  },
  "language_info": {
   "codemirror_mode": {
    "name": "ipython",
    "version": 3
   },
   "file_extension": ".py",
   "mimetype": "text/x-python",
   "name": "python",
   "nbconvert_exporter": "python",
   "pygments_lexer": "ipython3",
   "version": "3.8.8"
  }
 },
 "nbformat": 4,
 "nbformat_minor": 5
}
