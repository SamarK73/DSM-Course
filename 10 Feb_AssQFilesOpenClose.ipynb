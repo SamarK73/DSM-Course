{
 "cells": [
  {
   "cell_type": "markdown",
   "id": "0bba92cc",
   "metadata": {},
   "source": [
    "# Q1. Which function is used to open a file? What are the different modes of opening a file? Explain each modeof file opening."
   ]
  },
  {
   "cell_type": "code",
   "execution_count": 1,
   "id": "3c383ffa",
   "metadata": {},
   "outputs": [],
   "source": [
    "# open() is used to open a file.\n",
    "# Different modes of opening a file:\n",
    "#     1. read : Open text file for reading.\n",
    "#     2. write: Open the file for writing'\n",
    "#     3. append: open the file writing."
   ]
  },
  {
   "cell_type": "markdown",
   "id": "69914b18",
   "metadata": {},
   "source": [
    "# Q2. Why close() function is used? Why is it important to close a file?"
   ]
  },
  {
   "cell_type": "code",
   "execution_count": 2,
   "id": "920eadaa",
   "metadata": {},
   "outputs": [],
   "source": [
    "# close() function is used to close the file. When we are done with performing operations on the file, we need to properly \n",
    "#  close the file to free up the resources that were tied with the file."
   ]
  },
  {
   "cell_type": "code",
   "execution_count": null,
   "id": "08693806",
   "metadata": {},
   "outputs": [],
   "source": []
  },
  {
   "cell_type": "markdown",
   "id": "1d929ea6",
   "metadata": {},
   "source": [
    "# Q3. Write a python program to create a text file. Write ‘I want to to become a Data Scientist’ in that file. Then close the file. Open this file and read the content of the file."
   ]
  },
  {
   "cell_type": "code",
   "execution_count": 3,
   "id": "1f695175",
   "metadata": {},
   "outputs": [],
   "source": [
    "f_text = open(\"DataScientist.txt\", 'w')\n",
    "f_text.write(\"I want to become a Data Scientist\")\n",
    "f_text.close()"
   ]
  },
  {
   "cell_type": "code",
   "execution_count": 9,
   "id": "5ad31983",
   "metadata": {},
   "outputs": [
    {
     "data": {
      "text/plain": [
       "'I want to become a Data Scientist'"
      ]
     },
     "execution_count": 9,
     "metadata": {},
     "output_type": "execute_result"
    }
   ],
   "source": [
    "f_read = open(\"DataScientist.txt\", 'r')\n",
    "f_read.read()\n"
   ]
  },
  {
   "cell_type": "code",
   "execution_count": 10,
   "id": "a0d4e094",
   "metadata": {},
   "outputs": [],
   "source": [
    "f_read.close()"
   ]
  },
  {
   "cell_type": "markdown",
   "id": "039ca220",
   "metadata": {},
   "source": [
    "# Q4. Explain the following with python code: read(), readline() and readlines().\n"
   ]
  },
  {
   "cell_type": "code",
   "execution_count": 11,
   "id": "5e57d454",
   "metadata": {},
   "outputs": [],
   "source": [
    "##      read : Open text file for reading."
   ]
  },
  {
   "cell_type": "code",
   "execution_count": 29,
   "id": "49781192",
   "metadata": {},
   "outputs": [],
   "source": [
    "file1 = open(\"file1.txt\", 'w')\n",
    "file1.write(\"My name is Samar Khan living in UP.\"\n",
    "             \"I am doing Data Scientist course from PW \")\n",
    "file1.close()"
   ]
  },
  {
   "cell_type": "code",
   "execution_count": 33,
   "id": "3cee84a8",
   "metadata": {},
   "outputs": [],
   "source": [
    "file1 = open(\"file1.txt\", 'r')"
   ]
  },
  {
   "cell_type": "code",
   "execution_count": 34,
   "id": "b1ba8200",
   "metadata": {},
   "outputs": [
    {
     "data": {
      "text/plain": [
       "'My name is Samar Khan living in UP.I am doing Data Scientist course from PW '"
      ]
     },
     "execution_count": 34,
     "metadata": {},
     "output_type": "execute_result"
    }
   ],
   "source": [
    "file1.read()"
   ]
  },
  {
   "cell_type": "code",
   "execution_count": 41,
   "id": "715fe3cc",
   "metadata": {},
   "outputs": [],
   "source": [
    "###############################"
   ]
  },
  {
   "cell_type": "code",
   "execution_count": 40,
   "id": "b100c8a4",
   "metadata": {},
   "outputs": [],
   "source": [
    "with open('file3.txt' , 'w') as f:\n",
    "    l1= \"Welcome to PW Skills\\n\"\n",
    "    l2=\"You can do multiple online courses\\n\"\n",
    "    l3=\"Thank You!\"\n",
    "    f.writelines([l1,l2,l3])"
   ]
  },
  {
   "cell_type": "code",
   "execution_count": 44,
   "id": "fd7fd12e",
   "metadata": {},
   "outputs": [],
   "source": [
    "f=open(\"file3.txt\", 'r')"
   ]
  },
  {
   "cell_type": "code",
   "execution_count": 45,
   "id": "f0a0a15c",
   "metadata": {},
   "outputs": [
    {
     "data": {
      "text/plain": [
       "'Welcome to PW Skills\\nYou can do multiple online courses\\nThank You!'"
      ]
     },
     "execution_count": 45,
     "metadata": {},
     "output_type": "execute_result"
    }
   ],
   "source": [
    "f.read()"
   ]
  },
  {
   "cell_type": "code",
   "execution_count": 55,
   "id": "e4efd279",
   "metadata": {},
   "outputs": [],
   "source": [
    "f1 =open(\"file3.txt\", 'r')\n",
    "f1.close()"
   ]
  },
  {
   "cell_type": "code",
   "execution_count": 53,
   "id": "3ad102b8",
   "metadata": {},
   "outputs": [
    {
     "data": {
      "text/plain": [
       "'Welcome to'"
      ]
     },
     "execution_count": 53,
     "metadata": {},
     "output_type": "execute_result"
    }
   ],
   "source": [
    "f1.readline(10)"
   ]
  },
  {
   "cell_type": "code",
   "execution_count": 54,
   "id": "3365efdc",
   "metadata": {},
   "outputs": [
    {
     "data": {
      "text/plain": [
       "['Welcome to PW Skills\\n',\n",
       " 'You can do multiple online courses\\n',\n",
       " 'Thank You!']"
      ]
     },
     "execution_count": 54,
     "metadata": {},
     "output_type": "execute_result"
    }
   ],
   "source": [
    "f2 =open(\"file3.txt\", 'r')\n",
    "f2.readlines()"
   ]
  },
  {
   "cell_type": "markdown",
   "id": "f9482fd9",
   "metadata": {},
   "source": [
    "# Q5. Explain why with statement is used with open(). What is the advantage of using with statement and open() together?"
   ]
  },
  {
   "cell_type": "code",
   "execution_count": 56,
   "id": "ef5ed851",
   "metadata": {},
   "outputs": [],
   "source": [
    "# While using \"with\" statement with open, there is no need to call file.close()\n",
    "# The with statement itself ensures proper acquisition and release of resources."
   ]
  },
  {
   "cell_type": "markdown",
   "id": "f6bfa112",
   "metadata": {},
   "source": [
    "\n",
    "# Q6. Explain the write() and writelines() functions. Give a suitable example."
   ]
  },
  {
   "cell_type": "code",
   "execution_count": null,
   "id": "4b057c6b",
   "metadata": {},
   "outputs": [],
   "source": []
  }
 ],
 "metadata": {
  "kernelspec": {
   "display_name": "Python 3",
   "language": "python",
   "name": "python3"
  },
  "language_info": {
   "codemirror_mode": {
    "name": "ipython",
    "version": 3
   },
   "file_extension": ".py",
   "mimetype": "text/x-python",
   "name": "python",
   "nbconvert_exporter": "python",
   "pygments_lexer": "ipython3",
   "version": "3.8.8"
  }
 },
 "nbformat": 4,
 "nbformat_minor": 5
}
