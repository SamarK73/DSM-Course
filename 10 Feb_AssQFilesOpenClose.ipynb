{
 "cells": [
  {
   "cell_type": "markdown",
   "id": "41886e73",
   "metadata": {},
   "source": [
    "# Q1. Which function is used to open a file? What are the different modes of opening a file? Explain each modeof file opening."
   ]
  },
  {
   "cell_type": "code",
   "execution_count": 1,
   "id": "68fabf32",
   "metadata": {},
   "outputs": [],
   "source": [
    "# open() is used to open a file.\n",
    "# Different modes of opening a file:\n",
    "#     1. read : Open text file for reading.\n",
    "#     2. write: Open the file for writing'\n",
    "#     3. append: open the file writing."
   ]
  },
  {
   "cell_type": "markdown",
   "id": "de7f3e90",
   "metadata": {},
   "source": [
    "# Q2. Why close() function is used? Why is it important to close a file?"
   ]
  },
  {
   "cell_type": "code",
   "execution_count": 2,
   "id": "10702de0",
   "metadata": {},
   "outputs": [],
   "source": [
    "# close() function is used to close the file. When we are done with performing operations on the file, we need to properly \n",
    "#  close the file to free up the resources that were tied with the file."
   ]
  },
  {
   "cell_type": "code",
   "execution_count": null,
   "id": "269def96",
   "metadata": {},
   "outputs": [],
   "source": []
  },
  {
   "cell_type": "markdown",
   "id": "4674ffde",
   "metadata": {},
   "source": [
    "# Q3. Write a python program to create a text file. Write ‘I want to to become a Data Scientist’ in that file. Then close the file. Open this file and read the content of the file."
   ]
  },
  {
   "cell_type": "code",
   "execution_count": 3,
   "id": "adfef805",
   "metadata": {},
   "outputs": [],
   "source": [
    "f_text = open(\"DataScientist.txt\", 'w')\n",
    "f_text.write(\"I want to become a Data Scientist\")\n",
    "f_text.close()"
   ]
  },
  {
   "cell_type": "code",
   "execution_count": 9,
   "id": "b23945cb",
   "metadata": {},
   "outputs": [
    {
     "data": {
      "text/plain": [
       "'I want to become a Data Scientist'"
      ]
     },
     "execution_count": 9,
     "metadata": {},
     "output_type": "execute_result"
    }
   ],
   "source": [
    "f_read = open(\"DataScientist.txt\", 'r')\n",
    "f_read.read()\n"
   ]
  },
  {
   "cell_type": "code",
   "execution_count": 10,
   "id": "8e937708",
   "metadata": {},
   "outputs": [],
   "source": [
    "f_read.close()"
   ]
  },
  {
   "cell_type": "markdown",
   "id": "0724d577",
   "metadata": {},
   "source": [
    "# Q4. Explain the following with python code: read(), readline() and readlines().\n"
   ]
  },
  {
   "cell_type": "code",
   "execution_count": 11,
   "id": "59c938d9",
   "metadata": {},
   "outputs": [],
   "source": [
    "##      read : Open text file for reading."
   ]
  },
  {
   "cell_type": "code",
   "execution_count": 29,
   "id": "e5b3076a",
   "metadata": {},
   "outputs": [],
   "source": [
    "file1 = open(\"file1.txt\", 'w')\n",
    "file1.write(\"My name is Samar Khan living in UP.\"\n",
    "             \"I am doing Data Scientist course from PW \")\n",
    "file1.close()"
   ]
  },
  {
   "cell_type": "code",
   "execution_count": 33,
   "id": "bf6e2954",
   "metadata": {},
   "outputs": [],
   "source": [
    "file1 = open(\"file1.txt\", 'r')"
   ]
  },
  {
   "cell_type": "code",
   "execution_count": 34,
   "id": "0bc418f1",
   "metadata": {},
   "outputs": [
    {
     "data": {
      "text/plain": [
       "'My name is Samar Khan living in UP.I am doing Data Scientist course from PW '"
      ]
     },
     "execution_count": 34,
     "metadata": {},
     "output_type": "execute_result"
    }
   ],
   "source": [
    "file1.read()"
   ]
  },
  {
   "cell_type": "code",
   "execution_count": 41,
   "id": "1acf5828",
   "metadata": {},
   "outputs": [],
   "source": [
    "###############################"
   ]
  },
  {
   "cell_type": "code",
   "execution_count": 40,
   "id": "0d6870c1",
   "metadata": {},
   "outputs": [],
   "source": [
    "with open('file3.txt' , 'w') as f:\n",
    "    l1= \"Welcome to PW Skills\\n\"\n",
    "    l2=\"You can do multiple online courses\\n\"\n",
    "    l3=\"Thank You!\"\n",
    "    f.writelines([l1,l2,l3])"
   ]
  },
  {
   "cell_type": "code",
   "execution_count": 44,
   "id": "eea127b9",
   "metadata": {},
   "outputs": [],
   "source": [
    "f=open(\"file3.txt\", 'r')"
   ]
  },
  {
   "cell_type": "code",
   "execution_count": 45,
   "id": "87d93926",
   "metadata": {},
   "outputs": [
    {
     "data": {
      "text/plain": [
       "'Welcome to PW Skills\\nYou can do multiple online courses\\nThank You!'"
      ]
     },
     "execution_count": 45,
     "metadata": {},
     "output_type": "execute_result"
    }
   ],
   "source": [
    "f.read()"
   ]
  },
  {
   "cell_type": "code",
   "execution_count": 55,
   "id": "0237320a",
   "metadata": {},
   "outputs": [],
   "source": [
    "f1 =open(\"file3.txt\", 'r')\n",
    "f1.close()"
   ]
  },
  {
   "cell_type": "code",
   "execution_count": 53,
   "id": "8b95f18a",
   "metadata": {},
   "outputs": [
    {
     "data": {
      "text/plain": [
       "'Welcome to'"
      ]
     },
     "execution_count": 53,
     "metadata": {},
     "output_type": "execute_result"
    }
   ],
   "source": [
    "f1.readline(10)"
   ]
  },
  {
   "cell_type": "code",
   "execution_count": 54,
   "id": "901ec082",
   "metadata": {},
   "outputs": [
    {
     "data": {
      "text/plain": [
       "['Welcome to PW Skills\\n',\n",
       " 'You can do multiple online courses\\n',\n",
       " 'Thank You!']"
      ]
     },
     "execution_count": 54,
     "metadata": {},
     "output_type": "execute_result"
    }
   ],
   "source": [
    "f2 =open(\"file3.txt\", 'r')\n",
    "f2.readlines()"
   ]
  },
  {
   "cell_type": "markdown",
   "id": "bde0e2b4",
   "metadata": {},
   "source": [
    "# Q5. Explain why with statement is used with open(). What is the advantage of using with statement and open() together?"
   ]
  },
  {
   "cell_type": "code",
   "execution_count": 56,
   "id": "4f809c01",
   "metadata": {},
   "outputs": [],
   "source": [
    "# While using \"with\" statement with open, there is no need to call file.close()\n",
    "# The with statement itself ensures proper acquisition and release of resources."
   ]
  },
  {
   "cell_type": "markdown",
   "id": "6fea91d6",
   "metadata": {},
   "source": [
    "\n",
    "# Q6. Explain the write() and writelines() functions. Give a suitable example."
   ]
  },
  {
   "cell_type": "code",
   "execution_count": 59,
   "id": "92f59114",
   "metadata": {},
   "outputs": [],
   "source": [
    "# write() is used to write a string to an already opened file \n",
    "# while writelines() method is used to write a list of strings in an opened file."
   ]
  },
  {
   "cell_type": "code",
   "execution_count": 61,
   "id": "c248363f",
   "metadata": {},
   "outputs": [],
   "source": [
    "file1 = open(\"file1.txt\", 'w')\n",
    "file1.write(\"My name is Samar Khan living in UP.\"\n",
    "             )\n",
    "file1.close()"
   ]
  },
  {
   "cell_type": "code",
   "execution_count": 70,
   "id": "1381cbff",
   "metadata": {},
   "outputs": [],
   "source": [
    "file2 = open(\"file4.txt\", 'w')\n",
    "file2.writelines([\"Doing DS course\", \"from PW skills\"])\n",
    "file2.close()"
   ]
  },
  {
   "cell_type": "code",
   "execution_count": 71,
   "id": "c49dc78a",
   "metadata": {},
   "outputs": [],
   "source": [
    "file2 = open(\"file4.txt\",'r')\n"
   ]
  },
  {
   "cell_type": "code",
   "execution_count": 72,
   "id": "7a098204",
   "metadata": {},
   "outputs": [
    {
     "data": {
      "text/plain": [
       "'Doing DS coursefrom PW skills'"
      ]
     },
     "execution_count": 72,
     "metadata": {},
     "output_type": "execute_result"
    }
   ],
   "source": [
    "file2.read()"
   ]
  },
  {
   "cell_type": "code",
   "execution_count": null,
   "id": "0f9161b3",
   "metadata": {},
   "outputs": [],
   "source": []
  }
 ],
 "metadata": {
  "kernelspec": {
   "display_name": "Python 3",
   "language": "python",
   "name": "python3"
  },
  "language_info": {
   "codemirror_mode": {
    "name": "ipython",
    "version": 3
   },
   "file_extension": ".py",
   "mimetype": "text/x-python",
   "name": "python",
   "nbconvert_exporter": "python",
   "pygments_lexer": "ipython3",
   "version": "3.8.8"
  }
 },
 "nbformat": 4,
 "nbformat_minor": 5
}
