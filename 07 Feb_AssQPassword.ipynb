{
 "cells": [
  {
   "cell_type": "markdown",
   "id": "cf557e7b",
   "metadata": {},
   "source": [
    "# Q1. You are writing code for a company. The requirement of the company is that you create a python function that will check whether the password entered by the user is correct or not. The function shouldtake the password as input and return the string “Valid Password” if the entered password follows thebelow-given password guidelines else it should return “Invalid Password”.\n",
    "Note: \n",
    "1. The Password should contain at least two uppercase letters and at least two lowercase letters.\n",
    "2. The Password should contain at least a number and three special characters.\n",
    "3. The length of the password should be 10 characters long."
   ]
  },
  {
   "cell_type": "code",
   "execution_count": 13,
   "id": "4e36b93b",
   "metadata": {},
   "outputs": [],
   "source": [
    "\n",
    "\n",
    "def password_check(input_password):\n",
    "    u , l , s , d = 0,0,0,0\n",
    "    digits=\"0123456789\"\n",
    "    if (len(input_password) >= 10):\n",
    "        for i in input_password:\n",
    "            #counting upper case\n",
    "            if (i.isupper()):\n",
    "                u+=1\n",
    "            #counting lower case\n",
    "            if (i.islower()):\n",
    "                l+=1\n",
    "            \n",
    "            #counting digits\n",
    "            if (i.isdigit()):\n",
    "                d+=1\n",
    "            #counting special characters\n",
    "            if(i=='@'or i=='$' or i=='_'):\n",
    "                s+=1\n",
    "    if (u>=2 and l>=2 and d>=1 and s>=3 and u+l+s+d==len(input_password)):\n",
    "        return \"Valid Password\"\n",
    "    else:\n",
    "        return \"Invalid Password\"\n",
    "    \n",
    "                \n",
    "            \n",
    "                \n",
    "            \n",
    "    "
   ]
  },
  {
   "cell_type": "code",
   "execution_count": 14,
   "id": "995ab180",
   "metadata": {},
   "outputs": [
    {
     "data": {
      "text/plain": [
       "'Valid Password'"
      ]
     },
     "execution_count": 14,
     "metadata": {},
     "output_type": "execute_result"
    }
   ],
   "source": [
    "password_check('dsAA@_$8hhhhh')"
   ]
  },
  {
   "cell_type": "code",
   "execution_count": 15,
   "id": "e92f5b3f",
   "metadata": {},
   "outputs": [
    {
     "data": {
      "text/plain": [
       "'Invalid Password'"
      ]
     },
     "execution_count": 15,
     "metadata": {},
     "output_type": "execute_result"
    }
   ],
   "source": [
    "password_check('xX@_8jj')"
   ]
  },
  {
   "cell_type": "markdown",
   "id": "994b3c90",
   "metadata": {},
   "source": [
    "# Q2. Solve the below-given questions using at least one of the following: \n",
    "\n",
    "1. Lambda functioJ\n",
    "2. Filter functioJ\n",
    "3. Zap functioJ\n",
    "4. List Comprehension"
   ]
  },
  {
   "cell_type": "code",
   "execution_count": 20,
   "id": "e4b2cb3d",
   "metadata": {},
   "outputs": [
    {
     "data": {
      "text/plain": [
       "True"
      ]
     },
     "execution_count": 20,
     "metadata": {},
     "output_type": "execute_result"
    }
   ],
   "source": [
    "# Check if the string starts with a particular letter\n",
    "pchar=(lambda x,y : x[0] == y)('Python', 'P')\n",
    "pchar"
   ]
  },
  {
   "cell_type": "code",
   "execution_count": 44,
   "id": "681fab2c",
   "metadata": {},
   "outputs": [
    {
     "name": "stdout",
     "output_type": "stream",
     "text": [
      "True\n"
     ]
    }
   ],
   "source": [
    "#Check if the string is numeric\n",
    "print((lambda x: x.isnumeric())('778'))\n"
   ]
  },
  {
   "cell_type": "code",
   "execution_count": 47,
   "id": "266b2949",
   "metadata": {},
   "outputs": [
    {
     "data": {
      "text/plain": [
       "[('orange', 80), ('mango', 99), ('grapes', 1000)]"
      ]
     },
     "execution_count": 47,
     "metadata": {},
     "output_type": "execute_result"
    }
   ],
   "source": [
    "#Sort a list of tuples having fruit names and their quantity. [(\"mango\",99),(\"orange\",80), (\"grapes\", 1000)]\n",
    "old_list = [(\"mango\",99),(\"orange\",80), (\"grapes\", 1000)]\n",
    "sorted_list=sorted(old_list,key=lambda x:x[1],reverse=False)\n",
    "sorted_list"
   ]
  },
  {
   "cell_type": "code",
   "execution_count": 49,
   "id": "06fdb9c8",
   "metadata": {},
   "outputs": [
    {
     "data": {
      "text/plain": [
       "[1, 4, 9, 16, 25, 36, 49, 64, 81, 100]"
      ]
     },
     "execution_count": 49,
     "metadata": {},
     "output_type": "execute_result"
    }
   ],
   "source": [
    "# Find the squares of numbers from 1 to 10\n",
    "list(map(lambda x: x**2,range(1,11)))"
   ]
  },
  {
   "cell_type": "code",
   "execution_count": 50,
   "id": "4f5a0299",
   "metadata": {},
   "outputs": [
    {
     "data": {
      "text/plain": [
       "[1, 8, 27, 64, 125, 216, 343, 512, 729, 1000]"
      ]
     },
     "execution_count": 50,
     "metadata": {},
     "output_type": "execute_result"
    }
   ],
   "source": [
    "#Find the cube root of numbers from 1 to 10\n",
    "list(map(lambda x: x**3,range(1,11)))"
   ]
  },
  {
   "cell_type": "code",
   "execution_count": 58,
   "id": "b0a5c69a",
   "metadata": {},
   "outputs": [
    {
     "name": "stdout",
     "output_type": "stream",
     "text": [
      "True\n"
     ]
    }
   ],
   "source": [
    "#Check if a given number is even\n",
    "print((lambda x:x%2==0)(10))\n"
   ]
  },
  {
   "cell_type": "code",
   "execution_count": 60,
   "id": "8118d649",
   "metadata": {},
   "outputs": [
    {
     "data": {
      "text/plain": [
       "[1, 3, 5, 7, 9]"
      ]
     },
     "execution_count": 60,
     "metadata": {},
     "output_type": "execute_result"
    }
   ],
   "source": [
    "#Filter odd numbers from the given list.\n",
    "list1=[1,2,3,4,5,6,7,8,9,10]\n",
    "list(filter(lambda x:x%2==1,list1))"
   ]
  },
  {
   "cell_type": "code",
   "execution_count": 68,
   "id": "247e651c",
   "metadata": {},
   "outputs": [
    {
     "data": {
      "text/plain": [
       "[-1, -2, -3, -4, -5]"
      ]
     },
     "execution_count": 68,
     "metadata": {},
     "output_type": "execute_result"
    }
   ],
   "source": [
    "#Sort a list of integers into positive and negative integers lists.\n",
    "\n",
    "list2=[1,2,3,4,5,6,-1,-2,-3,-4,-5,0]\n",
    "list(filter(lambda x:x<0,list2))\n"
   ]
  },
  {
   "cell_type": "code",
   "execution_count": 69,
   "id": "d2ef3f80",
   "metadata": {},
   "outputs": [
    {
     "data": {
      "text/plain": [
       "[1, 2, 3, 4, 5, 6, 0]"
      ]
     },
     "execution_count": 69,
     "metadata": {},
     "output_type": "execute_result"
    }
   ],
   "source": [
    "list(filter(lambda x:x>=0,list2))"
   ]
  },
  {
   "cell_type": "code",
   "execution_count": null,
   "id": "07adf4b7",
   "metadata": {},
   "outputs": [],
   "source": []
  }
 ],
 "metadata": {
  "kernelspec": {
   "display_name": "Python 3",
   "language": "python",
   "name": "python3"
  },
  "language_info": {
   "codemirror_mode": {
    "name": "ipython",
    "version": 3
   },
   "file_extension": ".py",
   "mimetype": "text/x-python",
   "name": "python",
   "nbconvert_exporter": "python",
   "pygments_lexer": "ipython3",
   "version": "3.8.8"
  }
 },
 "nbformat": 4,
 "nbformat_minor": 5
}
