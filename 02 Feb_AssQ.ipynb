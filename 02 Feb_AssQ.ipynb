{
 "cells": [
  {
   "cell_type": "markdown",
   "id": "39ccda1b",
   "metadata": {},
   "source": [
    "#    Q1. What are the characteristics of the tuples? Is tuple immutable?\n",
    "    A1. A tuple is collection of multiple items is ordered and unchangeable.Also allowed duplicates Yes tuple is immutable.\n"
   ]
  },
  {
   "cell_type": "markdown",
   "id": "908219b2",
   "metadata": {},
   "source": [
    "# Q2. What are the two tuple methods in python? Give an example of each method. Give a reason why tuples have only two in-built methods as compared to Lists.\n",
    "A2. count and index."
   ]
  },
  {
   "cell_type": "code",
   "execution_count": null,
   "id": "6d0cd8ad",
   "metadata": {},
   "outputs": [],
   "source": [
    "## Count "
   ]
  },
  {
   "cell_type": "code",
   "execution_count": 7,
   "id": "f718b163",
   "metadata": {},
   "outputs": [],
   "source": [
    "tuple1=(\"s\",'d',3,'s',\"s\",True,3,3,4,5,3)"
   ]
  },
  {
   "cell_type": "code",
   "execution_count": 8,
   "id": "4f9d5968",
   "metadata": {},
   "outputs": [
    {
     "data": {
      "text/plain": [
       "('s', 'd', 3, 's', 's', True, 3, 3, 4, 5, 3)"
      ]
     },
     "execution_count": 8,
     "metadata": {},
     "output_type": "execute_result"
    }
   ],
   "source": [
    "tuple1"
   ]
  },
  {
   "cell_type": "code",
   "execution_count": 9,
   "id": "3c0f1fcc",
   "metadata": {},
   "outputs": [
    {
     "data": {
      "text/plain": [
       "4"
      ]
     },
     "execution_count": 9,
     "metadata": {},
     "output_type": "execute_result"
    }
   ],
   "source": [
    "tuple1.count(3)"
   ]
  },
  {
   "cell_type": "code",
   "execution_count": null,
   "id": "39524b16",
   "metadata": {},
   "outputs": [],
   "source": [
    "##Index"
   ]
  },
  {
   "cell_type": "code",
   "execution_count": 10,
   "id": "38a2ae19",
   "metadata": {},
   "outputs": [
    {
     "data": {
      "text/plain": [
       "6"
      ]
     },
     "execution_count": 10,
     "metadata": {},
     "output_type": "execute_result"
    }
   ],
   "source": [
    "tuple1.index(3,4,10)"
   ]
  },
  {
   "cell_type": "markdown",
   "id": "e5a16e02",
   "metadata": {},
   "source": [
    "# Q3.  Which collection datatypes in python do not allow duplicate items? Write a code using a set to remove duplicates from the given list\n",
    "List = [1, 1, 1, 2, 1, 3, 1, 4, 2, 1, 2, 2, 2, 3, 2, 4, 3, 1, 3, 2, 3, 3, 3, 4, 4, 1, 4, 2, 4, 3, 4, 4]"
   ]
  },
  {
   "cell_type": "code",
   "execution_count": 11,
   "id": "6c7c74c1",
   "metadata": {},
   "outputs": [],
   "source": [
    "Ans #Set do not allow duplicate items."
   ]
  },
  {
   "cell_type": "code",
   "execution_count": 13,
   "id": "1a81ade3",
   "metadata": {},
   "outputs": [],
   "source": [
    "List1 = [1, 1, 1, 2, 1, 3, 1, 4, 2, 1, 2, 2, 2, 3, 2, 4, 3, 1, 3, 2, 3, 3, 3, 4, 4, 1, 4, 2, 4, 3, 4, 4]"
   ]
  },
  {
   "cell_type": "code",
   "execution_count": 16,
   "id": "8e44ef0d",
   "metadata": {},
   "outputs": [],
   "source": [
    "set1=set(List1)"
   ]
  },
  {
   "cell_type": "code",
   "execution_count": 17,
   "id": "66d46e24",
   "metadata": {},
   "outputs": [
    {
     "data": {
      "text/plain": [
       "{1, 2, 3, 4}"
      ]
     },
     "execution_count": 17,
     "metadata": {},
     "output_type": "execute_result"
    }
   ],
   "source": [
    "set1"
   ]
  },
  {
   "cell_type": "markdown",
   "id": "cf6080df",
   "metadata": {},
   "source": [
    "# Q4. Explain the difference between the union() and update() methods for a set. Give an example of each method"
   ]
  },
  {
   "cell_type": "code",
   "execution_count": 18,
   "id": "528a52aa",
   "metadata": {},
   "outputs": [],
   "source": [
    "# The union of two sets is a set of all elements, without duplicates contained in either or both of the sets while update() method is used to add multiple components."
   ]
  },
  {
   "cell_type": "code",
   "execution_count": 19,
   "id": "bb82d177",
   "metadata": {},
   "outputs": [],
   "source": [
    "# Defining the two sets\n",
    "first_set = {1, 5, 7, 4, 5}\n",
    "second_set = {4, 5, 6, 7, 8}"
   ]
  },
  {
   "cell_type": "code",
   "execution_count": 20,
   "id": "b19d7ede",
   "metadata": {},
   "outputs": [],
   "source": [
    "# Creating the union of the two sets\n",
    "new_set = first_set.union(second_set)"
   ]
  },
  {
   "cell_type": "code",
   "execution_count": 21,
   "id": "19cb2780",
   "metadata": {},
   "outputs": [
    {
     "data": {
      "text/plain": [
       "{1, 4, 5, 6, 7, 8}"
      ]
     },
     "execution_count": 21,
     "metadata": {},
     "output_type": "execute_result"
    }
   ],
   "source": [
    "new_set"
   ]
  },
  {
   "cell_type": "code",
   "execution_count": 22,
   "id": "24c24619",
   "metadata": {},
   "outputs": [],
   "source": [
    "my_set = {11, 60}"
   ]
  },
  {
   "cell_type": "code",
   "execution_count": 23,
   "id": "aa7f1746",
   "metadata": {},
   "outputs": [],
   "source": [
    "my_set.update([20, 13, 8])"
   ]
  },
  {
   "cell_type": "code",
   "execution_count": 24,
   "id": "64de6cf8",
   "metadata": {},
   "outputs": [
    {
     "name": "stdout",
     "output_type": "stream",
     "text": [
      "{8, 11, 13, 20, 60}\n"
     ]
    }
   ],
   "source": [
    "print(my_set)"
   ]
  },
  {
   "cell_type": "markdown",
   "id": "3e9ec88f",
   "metadata": {},
   "source": [
    "# Q5. What is a dictionary? Give an example. Also, state whether a dictionary is ordered or unordered"
   ]
  },
  {
   "cell_type": "code",
   "execution_count": 25,
   "id": "51151f78",
   "metadata": {},
   "outputs": [],
   "source": [
    "# Dictionaries are used to store data values in key:value pairs. A dictionary is a collection which is ordered, changeable and do not allow duplivates."
   ]
  },
  {
   "cell_type": "markdown",
   "id": "6e92a3a4",
   "metadata": {},
   "source": [
    "# Q6. Can we create a nested dictionary? If so, please give an example by creating a simple one-level nested dictionary."
   ]
  },
  {
   "cell_type": "code",
   "execution_count": 27,
   "id": "b6ec0b2d",
   "metadata": {},
   "outputs": [],
   "source": [
    "#Yes we can create nested dictionary."
   ]
  },
  {
   "cell_type": "code",
   "execution_count": 34,
   "id": "bc820094",
   "metadata": {},
   "outputs": [],
   "source": [
    "myFamily = {\n",
    "        \"child1\":{\n",
    "        \"name\":\"John\", \n",
    "        \"DOB\":2002\n",
    "    },\n",
    "        \"child2\":{\n",
    "        \"name\":\"Linus\",\n",
    "        \"DOB\":2004\n",
    "    }\n",
    "}"
   ]
  },
  {
   "cell_type": "code",
   "execution_count": 35,
   "id": "5977b25e",
   "metadata": {},
   "outputs": [
    {
     "data": {
      "text/plain": [
       "{'child1': {'name': 'John', 'DOB': 2002},\n",
       " 'child2': {'name': 'Linus', 'DOB': 2004}}"
      ]
     },
     "execution_count": 35,
     "metadata": {},
     "output_type": "execute_result"
    }
   ],
   "source": [
    "myFamily"
   ]
  },
  {
   "cell_type": "markdown",
   "id": "71216531",
   "metadata": {},
   "source": [
    "# Q7. Using setdefault() method, create key named topics in the given dictionary and also add the value of the key as this list ['Python', 'Machine Learning’, 'Deep Learning']\n",
    "dict1 = {'language' : 'Python', 'course': 'Data Science Masters'}"
   ]
  },
  {
   "cell_type": "code",
   "execution_count": 36,
   "id": "b2cf4120",
   "metadata": {},
   "outputs": [],
   "source": [
    "# Ans"
   ]
  },
  {
   "cell_type": "code",
   "execution_count": 37,
   "id": "7cc80f78",
   "metadata": {},
   "outputs": [],
   "source": [
    "dict1={'language':\"python\", \"course\":\"Data Science Masters\"}"
   ]
  },
  {
   "cell_type": "code",
   "execution_count": 38,
   "id": "7e5ac799",
   "metadata": {},
   "outputs": [
    {
     "data": {
      "text/plain": [
       "{'language': 'python', 'course': 'Data Science Masters'}"
      ]
     },
     "execution_count": 38,
     "metadata": {},
     "output_type": "execute_result"
    }
   ],
   "source": [
    "dict1"
   ]
  },
  {
   "cell_type": "code",
   "execution_count": 39,
   "id": "a3b52fdb",
   "metadata": {},
   "outputs": [
    {
     "data": {
      "text/plain": [
       "['Python', 'Machine Learning', 'Deep Learning']"
      ]
     },
     "execution_count": 39,
     "metadata": {},
     "output_type": "execute_result"
    }
   ],
   "source": [
    "dict1.setdefault('Topics',['Python','Machine Learning','Deep Learning'])"
   ]
  },
  {
   "cell_type": "code",
   "execution_count": 40,
   "id": "385c6dd3",
   "metadata": {},
   "outputs": [
    {
     "data": {
      "text/plain": [
       "{'language': 'python',\n",
       " 'course': 'Data Science Masters',\n",
       " 'Topics': ['Python', 'Machine Learning', 'Deep Learning']}"
      ]
     },
     "execution_count": 40,
     "metadata": {},
     "output_type": "execute_result"
    }
   ],
   "source": [
    "dict1"
   ]
  },
  {
   "cell_type": "markdown",
   "id": "ef0324a7",
   "metadata": {},
   "source": [
    "# Q8. What are the three view objects in dictionaries? Use the three in-built methods in python to display these three view objects for the given dictionary.\n",
    "\n",
    "\n",
    "dict1 = {'Sport': 'Cricket' , 'Teams': ['India', 'Australia', 'England', 'South Africa', 'Sri Lanka', 'New Zealand']}"
   ]
  },
  {
   "cell_type": "code",
   "execution_count": 41,
   "id": "821fc3e3",
   "metadata": {},
   "outputs": [],
   "source": [
    "# Ans. The main view objects of dictionary in python are keys, values and items."
   ]
  },
  {
   "cell_type": "code",
   "execution_count": null,
   "id": "ca6043af",
   "metadata": {},
   "outputs": [],
   "source": []
  },
  {
   "cell_type": "code",
   "execution_count": 42,
   "id": "0460bdcd",
   "metadata": {},
   "outputs": [],
   "source": [
    "dict1 = {'Sport': 'Cricket' , 'Teams': ['India', 'Australia', 'England', 'South Africa', 'Sri Lanka', 'New Zealand']}"
   ]
  },
  {
   "cell_type": "code",
   "execution_count": null,
   "id": "abb53e73",
   "metadata": {},
   "outputs": [],
   "source": [
    "# Keys"
   ]
  },
  {
   "cell_type": "code",
   "execution_count": 43,
   "id": "56c450e7",
   "metadata": {},
   "outputs": [],
   "source": [
    "k = dict1.keys()"
   ]
  },
  {
   "cell_type": "code",
   "execution_count": 44,
   "id": "1e8bd0b5",
   "metadata": {},
   "outputs": [
    {
     "name": "stdout",
     "output_type": "stream",
     "text": [
      "dict_keys(['Sport', 'Teams'])\n"
     ]
    }
   ],
   "source": [
    "print(k)"
   ]
  },
  {
   "cell_type": "code",
   "execution_count": 45,
   "id": "f5286910",
   "metadata": {},
   "outputs": [
    {
     "name": "stdout",
     "output_type": "stream",
     "text": [
      "<class 'dict_keys'>\n"
     ]
    }
   ],
   "source": [
    "print(type(k))"
   ]
  },
  {
   "cell_type": "code",
   "execution_count": 46,
   "id": "4d6bd618",
   "metadata": {},
   "outputs": [],
   "source": [
    "# Values"
   ]
  },
  {
   "cell_type": "code",
   "execution_count": 47,
   "id": "17af1963",
   "metadata": {},
   "outputs": [
    {
     "name": "stdout",
     "output_type": "stream",
     "text": [
      "dict_values(['Cricket', ['India', 'Australia', 'England', 'South Africa', 'Sri Lanka', 'New Zealand']])\n",
      "<class 'dict_values'>\n"
     ]
    }
   ],
   "source": [
    "v=dict1.values()\n",
    "print(v)\n",
    "print(type(v))"
   ]
  },
  {
   "cell_type": "code",
   "execution_count": 48,
   "id": "c881a2e6",
   "metadata": {},
   "outputs": [],
   "source": [
    "# Items"
   ]
  },
  {
   "cell_type": "code",
   "execution_count": 49,
   "id": "69928c25",
   "metadata": {},
   "outputs": [
    {
     "name": "stdout",
     "output_type": "stream",
     "text": [
      "dict_items([('Sport', 'Cricket'), ('Teams', ['India', 'Australia', 'England', 'South Africa', 'Sri Lanka', 'New Zealand'])])\n",
      "<class 'dict_items'>\n"
     ]
    }
   ],
   "source": [
    "i=dict1.items()\n",
    "print(i)\n",
    "print(type(i))"
   ]
  },
  {
   "cell_type": "code",
   "execution_count": 50,
   "id": "950bf097",
   "metadata": {},
   "outputs": [],
   "source": [
    "import os"
   ]
  },
  {
   "cell_type": "code",
   "execution_count": null,
   "id": "e5f011e3",
   "metadata": {},
   "outputs": [],
   "source": []
  }
 ],
 "metadata": {
  "kernelspec": {
   "display_name": "Python 3",
   "language": "python",
   "name": "python3"
  },
  "language_info": {
   "codemirror_mode": {
    "name": "ipython",
    "version": 3
   },
   "file_extension": ".py",
   "mimetype": "text/x-python",
   "name": "python",
   "nbconvert_exporter": "python",
   "pygments_lexer": "ipython3",
   "version": "3.8.8"
  }
 },
 "nbformat": 4,
 "nbformat_minor": 5
}
